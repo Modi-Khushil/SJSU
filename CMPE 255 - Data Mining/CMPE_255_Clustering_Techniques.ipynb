{
  "nbformat": 4,
  "nbformat_minor": 0,
  "metadata": {
    "colab": {
      "name": "CMPE-255 Clustering Techniques.ipynb",
      "provenance": [],
      "collapsed_sections": [
        "ygmKuDKPdwbl"
      ],
      "toc_visible": true,
      "authorship_tag": "ABX9TyPqDOLvJMK4jiwYSNUyRGzk",
      "include_colab_link": true
    },
    "kernelspec": {
      "name": "python3",
      "display_name": "Python 3"
    },
    "language_info": {
      "name": "python"
    },
    "widgets": {
      "application/vnd.jupyter.widget-state+json": {
        "6944b7d481e14afc806beaa139b4cacd": {
          "model_module": "@jupyter-widgets/controls",
          "model_name": "IntProgressModel",
          "model_module_version": "1.5.0",
          "state": {
            "_view_name": "ProgressView",
            "style": "IPY_MODEL_a0b6a1c5a75941cbabfebc8a4c342161",
            "_dom_classes": [],
            "description": "Processing: ",
            "_model_name": "IntProgressModel",
            "bar_style": "",
            "max": 3,
            "_view_module": "@jupyter-widgets/controls",
            "_model_module_version": "1.5.0",
            "value": 3,
            "_view_count": null,
            "_view_module_version": "1.5.0",
            "orientation": "horizontal",
            "min": 0,
            "description_tooltip": null,
            "_model_module": "@jupyter-widgets/controls",
            "layout": "IPY_MODEL_0bb825f2da194af38386726aaaa9075e"
          }
        },
        "a0b6a1c5a75941cbabfebc8a4c342161": {
          "model_module": "@jupyter-widgets/controls",
          "model_name": "ProgressStyleModel",
          "model_module_version": "1.5.0",
          "state": {
            "_view_name": "StyleView",
            "_model_name": "ProgressStyleModel",
            "description_width": "",
            "_view_module": "@jupyter-widgets/base",
            "_model_module_version": "1.5.0",
            "_view_count": null,
            "_view_module_version": "1.2.0",
            "bar_color": null,
            "_model_module": "@jupyter-widgets/controls"
          }
        },
        "0bb825f2da194af38386726aaaa9075e": {
          "model_module": "@jupyter-widgets/base",
          "model_name": "LayoutModel",
          "model_module_version": "1.2.0",
          "state": {
            "_view_name": "LayoutView",
            "grid_template_rows": null,
            "right": null,
            "justify_content": null,
            "_view_module": "@jupyter-widgets/base",
            "overflow": null,
            "_model_module_version": "1.2.0",
            "_view_count": null,
            "flex_flow": null,
            "width": null,
            "min_width": null,
            "border": null,
            "align_items": null,
            "bottom": null,
            "_model_module": "@jupyter-widgets/base",
            "top": null,
            "grid_column": null,
            "overflow_y": null,
            "overflow_x": null,
            "grid_auto_flow": null,
            "grid_area": null,
            "grid_template_columns": null,
            "flex": null,
            "_model_name": "LayoutModel",
            "justify_items": null,
            "grid_row": null,
            "max_height": null,
            "align_content": null,
            "visibility": null,
            "align_self": null,
            "height": null,
            "min_height": null,
            "padding": null,
            "grid_auto_rows": null,
            "grid_gap": null,
            "max_width": null,
            "order": null,
            "_view_module_version": "1.2.0",
            "grid_template_areas": null,
            "object_position": null,
            "object_fit": null,
            "grid_auto_columns": null,
            "margin": null,
            "display": null,
            "left": null
          }
        },
        "e43f50d3ec454551a65adb1689d7afbd": {
          "model_module": "@jupyter-widgets/controls",
          "model_name": "TextModel",
          "model_module_version": "1.5.0",
          "state": {
            "_view_name": "TextView",
            "style": "IPY_MODEL_dcc9e4672fcf4d7c8229704b9fda7260",
            "_dom_classes": [],
            "description": "",
            "_model_name": "TextModel",
            "placeholder": "​",
            "_view_module": "@jupyter-widgets/controls",
            "_model_module_version": "1.5.0",
            "value": "Following data types have been inferred automatically, if they are correct press enter to continue or type 'quit' otherwise.",
            "_view_count": null,
            "disabled": false,
            "_view_module_version": "1.5.0",
            "continuous_update": true,
            "description_tooltip": null,
            "_model_module": "@jupyter-widgets/controls",
            "layout": "IPY_MODEL_5ebce134ea1c4a5ab35ccf91e9345c68"
          }
        },
        "dcc9e4672fcf4d7c8229704b9fda7260": {
          "model_module": "@jupyter-widgets/controls",
          "model_name": "DescriptionStyleModel",
          "model_module_version": "1.5.0",
          "state": {
            "_view_name": "StyleView",
            "_model_name": "DescriptionStyleModel",
            "description_width": "",
            "_view_module": "@jupyter-widgets/base",
            "_model_module_version": "1.5.0",
            "_view_count": null,
            "_view_module_version": "1.2.0",
            "_model_module": "@jupyter-widgets/controls"
          }
        },
        "5ebce134ea1c4a5ab35ccf91e9345c68": {
          "model_module": "@jupyter-widgets/base",
          "model_name": "LayoutModel",
          "model_module_version": "1.2.0",
          "state": {
            "_view_name": "LayoutView",
            "grid_template_rows": null,
            "right": null,
            "justify_content": null,
            "_view_module": "@jupyter-widgets/base",
            "overflow": null,
            "_model_module_version": "1.2.0",
            "_view_count": null,
            "flex_flow": null,
            "width": "100%",
            "min_width": null,
            "border": null,
            "align_items": null,
            "bottom": null,
            "_model_module": "@jupyter-widgets/base",
            "top": null,
            "grid_column": null,
            "overflow_y": null,
            "overflow_x": null,
            "grid_auto_flow": null,
            "grid_area": null,
            "grid_template_columns": null,
            "flex": null,
            "_model_name": "LayoutModel",
            "justify_items": null,
            "grid_row": null,
            "max_height": null,
            "align_content": null,
            "visibility": null,
            "align_self": null,
            "height": null,
            "min_height": null,
            "padding": null,
            "grid_auto_rows": null,
            "grid_gap": null,
            "max_width": null,
            "order": null,
            "_view_module_version": "1.2.0",
            "grid_template_areas": null,
            "object_position": null,
            "object_fit": null,
            "grid_auto_columns": null,
            "margin": null,
            "display": null,
            "left": null
          }
        },
        "eef925b731a84cce80a796a484b223bf": {
          "model_module": "@jupyter-widgets/controls",
          "model_name": "IntProgressModel",
          "model_module_version": "1.5.0",
          "state": {
            "_view_name": "ProgressView",
            "style": "IPY_MODEL_f3c7dcd29df043ee89ba9884bf9fc9c6",
            "_dom_classes": [],
            "description": "Processing: ",
            "_model_name": "IntProgressModel",
            "bar_style": "",
            "max": 3,
            "_view_module": "@jupyter-widgets/controls",
            "_model_module_version": "1.5.0",
            "value": 3,
            "_view_count": null,
            "_view_module_version": "1.5.0",
            "orientation": "horizontal",
            "min": 0,
            "description_tooltip": null,
            "_model_module": "@jupyter-widgets/controls",
            "layout": "IPY_MODEL_cab95d0e990f44fb8d0acdbdff9ef8ef"
          }
        },
        "f3c7dcd29df043ee89ba9884bf9fc9c6": {
          "model_module": "@jupyter-widgets/controls",
          "model_name": "ProgressStyleModel",
          "model_module_version": "1.5.0",
          "state": {
            "_view_name": "StyleView",
            "_model_name": "ProgressStyleModel",
            "description_width": "",
            "_view_module": "@jupyter-widgets/base",
            "_model_module_version": "1.5.0",
            "_view_count": null,
            "_view_module_version": "1.2.0",
            "bar_color": null,
            "_model_module": "@jupyter-widgets/controls"
          }
        },
        "cab95d0e990f44fb8d0acdbdff9ef8ef": {
          "model_module": "@jupyter-widgets/base",
          "model_name": "LayoutModel",
          "model_module_version": "1.2.0",
          "state": {
            "_view_name": "LayoutView",
            "grid_template_rows": null,
            "right": null,
            "justify_content": null,
            "_view_module": "@jupyter-widgets/base",
            "overflow": null,
            "_model_module_version": "1.2.0",
            "_view_count": null,
            "flex_flow": null,
            "width": null,
            "min_width": null,
            "border": null,
            "align_items": null,
            "bottom": null,
            "_model_module": "@jupyter-widgets/base",
            "top": null,
            "grid_column": null,
            "overflow_y": null,
            "overflow_x": null,
            "grid_auto_flow": null,
            "grid_area": null,
            "grid_template_columns": null,
            "flex": null,
            "_model_name": "LayoutModel",
            "justify_items": null,
            "grid_row": null,
            "max_height": null,
            "align_content": null,
            "visibility": null,
            "align_self": null,
            "height": null,
            "min_height": null,
            "padding": null,
            "grid_auto_rows": null,
            "grid_gap": null,
            "max_width": null,
            "order": null,
            "_view_module_version": "1.2.0",
            "grid_template_areas": null,
            "object_position": null,
            "object_fit": null,
            "grid_auto_columns": null,
            "margin": null,
            "display": null,
            "left": null
          }
        },
        "9de968e251de43bb99e11b65f4a5c9f2": {
          "model_module": "@jupyter-widgets/controls",
          "model_name": "IntProgressModel",
          "model_module_version": "1.5.0",
          "state": {
            "_view_name": "ProgressView",
            "style": "IPY_MODEL_51bdfbf912354e5b8637d5fe23afe768",
            "_dom_classes": [],
            "description": "Processing: ",
            "_model_name": "IntProgressModel",
            "bar_style": "",
            "max": 5,
            "_view_module": "@jupyter-widgets/controls",
            "_model_module_version": "1.5.0",
            "value": 3,
            "_view_count": null,
            "_view_module_version": "1.5.0",
            "orientation": "horizontal",
            "min": 0,
            "description_tooltip": null,
            "_model_module": "@jupyter-widgets/controls",
            "layout": "IPY_MODEL_5d20455b73e24d2aa785a1f528320483"
          }
        },
        "51bdfbf912354e5b8637d5fe23afe768": {
          "model_module": "@jupyter-widgets/controls",
          "model_name": "ProgressStyleModel",
          "model_module_version": "1.5.0",
          "state": {
            "_view_name": "StyleView",
            "_model_name": "ProgressStyleModel",
            "description_width": "",
            "_view_module": "@jupyter-widgets/base",
            "_model_module_version": "1.5.0",
            "_view_count": null,
            "_view_module_version": "1.2.0",
            "bar_color": null,
            "_model_module": "@jupyter-widgets/controls"
          }
        },
        "5d20455b73e24d2aa785a1f528320483": {
          "model_module": "@jupyter-widgets/base",
          "model_name": "LayoutModel",
          "model_module_version": "1.2.0",
          "state": {
            "_view_name": "LayoutView",
            "grid_template_rows": null,
            "right": null,
            "justify_content": null,
            "_view_module": "@jupyter-widgets/base",
            "overflow": null,
            "_model_module_version": "1.2.0",
            "_view_count": null,
            "flex_flow": null,
            "width": null,
            "min_width": null,
            "border": null,
            "align_items": null,
            "bottom": null,
            "_model_module": "@jupyter-widgets/base",
            "top": null,
            "grid_column": null,
            "overflow_y": null,
            "overflow_x": null,
            "grid_auto_flow": null,
            "grid_area": null,
            "grid_template_columns": null,
            "flex": null,
            "_model_name": "LayoutModel",
            "justify_items": null,
            "grid_row": null,
            "max_height": null,
            "align_content": null,
            "visibility": null,
            "align_self": null,
            "height": null,
            "min_height": null,
            "padding": null,
            "grid_auto_rows": null,
            "grid_gap": null,
            "max_width": null,
            "order": null,
            "_view_module_version": "1.2.0",
            "grid_template_areas": null,
            "object_position": null,
            "object_fit": null,
            "grid_auto_columns": null,
            "margin": null,
            "display": null,
            "left": null
          }
        },
        "ae0e6429033e40a9a0a09b1b1e8742f5": {
          "model_module": "@jupyter-widgets/controls",
          "model_name": "VBoxModel",
          "model_module_version": "1.5.0",
          "state": {
            "_view_name": "VBoxView",
            "_dom_classes": [
              "widget-interact"
            ],
            "_model_name": "VBoxModel",
            "_view_module": "@jupyter-widgets/controls",
            "_model_module_version": "1.5.0",
            "_view_count": null,
            "_view_module_version": "1.5.0",
            "box_style": "",
            "layout": "IPY_MODEL_44407cbecec941f9a6db4e96e33f28b8",
            "_model_module": "@jupyter-widgets/controls",
            "children": [
              "IPY_MODEL_3de5da80d0914fe9b5d1e426f61595dc",
              "IPY_MODEL_fd78cb23b2f1425d846069743ee39723"
            ]
          }
        },
        "44407cbecec941f9a6db4e96e33f28b8": {
          "model_module": "@jupyter-widgets/base",
          "model_name": "LayoutModel",
          "model_module_version": "1.2.0",
          "state": {
            "_view_name": "LayoutView",
            "grid_template_rows": null,
            "right": null,
            "justify_content": null,
            "_view_module": "@jupyter-widgets/base",
            "overflow": null,
            "_model_module_version": "1.2.0",
            "_view_count": null,
            "flex_flow": null,
            "width": null,
            "min_width": null,
            "border": null,
            "align_items": null,
            "bottom": null,
            "_model_module": "@jupyter-widgets/base",
            "top": null,
            "grid_column": null,
            "overflow_y": null,
            "overflow_x": null,
            "grid_auto_flow": null,
            "grid_area": null,
            "grid_template_columns": null,
            "flex": null,
            "_model_name": "LayoutModel",
            "justify_items": null,
            "grid_row": null,
            "max_height": null,
            "align_content": null,
            "visibility": null,
            "align_self": null,
            "height": null,
            "min_height": null,
            "padding": null,
            "grid_auto_rows": null,
            "grid_gap": null,
            "max_width": null,
            "order": null,
            "_view_module_version": "1.2.0",
            "grid_template_areas": null,
            "object_position": null,
            "object_fit": null,
            "grid_auto_columns": null,
            "margin": null,
            "display": null,
            "left": null
          }
        },
        "3de5da80d0914fe9b5d1e426f61595dc": {
          "model_module": "@jupyter-widgets/controls",
          "model_name": "ToggleButtonsModel",
          "model_module_version": "1.5.0",
          "state": {
            "_options_labels": [
              "Cluster PCA Plot (2d)",
              "Cluster TSnE (3d)",
              "Elbow",
              "Silhouette",
              "Distance",
              "Distribution"
            ],
            "_view_name": "ToggleButtonsView",
            "style": "IPY_MODEL_80614176b0714011a8478cf815e7d344",
            "_dom_classes": [],
            "description": "Plot Type:",
            "_model_name": "ToggleButtonsModel",
            "tooltips": [],
            "index": 0,
            "button_style": "",
            "_view_module": "@jupyter-widgets/controls",
            "_model_module_version": "1.5.0",
            "_view_count": null,
            "disabled": false,
            "_view_module_version": "1.5.0",
            "icons": [
              ""
            ],
            "description_tooltip": null,
            "_model_module": "@jupyter-widgets/controls",
            "layout": "IPY_MODEL_7be4b133067542c3a6c7c1197cc038ec"
          }
        },
        "fd78cb23b2f1425d846069743ee39723": {
          "model_module": "@jupyter-widgets/output",
          "model_name": "OutputModel",
          "model_module_version": "1.0.0",
          "state": {
            "_view_name": "OutputView",
            "msg_id": "",
            "_dom_classes": [],
            "_model_name": "OutputModel",
            "outputs": [
              {
                "output_type": "display_data",
                "data": {
                  "text/html": "<html>\n<head><meta charset=\"utf-8\" /></head>\n<body>\n    <div>\n            <script src=\"https://cdnjs.cloudflare.com/ajax/libs/mathjax/2.7.5/MathJax.js?config=TeX-AMS-MML_SVG\"></script><script type=\"text/javascript\">if (window.MathJax) {MathJax.Hub.Config({SVG: {font: \"STIX-Web\"}});}</script>\n                <script type=\"text/javascript\">window.PlotlyConfig = {MathJaxConfig: 'local'};</script>\n        <script src=\"https://cdn.plot.ly/plotly-latest.min.js\"></script>    \n            <div id=\"b5c6267a-8253-4b05-913d-e5920d3fa074\" class=\"plotly-graph-div\" style=\"height:600px; width:100%;\"></div>\n            <script type=\"text/javascript\">\n                \n                    window.PLOTLYENV=window.PLOTLYENV || {};\n                    \n                if (document.getElementById(\"b5c6267a-8253-4b05-913d-e5920d3fa074\")) {\n                    Plotly.newPlot(\n                        'b5c6267a-8253-4b05-913d-e5920d3fa074',\n                        [{\"customdata\": [[7.7], [4.5], [7.6], [4.9], [6.7], [5.0], [4.9], [7.2], [5.1], [7.7], [6.1], [6.3], [6.2], [7.9], [7.7], [5.0], [7.7]], \"hoverlabel\": {\"namelength\": 0}, \"hovertemplate\": \"Cluster=Cluster -1<br>PCA1=%{x}<br>PCA2=%{y}<br>Feature=%{customdata[0]}\", \"legendgroup\": \"Cluster=Cluster -1\", \"marker\": {\"color\": \"#636efa\", \"opacity\": 0.5, \"symbol\": \"circle\"}, \"mode\": \"markers\", \"name\": \"Cluster=Cluster -1\", \"showlegend\": true, \"textposition\": \"top center\", \"type\": \"scatter\", \"x\": [3.4999186992645264, -2.84936785697937, 3.3970375061035156, 0.521233081817627, 2.321228504180908, -0.7045310139656067, -0.7491220235824585, 2.916750192642212, -0.9064692258834839, 3.0764987468719482, 1.7812947034835815, 0.8150949478149414, 0.9447335004806519, 3.2306721210479736, 3.487053632736206, -0.5078401565551758, 3.7956442832946777], \"xaxis\": \"x\", \"y\": [0.46067431569099426, -0.9409608244895935, 0.5508369207382202, -1.1927591562271118, -0.24383161962032318, -1.0122486352920532, -1.0048911571502686, 0.782791793346405, -0.7560936212539673, 0.6880859732627869, -0.49990198016166687, -0.372036874294281, -0.5431455969810486, 1.374165654182434, 1.1757395267486572, -1.2659715414047241, 0.2573230564594269], \"yaxis\": \"y\"}, {\"customdata\": [[5.0], [5.5], [4.9], [5.1], [5.0], [4.4], [4.8], [5.1], [5.1], [4.6], [5.3], [5.0], [4.9], [5.0], [5.5], [5.1], [5.4], [4.9], [4.7], [4.6], [5.0], [5.4], [4.6], [5.0], [4.4], [4.9], [5.4], [4.8], [5.2], [4.3], [5.8], [5.7], [4.8], [4.4], [5.0], [5.0], [5.4], [4.7], [4.8], [4.8], [5.2], [5.2], [4.6], [5.1], [5.4], [5.1], [5.7], [5.1], [5.1]], \"hoverlabel\": {\"namelength\": 0}, \"hovertemplate\": \"Cluster=Cluster 0<br>PCA1=%{x}<br>PCA2=%{y}<br>Feature=%{customdata[0]}\", \"legendgroup\": \"Cluster=Cluster 0\", \"marker\": {\"color\": \"#EF553B\", \"opacity\": 0.5, \"symbol\": \"circle\"}, \"mode\": \"markers\", \"name\": \"Cluster=Cluster 0\", \"showlegend\": true, \"textposition\": \"top center\", \"type\": \"scatter\", \"x\": [-2.866241455078125, -2.6252381801605225, -2.8006839752197266, -2.5900063514709473, -2.7701022624969482, -2.997405767440796, -2.7144510746002197, -2.209489107131958, -2.5381481647491455, -2.8394618034362793, -2.5430855751037598, -2.703359603881836, -2.6369266510009766, -2.405613899230957, -2.5987372398376465, -2.684122323989868, -2.4099323749542236, -2.714141845703125, -2.8889899253845215, -2.745342254638672, -2.7287163734436035, -2.2808597087860107, -2.8205370903015137, -2.6261448860168457, -2.8863821029663086, -2.672755718231201, -2.5069470405578613, -2.6127548217773438, -2.648862361907959, -3.2238025665283203, -2.6447505950927734, -2.3860392570495605, -2.78610897064209, -2.980501413345337, -2.4688198566436768, -2.5066683292388916, -2.623528003692627, -2.631989002227783, -2.587397813796997, -2.3557538986206055, -2.5623199939727783, -2.6395349502563477, -3.2159392833709717, -2.5437049865722656, -2.310256242752075, -2.587986469268799, -2.1998205184936523, -2.648296594619751, -2.3027327060699463], \"xaxis\": \"x\", \"y\": [0.0693645030260086, 0.5993702411651611, 0.26864364743232727, 0.2290438562631607, 0.263527512550354, -0.3419261872768402, -0.25020819902420044, 0.43666306138038635, 0.5037710666656494, -0.2279457449913025, 0.5794103145599365, 0.10770604759454727, -0.12132243812084198, 0.18887130916118622, 1.093145728111267, 0.31939709186553955, 0.41092449426651, -0.1770009547472, -0.14494967460632324, -0.3182993233203888, 0.32675445079803467, 0.7413306832313538, -0.0894615575671196, 0.16338501870632172, -0.5783118605613708, -0.11377433687448502, 0.6450691223144531, 0.014729972928762436, 0.8133636713027954, -0.511394739151001, 1.178765058517456, 1.3380624055862427, -0.23511196672916412, -0.48795852065086365, 0.13095149397850037, -0.14601697027683258, 0.8106797933578491, -0.19696149230003357, -0.2043185979127884, -0.037281837314367294, 0.36771878600120544, 0.3120400011539459, 0.13346782326698303, 0.43299606442451477, 0.39134618639945984, 0.5135602951049805, 0.8728390336036682, 0.31184908747673035, 0.09870871901512146], \"yaxis\": \"y\"}, {\"customdata\": [[6.9], [6.5], [6.4], [6.0], [6.5], [5.6], [6.8], [6.4], [6.5], [7.3], [5.8], [5.7], [6.5], [6.7], [6.3], [6.3], [6.7], [6.7], [6.8], [5.8], [6.9], [6.7], [6.9], [6.3], [6.0], [6.3], [6.3], [6.4], [7.4], [7.2], [6.4], [6.1], [6.2], [7.2], [6.4], [7.1], [6.4], [6.3], [6.3], [6.1], [5.9], [5.6], [5.8], [5.6], [6.7], [5.6], [6.1], [6.1], [6.0], [5.2], [6.6], [6.3], [5.7], [6.5], [5.5], [6.9], [6.4], [7.0], [5.9], [5.8], [6.2], [6.8], [5.7], [6.2], [5.7], [5.7], [5.6], [5.8], [6.1], [5.5], [5.5], [6.6], [5.6], [6.0], [5.4], [6.0], [5.8], [5.5], [5.5], [5.7], [6.0], [6.7], [6.7], [5.9]], \"hoverlabel\": {\"namelength\": 0}, \"hovertemplate\": \"Cluster=Cluster 1<br>PCA1=%{x}<br>PCA2=%{y}<br>Feature=%{customdata[0]}\", \"legendgroup\": \"Cluster=Cluster 1\", \"marker\": {\"color\": \"#00cc96\", \"opacity\": 0.5, \"symbol\": \"circle\"}, \"mode\": \"markers\", \"name\": \"Cluster=Cluster 1\", \"showlegend\": true, \"textposition\": \"top center\", \"type\": \"scatter\", \"x\": [2.427816867828369, 1.9496887922286987, 1.9044564962387085, 1.3007917404174805, 2.350005865097046, 1.1990015506744385, 2.165591239929199, 1.8034021854400635, 1.6617738008499146, 2.932586431503296, 1.5859286785125732, 1.3461638689041138, 1.7643452882766724, 2.2754299640655518, 1.9715309143066406, 1.527166485786438, 1.9441090822219849, 2.418745756149292, 2.5630130767822266, 1.4152361154556274, 1.9222670793533325, 2.3141543865203857, 2.1076104640960693, 1.3887659311294556, 1.1693264245986938, 2.1442432403564453, 1.4441609382629395, 2.159437656402588, 2.8416717052459717, 2.3880021572113037, 2.1236085891723633, 1.2911320924758911, 1.2585079669952393, 2.6140897274017334, 1.9050979614257812, 2.6166751384735107, 0.7148531675338745, 2.5311925411224365, 1.298183798789978, 0.3578881323337555, 1.1162834167480469, 0.045227259397506714, 0.23610499501228333, 0.6602840423583984, 0.9278602004051208, -0.17392534017562866, 0.9849341511726379, 0.9217285513877869, 0.26497650146484375, -0.008744876831769943, 1.0441311597824097, 1.0950602293014526, 0.6416690945625305, 1.0881026983261108, 0.1833181083202362, 1.464301586151123, 0.9324883222579956, 1.2848244905471802, 0.5116984844207764, 1.4152361154556274, 1.9009414911270142, 1.332024097442627, 0.2990007996559143, 0.642575740814209, 0.37621554732322693, 0.3319343030452728, 0.3569815158843994, 0.23054812848567963, 0.8908149600028992, 0.46480071544647217, 0.1664135456085205, 0.9001738429069519, 0.24595767259597778, 0.8068581819534302, 0.5880069136619568, 1.3800262212753296, 0.13642887771129608, -0.18962214887142181, -0.06812623143196106, -0.30558380484580994, 0.8132905960083008, 1.557801604270935, 1.2206900119781494, 1.3901889324188232], \"xaxis\": \"x\", \"y\": [0.37819623947143555, 0.0419432707130909, 0.11925073713064194, -0.7611497640609741, -0.04026102274656296, -0.6060919165611267, 0.21627584099769592, -0.21563759446144104, 0.24222850799560547, 0.35550040006637573, -0.5396409034729004, -0.7768186926841736, 0.07885894179344177, 0.33499056100845337, -0.17972780764102936, -0.37531688809394836, 0.18753232061862946, 0.30479809641838074, 0.2778628170490265, -0.574916422367096, 0.4092036783695221, 0.1836511492729187, 0.3722880184650421, -0.2043991982936859, -0.1649903953075409, 0.1400642693042755, -0.14341333508491516, -0.2172776162624359, 0.3752695620059967, 0.46463990211486816, -0.20972949266433716, -0.11666882038116455, -0.17970503866672516, 0.5609014630317688, 0.04930049926042557, 0.3439032733440399, 0.14905619621276855, -0.00984919909387827, -0.3277871906757355, -0.06892506778240204, -0.08461695164442062, -0.5838345885276794, -0.3336106538772583, -0.3529699742794037, 0.4671795666217804, -0.2548542618751526, -0.1248178482055664, -0.18273790180683136, -0.5500363707542419, -0.7230823636054993, 0.22836211323738098, 0.2834683954715729, -0.41824719309806824, 0.07459080964326859, -0.8279592990875244, 0.5042629837989807, 0.31833386421203613, 0.6851609349250793, -0.10398121923208237, -0.574916422367096, 0.1166277527809143, 0.2444411665201187, -0.3488980829715729, 0.017738137394189835, -0.29321908950805664, -0.21265491843223572, -0.5049102902412415, -0.40438586473464966, -0.0344645231962204, -0.670711874961853, -0.6819269061088562, 0.3285045921802521, -0.2685245871543884, 0.19418229162693024, -0.48428767919540405, -0.42095431685447693, -0.31403234601020813, -0.6802868247032166, -0.7051721811294556, -0.3682624399662018, -0.16335028409957886, 0.2674954831600189, 0.4076196253299713, -0.2826610505580902], \"yaxis\": \"y\"}],\n                        {\"height\": 600, \"legend\": {\"tracegroupgap\": 0}, \"margin\": {\"t\": 60}, \"plot_bgcolor\": \"rgb(240,240,240)\", \"template\": {\"data\": {\"bar\": [{\"error_x\": {\"color\": \"#2a3f5f\"}, \"error_y\": {\"color\": \"#2a3f5f\"}, \"marker\": {\"line\": {\"color\": \"#E5ECF6\", \"width\": 0.5}}, \"type\": \"bar\"}], \"barpolar\": [{\"marker\": {\"line\": {\"color\": \"#E5ECF6\", \"width\": 0.5}}, \"type\": \"barpolar\"}], \"carpet\": [{\"aaxis\": {\"endlinecolor\": \"#2a3f5f\", \"gridcolor\": \"white\", \"linecolor\": \"white\", \"minorgridcolor\": \"white\", \"startlinecolor\": \"#2a3f5f\"}, \"baxis\": {\"endlinecolor\": \"#2a3f5f\", \"gridcolor\": \"white\", \"linecolor\": \"white\", \"minorgridcolor\": \"white\", \"startlinecolor\": \"#2a3f5f\"}, \"type\": \"carpet\"}], \"choropleth\": [{\"colorbar\": {\"outlinewidth\": 0, \"ticks\": \"\"}, \"type\": \"choropleth\"}], \"contour\": [{\"colorbar\": {\"outlinewidth\": 0, \"ticks\": \"\"}, \"colorscale\": [[0.0, \"#0d0887\"], [0.1111111111111111, \"#46039f\"], [0.2222222222222222, \"#7201a8\"], [0.3333333333333333, \"#9c179e\"], [0.4444444444444444, \"#bd3786\"], [0.5555555555555556, \"#d8576b\"], [0.6666666666666666, \"#ed7953\"], [0.7777777777777778, \"#fb9f3a\"], [0.8888888888888888, \"#fdca26\"], [1.0, \"#f0f921\"]], \"type\": \"contour\"}], \"contourcarpet\": [{\"colorbar\": {\"outlinewidth\": 0, \"ticks\": \"\"}, \"type\": \"contourcarpet\"}], \"heatmap\": [{\"colorbar\": {\"outlinewidth\": 0, \"ticks\": \"\"}, \"colorscale\": [[0.0, \"#0d0887\"], [0.1111111111111111, \"#46039f\"], [0.2222222222222222, \"#7201a8\"], [0.3333333333333333, \"#9c179e\"], [0.4444444444444444, \"#bd3786\"], [0.5555555555555556, \"#d8576b\"], [0.6666666666666666, \"#ed7953\"], [0.7777777777777778, \"#fb9f3a\"], [0.8888888888888888, \"#fdca26\"], [1.0, \"#f0f921\"]], \"type\": \"heatmap\"}], \"heatmapgl\": [{\"colorbar\": {\"outlinewidth\": 0, \"ticks\": \"\"}, \"colorscale\": [[0.0, \"#0d0887\"], [0.1111111111111111, \"#46039f\"], [0.2222222222222222, \"#7201a8\"], [0.3333333333333333, \"#9c179e\"], [0.4444444444444444, \"#bd3786\"], [0.5555555555555556, \"#d8576b\"], [0.6666666666666666, \"#ed7953\"], [0.7777777777777778, \"#fb9f3a\"], [0.8888888888888888, \"#fdca26\"], [1.0, \"#f0f921\"]], \"type\": \"heatmapgl\"}], \"histogram\": [{\"marker\": {\"colorbar\": {\"outlinewidth\": 0, \"ticks\": \"\"}}, \"type\": \"histogram\"}], \"histogram2d\": [{\"colorbar\": {\"outlinewidth\": 0, \"ticks\": \"\"}, \"colorscale\": [[0.0, \"#0d0887\"], [0.1111111111111111, \"#46039f\"], [0.2222222222222222, \"#7201a8\"], [0.3333333333333333, \"#9c179e\"], [0.4444444444444444, \"#bd3786\"], [0.5555555555555556, \"#d8576b\"], [0.6666666666666666, \"#ed7953\"], [0.7777777777777778, \"#fb9f3a\"], [0.8888888888888888, \"#fdca26\"], [1.0, \"#f0f921\"]], \"type\": \"histogram2d\"}], \"histogram2dcontour\": [{\"colorbar\": {\"outlinewidth\": 0, \"ticks\": \"\"}, \"colorscale\": [[0.0, \"#0d0887\"], [0.1111111111111111, \"#46039f\"], [0.2222222222222222, \"#7201a8\"], [0.3333333333333333, \"#9c179e\"], [0.4444444444444444, \"#bd3786\"], [0.5555555555555556, \"#d8576b\"], [0.6666666666666666, \"#ed7953\"], [0.7777777777777778, \"#fb9f3a\"], [0.8888888888888888, \"#fdca26\"], [1.0, \"#f0f921\"]], \"type\": \"histogram2dcontour\"}], \"mesh3d\": [{\"colorbar\": {\"outlinewidth\": 0, \"ticks\": \"\"}, \"type\": \"mesh3d\"}], \"parcoords\": [{\"line\": {\"colorbar\": {\"outlinewidth\": 0, \"ticks\": \"\"}}, \"type\": \"parcoords\"}], \"pie\": [{\"automargin\": true, \"type\": \"pie\"}], \"scatter\": [{\"marker\": {\"colorbar\": {\"outlinewidth\": 0, \"ticks\": \"\"}}, \"type\": \"scatter\"}], \"scatter3d\": [{\"line\": {\"colorbar\": {\"outlinewidth\": 0, \"ticks\": \"\"}}, \"marker\": {\"colorbar\": {\"outlinewidth\": 0, \"ticks\": \"\"}}, \"type\": \"scatter3d\"}], \"scattercarpet\": [{\"marker\": {\"colorbar\": {\"outlinewidth\": 0, \"ticks\": \"\"}}, \"type\": \"scattercarpet\"}], \"scattergeo\": [{\"marker\": {\"colorbar\": {\"outlinewidth\": 0, \"ticks\": \"\"}}, \"type\": \"scattergeo\"}], \"scattergl\": [{\"marker\": {\"colorbar\": {\"outlinewidth\": 0, \"ticks\": \"\"}}, \"type\": \"scattergl\"}], \"scattermapbox\": [{\"marker\": {\"colorbar\": {\"outlinewidth\": 0, \"ticks\": \"\"}}, \"type\": \"scattermapbox\"}], \"scatterpolar\": [{\"marker\": {\"colorbar\": {\"outlinewidth\": 0, \"ticks\": \"\"}}, \"type\": \"scatterpolar\"}], \"scatterpolargl\": [{\"marker\": {\"colorbar\": {\"outlinewidth\": 0, \"ticks\": \"\"}}, \"type\": \"scatterpolargl\"}], \"scatterternary\": [{\"marker\": {\"colorbar\": {\"outlinewidth\": 0, \"ticks\": \"\"}}, \"type\": \"scatterternary\"}], \"surface\": [{\"colorbar\": {\"outlinewidth\": 0, \"ticks\": \"\"}, \"colorscale\": [[0.0, \"#0d0887\"], [0.1111111111111111, \"#46039f\"], [0.2222222222222222, \"#7201a8\"], [0.3333333333333333, \"#9c179e\"], [0.4444444444444444, \"#bd3786\"], [0.5555555555555556, \"#d8576b\"], [0.6666666666666666, \"#ed7953\"], [0.7777777777777778, \"#fb9f3a\"], [0.8888888888888888, \"#fdca26\"], [1.0, \"#f0f921\"]], \"type\": \"surface\"}], \"table\": [{\"cells\": {\"fill\": {\"color\": \"#EBF0F8\"}, \"line\": {\"color\": \"white\"}}, \"header\": {\"fill\": {\"color\": \"#C8D4E3\"}, \"line\": {\"color\": \"white\"}}, \"type\": \"table\"}]}, \"layout\": {\"annotationdefaults\": {\"arrowcolor\": \"#2a3f5f\", \"arrowhead\": 0, \"arrowwidth\": 1}, \"coloraxis\": {\"colorbar\": {\"outlinewidth\": 0, \"ticks\": \"\"}}, \"colorscale\": {\"diverging\": [[0, \"#8e0152\"], [0.1, \"#c51b7d\"], [0.2, \"#de77ae\"], [0.3, \"#f1b6da\"], [0.4, \"#fde0ef\"], [0.5, \"#f7f7f7\"], [0.6, \"#e6f5d0\"], [0.7, \"#b8e186\"], [0.8, \"#7fbc41\"], [0.9, \"#4d9221\"], [1, \"#276419\"]], \"sequential\": [[0.0, \"#0d0887\"], [0.1111111111111111, \"#46039f\"], [0.2222222222222222, \"#7201a8\"], [0.3333333333333333, \"#9c179e\"], [0.4444444444444444, \"#bd3786\"], [0.5555555555555556, \"#d8576b\"], [0.6666666666666666, \"#ed7953\"], [0.7777777777777778, \"#fb9f3a\"], [0.8888888888888888, \"#fdca26\"], [1.0, \"#f0f921\"]], \"sequentialminus\": [[0.0, \"#0d0887\"], [0.1111111111111111, \"#46039f\"], [0.2222222222222222, \"#7201a8\"], [0.3333333333333333, \"#9c179e\"], [0.4444444444444444, \"#bd3786\"], [0.5555555555555556, \"#d8576b\"], [0.6666666666666666, \"#ed7953\"], [0.7777777777777778, \"#fb9f3a\"], [0.8888888888888888, \"#fdca26\"], [1.0, \"#f0f921\"]]}, \"colorway\": [\"#636efa\", \"#EF553B\", \"#00cc96\", \"#ab63fa\", \"#FFA15A\", \"#19d3f3\", \"#FF6692\", \"#B6E880\", \"#FF97FF\", \"#FECB52\"], \"font\": {\"color\": \"#2a3f5f\"}, \"geo\": {\"bgcolor\": \"white\", \"lakecolor\": \"white\", \"landcolor\": \"#E5ECF6\", \"showlakes\": true, \"showland\": true, \"subunitcolor\": \"white\"}, \"hoverlabel\": {\"align\": \"left\"}, \"hovermode\": \"closest\", \"mapbox\": {\"style\": \"light\"}, \"paper_bgcolor\": \"white\", \"plot_bgcolor\": \"#E5ECF6\", \"polar\": {\"angularaxis\": {\"gridcolor\": \"white\", \"linecolor\": \"white\", \"ticks\": \"\"}, \"bgcolor\": \"#E5ECF6\", \"radialaxis\": {\"gridcolor\": \"white\", \"linecolor\": \"white\", \"ticks\": \"\"}}, \"scene\": {\"xaxis\": {\"backgroundcolor\": \"#E5ECF6\", \"gridcolor\": \"white\", \"gridwidth\": 2, \"linecolor\": \"white\", \"showbackground\": true, \"ticks\": \"\", \"zerolinecolor\": \"white\"}, \"yaxis\": {\"backgroundcolor\": \"#E5ECF6\", \"gridcolor\": \"white\", \"gridwidth\": 2, \"linecolor\": \"white\", \"showbackground\": true, \"ticks\": \"\", \"zerolinecolor\": \"white\"}, \"zaxis\": {\"backgroundcolor\": \"#E5ECF6\", \"gridcolor\": \"white\", \"gridwidth\": 2, \"linecolor\": \"white\", \"showbackground\": true, \"ticks\": \"\", \"zerolinecolor\": \"white\"}}, \"shapedefaults\": {\"line\": {\"color\": \"#2a3f5f\"}}, \"ternary\": {\"aaxis\": {\"gridcolor\": \"white\", \"linecolor\": \"white\", \"ticks\": \"\"}, \"baxis\": {\"gridcolor\": \"white\", \"linecolor\": \"white\", \"ticks\": \"\"}, \"bgcolor\": \"#E5ECF6\", \"caxis\": {\"gridcolor\": \"white\", \"linecolor\": \"white\", \"ticks\": \"\"}}, \"title\": {\"x\": 0.05}, \"xaxis\": {\"automargin\": true, \"gridcolor\": \"white\", \"linecolor\": \"white\", \"ticks\": \"\", \"title\": {\"standoff\": 15}, \"zerolinecolor\": \"white\", \"zerolinewidth\": 2}, \"yaxis\": {\"automargin\": true, \"gridcolor\": \"white\", \"linecolor\": \"white\", \"ticks\": \"\", \"title\": {\"standoff\": 15}, \"zerolinecolor\": \"white\", \"zerolinewidth\": 2}}}, \"title\": {\"text\": \"2D Cluster PCA Plot\"}, \"xaxis\": {\"anchor\": \"y\", \"domain\": [0.0, 1.0], \"title\": {\"text\": \"PCA1\"}}, \"yaxis\": {\"anchor\": \"x\", \"domain\": [0.0, 1.0], \"title\": {\"text\": \"PCA2\"}}},\n                        {\"responsive\": true}\n                    ).then(function(){\n                            \nvar gd = document.getElementById('b5c6267a-8253-4b05-913d-e5920d3fa074');\nvar x = new MutationObserver(function (mutations, observer) {{\n        var display = window.getComputedStyle(gd).display;\n        if (!display || display === 'none') {{\n            console.log([gd, 'removed!']);\n            Plotly.purge(gd);\n            observer.disconnect();\n        }}\n}});\n\n// Listen for the removal of the full notebook cells\nvar notebookContainer = gd.closest('#notebook-container');\nif (notebookContainer) {{\n    x.observe(notebookContainer, {childList: true});\n}}\n\n// Listen for the clearing of the current output cell\nvar outputEl = gd.closest('.output');\nif (outputEl) {{\n    x.observe(outputEl, {childList: true});\n}}\n\n                        })\n                };\n                \n            </script>\n        </div>\n</body>\n</html>"
                },
                "metadata": {}
              }
            ],
            "_view_module": "@jupyter-widgets/output",
            "_model_module_version": "1.0.0",
            "_view_count": null,
            "_view_module_version": "1.0.0",
            "layout": "IPY_MODEL_e5beab7dbde0418c9eacf18f2a934883",
            "_model_module": "@jupyter-widgets/output"
          }
        },
        "80614176b0714011a8478cf815e7d344": {
          "model_module": "@jupyter-widgets/controls",
          "model_name": "ToggleButtonsStyleModel",
          "model_module_version": "1.5.0",
          "state": {
            "_view_name": "StyleView",
            "button_width": "",
            "_model_name": "ToggleButtonsStyleModel",
            "description_width": "",
            "_view_module": "@jupyter-widgets/base",
            "_model_module_version": "1.5.0",
            "_view_count": null,
            "font_weight": "",
            "_view_module_version": "1.2.0",
            "_model_module": "@jupyter-widgets/controls"
          }
        },
        "7be4b133067542c3a6c7c1197cc038ec": {
          "model_module": "@jupyter-widgets/base",
          "model_name": "LayoutModel",
          "model_module_version": "1.2.0",
          "state": {
            "_view_name": "LayoutView",
            "grid_template_rows": null,
            "right": null,
            "justify_content": null,
            "_view_module": "@jupyter-widgets/base",
            "overflow": null,
            "_model_module_version": "1.2.0",
            "_view_count": null,
            "flex_flow": null,
            "width": null,
            "min_width": null,
            "border": null,
            "align_items": null,
            "bottom": null,
            "_model_module": "@jupyter-widgets/base",
            "top": null,
            "grid_column": null,
            "overflow_y": null,
            "overflow_x": null,
            "grid_auto_flow": null,
            "grid_area": null,
            "grid_template_columns": null,
            "flex": null,
            "_model_name": "LayoutModel",
            "justify_items": null,
            "grid_row": null,
            "max_height": null,
            "align_content": null,
            "visibility": null,
            "align_self": null,
            "height": null,
            "min_height": null,
            "padding": null,
            "grid_auto_rows": null,
            "grid_gap": null,
            "max_width": null,
            "order": null,
            "_view_module_version": "1.2.0",
            "grid_template_areas": null,
            "object_position": null,
            "object_fit": null,
            "grid_auto_columns": null,
            "margin": null,
            "display": null,
            "left": null
          }
        },
        "e5beab7dbde0418c9eacf18f2a934883": {
          "model_module": "@jupyter-widgets/base",
          "model_name": "LayoutModel",
          "model_module_version": "1.2.0",
          "state": {
            "_view_name": "LayoutView",
            "grid_template_rows": null,
            "right": null,
            "justify_content": null,
            "_view_module": "@jupyter-widgets/base",
            "overflow": null,
            "_model_module_version": "1.2.0",
            "_view_count": null,
            "flex_flow": null,
            "width": null,
            "min_width": null,
            "border": null,
            "align_items": null,
            "bottom": null,
            "_model_module": "@jupyter-widgets/base",
            "top": null,
            "grid_column": null,
            "overflow_y": null,
            "overflow_x": null,
            "grid_auto_flow": null,
            "grid_area": null,
            "grid_template_columns": null,
            "flex": null,
            "_model_name": "LayoutModel",
            "justify_items": null,
            "grid_row": null,
            "max_height": null,
            "align_content": null,
            "visibility": null,
            "align_self": null,
            "height": null,
            "min_height": null,
            "padding": null,
            "grid_auto_rows": null,
            "grid_gap": null,
            "max_width": null,
            "order": null,
            "_view_module_version": "1.2.0",
            "grid_template_areas": null,
            "object_position": null,
            "object_fit": null,
            "grid_auto_columns": null,
            "margin": null,
            "display": null,
            "left": null
          }
        },
        "7c059dc66c7a4d8a8cdf939ed03aa3d7": {
          "model_module": "@jupyter-widgets/controls",
          "model_name": "IntProgressModel",
          "model_module_version": "1.5.0",
          "state": {
            "_view_name": "ProgressView",
            "style": "IPY_MODEL_4d72bcd22de64c4eb5bd2c94e28db669",
            "_dom_classes": [],
            "description": "Processing: ",
            "_model_name": "IntProgressModel",
            "bar_style": "",
            "max": 5,
            "_view_module": "@jupyter-widgets/controls",
            "_model_module_version": "1.5.0",
            "value": 3,
            "_view_count": null,
            "_view_module_version": "1.5.0",
            "orientation": "horizontal",
            "min": 0,
            "description_tooltip": null,
            "_model_module": "@jupyter-widgets/controls",
            "layout": "IPY_MODEL_de5f4691b8b6465eac3d78342fd35cd9"
          }
        },
        "4d72bcd22de64c4eb5bd2c94e28db669": {
          "model_module": "@jupyter-widgets/controls",
          "model_name": "ProgressStyleModel",
          "model_module_version": "1.5.0",
          "state": {
            "_view_name": "StyleView",
            "_model_name": "ProgressStyleModel",
            "description_width": "",
            "_view_module": "@jupyter-widgets/base",
            "_model_module_version": "1.5.0",
            "_view_count": null,
            "_view_module_version": "1.2.0",
            "bar_color": null,
            "_model_module": "@jupyter-widgets/controls"
          }
        },
        "de5f4691b8b6465eac3d78342fd35cd9": {
          "model_module": "@jupyter-widgets/base",
          "model_name": "LayoutModel",
          "model_module_version": "1.2.0",
          "state": {
            "_view_name": "LayoutView",
            "grid_template_rows": null,
            "right": null,
            "justify_content": null,
            "_view_module": "@jupyter-widgets/base",
            "overflow": null,
            "_model_module_version": "1.2.0",
            "_view_count": null,
            "flex_flow": null,
            "width": null,
            "min_width": null,
            "border": null,
            "align_items": null,
            "bottom": null,
            "_model_module": "@jupyter-widgets/base",
            "top": null,
            "grid_column": null,
            "overflow_y": null,
            "overflow_x": null,
            "grid_auto_flow": null,
            "grid_area": null,
            "grid_template_columns": null,
            "flex": null,
            "_model_name": "LayoutModel",
            "justify_items": null,
            "grid_row": null,
            "max_height": null,
            "align_content": null,
            "visibility": null,
            "align_self": null,
            "height": null,
            "min_height": null,
            "padding": null,
            "grid_auto_rows": null,
            "grid_gap": null,
            "max_width": null,
            "order": null,
            "_view_module_version": "1.2.0",
            "grid_template_areas": null,
            "object_position": null,
            "object_fit": null,
            "grid_auto_columns": null,
            "margin": null,
            "display": null,
            "left": null
          }
        },
        "150f0507ba744cb88c042bc94c406123": {
          "model_module": "@jupyter-widgets/controls",
          "model_name": "IntProgressModel",
          "model_module_version": "1.5.0",
          "state": {
            "_view_name": "ProgressView",
            "style": "IPY_MODEL_1423c6bfba784764b1d6c25a08439f95",
            "_dom_classes": [],
            "description": "Processing: ",
            "_model_name": "IntProgressModel",
            "bar_style": "",
            "max": 5,
            "_view_module": "@jupyter-widgets/controls",
            "_model_module_version": "1.5.0",
            "value": 3,
            "_view_count": null,
            "_view_module_version": "1.5.0",
            "orientation": "horizontal",
            "min": 0,
            "description_tooltip": null,
            "_model_module": "@jupyter-widgets/controls",
            "layout": "IPY_MODEL_9575574d6ac64ea1939dee66e240e05c"
          }
        },
        "1423c6bfba784764b1d6c25a08439f95": {
          "model_module": "@jupyter-widgets/controls",
          "model_name": "ProgressStyleModel",
          "model_module_version": "1.5.0",
          "state": {
            "_view_name": "StyleView",
            "_model_name": "ProgressStyleModel",
            "description_width": "",
            "_view_module": "@jupyter-widgets/base",
            "_model_module_version": "1.5.0",
            "_view_count": null,
            "_view_module_version": "1.2.0",
            "bar_color": null,
            "_model_module": "@jupyter-widgets/controls"
          }
        },
        "9575574d6ac64ea1939dee66e240e05c": {
          "model_module": "@jupyter-widgets/base",
          "model_name": "LayoutModel",
          "model_module_version": "1.2.0",
          "state": {
            "_view_name": "LayoutView",
            "grid_template_rows": null,
            "right": null,
            "justify_content": null,
            "_view_module": "@jupyter-widgets/base",
            "overflow": null,
            "_model_module_version": "1.2.0",
            "_view_count": null,
            "flex_flow": null,
            "width": null,
            "min_width": null,
            "border": null,
            "align_items": null,
            "bottom": null,
            "_model_module": "@jupyter-widgets/base",
            "top": null,
            "grid_column": null,
            "overflow_y": null,
            "overflow_x": null,
            "grid_auto_flow": null,
            "grid_area": null,
            "grid_template_columns": null,
            "flex": null,
            "_model_name": "LayoutModel",
            "justify_items": null,
            "grid_row": null,
            "max_height": null,
            "align_content": null,
            "visibility": null,
            "align_self": null,
            "height": null,
            "min_height": null,
            "padding": null,
            "grid_auto_rows": null,
            "grid_gap": null,
            "max_width": null,
            "order": null,
            "_view_module_version": "1.2.0",
            "grid_template_areas": null,
            "object_position": null,
            "object_fit": null,
            "grid_auto_columns": null,
            "margin": null,
            "display": null,
            "left": null
          }
        },
        "540e7fe40f60438ca337cec02989944a": {
          "model_module": "@jupyter-widgets/controls",
          "model_name": "IntProgressModel",
          "model_module_version": "1.5.0",
          "state": {
            "_view_name": "ProgressView",
            "style": "IPY_MODEL_3b18fdddfcf44d51bae63f016095f5cf",
            "_dom_classes": [],
            "description": "Processing: ",
            "_model_name": "IntProgressModel",
            "bar_style": "",
            "max": 5,
            "_view_module": "@jupyter-widgets/controls",
            "_model_module_version": "1.5.0",
            "value": 3,
            "_view_count": null,
            "_view_module_version": "1.5.0",
            "orientation": "horizontal",
            "min": 0,
            "description_tooltip": null,
            "_model_module": "@jupyter-widgets/controls",
            "layout": "IPY_MODEL_91fbca91c7b94b67a886b8bf2e7c3769"
          }
        },
        "3b18fdddfcf44d51bae63f016095f5cf": {
          "model_module": "@jupyter-widgets/controls",
          "model_name": "ProgressStyleModel",
          "model_module_version": "1.5.0",
          "state": {
            "_view_name": "StyleView",
            "_model_name": "ProgressStyleModel",
            "description_width": "",
            "_view_module": "@jupyter-widgets/base",
            "_model_module_version": "1.5.0",
            "_view_count": null,
            "_view_module_version": "1.2.0",
            "bar_color": null,
            "_model_module": "@jupyter-widgets/controls"
          }
        },
        "91fbca91c7b94b67a886b8bf2e7c3769": {
          "model_module": "@jupyter-widgets/base",
          "model_name": "LayoutModel",
          "model_module_version": "1.2.0",
          "state": {
            "_view_name": "LayoutView",
            "grid_template_rows": null,
            "right": null,
            "justify_content": null,
            "_view_module": "@jupyter-widgets/base",
            "overflow": null,
            "_model_module_version": "1.2.0",
            "_view_count": null,
            "flex_flow": null,
            "width": null,
            "min_width": null,
            "border": null,
            "align_items": null,
            "bottom": null,
            "_model_module": "@jupyter-widgets/base",
            "top": null,
            "grid_column": null,
            "overflow_y": null,
            "overflow_x": null,
            "grid_auto_flow": null,
            "grid_area": null,
            "grid_template_columns": null,
            "flex": null,
            "_model_name": "LayoutModel",
            "justify_items": null,
            "grid_row": null,
            "max_height": null,
            "align_content": null,
            "visibility": null,
            "align_self": null,
            "height": null,
            "min_height": null,
            "padding": null,
            "grid_auto_rows": null,
            "grid_gap": null,
            "max_width": null,
            "order": null,
            "_view_module_version": "1.2.0",
            "grid_template_areas": null,
            "object_position": null,
            "object_fit": null,
            "grid_auto_columns": null,
            "margin": null,
            "display": null,
            "left": null
          }
        },
        "6764c8f7d853439c8c5fe752b345b1ae": {
          "model_module": "@jupyter-widgets/controls",
          "model_name": "IntProgressModel",
          "model_module_version": "1.5.0",
          "state": {
            "_view_name": "ProgressView",
            "style": "IPY_MODEL_6063f290700c474daf0a0df17a21523d",
            "_dom_classes": [],
            "description": "Processing: ",
            "_model_name": "IntProgressModel",
            "bar_style": "",
            "max": 5,
            "_view_module": "@jupyter-widgets/controls",
            "_model_module_version": "1.5.0",
            "value": 3,
            "_view_count": null,
            "_view_module_version": "1.5.0",
            "orientation": "horizontal",
            "min": 0,
            "description_tooltip": null,
            "_model_module": "@jupyter-widgets/controls",
            "layout": "IPY_MODEL_8225906d8c904ed0b0a11103d4ff11c9"
          }
        },
        "6063f290700c474daf0a0df17a21523d": {
          "model_module": "@jupyter-widgets/controls",
          "model_name": "ProgressStyleModel",
          "model_module_version": "1.5.0",
          "state": {
            "_view_name": "StyleView",
            "_model_name": "ProgressStyleModel",
            "description_width": "",
            "_view_module": "@jupyter-widgets/base",
            "_model_module_version": "1.5.0",
            "_view_count": null,
            "_view_module_version": "1.2.0",
            "bar_color": null,
            "_model_module": "@jupyter-widgets/controls"
          }
        },
        "8225906d8c904ed0b0a11103d4ff11c9": {
          "model_module": "@jupyter-widgets/base",
          "model_name": "LayoutModel",
          "model_module_version": "1.2.0",
          "state": {
            "_view_name": "LayoutView",
            "grid_template_rows": null,
            "right": null,
            "justify_content": null,
            "_view_module": "@jupyter-widgets/base",
            "overflow": null,
            "_model_module_version": "1.2.0",
            "_view_count": null,
            "flex_flow": null,
            "width": null,
            "min_width": null,
            "border": null,
            "align_items": null,
            "bottom": null,
            "_model_module": "@jupyter-widgets/base",
            "top": null,
            "grid_column": null,
            "overflow_y": null,
            "overflow_x": null,
            "grid_auto_flow": null,
            "grid_area": null,
            "grid_template_columns": null,
            "flex": null,
            "_model_name": "LayoutModel",
            "justify_items": null,
            "grid_row": null,
            "max_height": null,
            "align_content": null,
            "visibility": null,
            "align_self": null,
            "height": null,
            "min_height": null,
            "padding": null,
            "grid_auto_rows": null,
            "grid_gap": null,
            "max_width": null,
            "order": null,
            "_view_module_version": "1.2.0",
            "grid_template_areas": null,
            "object_position": null,
            "object_fit": null,
            "grid_auto_columns": null,
            "margin": null,
            "display": null,
            "left": null
          }
        },
        "61e7c9d826af43988e21954a316201b8": {
          "model_module": "@jupyter-widgets/controls",
          "model_name": "IntProgressModel",
          "model_module_version": "1.5.0",
          "state": {
            "_view_name": "ProgressView",
            "style": "IPY_MODEL_7acc26c42b774f9ead4c134c94955eda",
            "_dom_classes": [],
            "description": "Processing: ",
            "_model_name": "IntProgressModel",
            "bar_style": "",
            "max": 5,
            "_view_module": "@jupyter-widgets/controls",
            "_model_module_version": "1.5.0",
            "value": 3,
            "_view_count": null,
            "_view_module_version": "1.5.0",
            "orientation": "horizontal",
            "min": 0,
            "description_tooltip": null,
            "_model_module": "@jupyter-widgets/controls",
            "layout": "IPY_MODEL_1b52c73d725249959da050ad1e3c98c4"
          }
        },
        "7acc26c42b774f9ead4c134c94955eda": {
          "model_module": "@jupyter-widgets/controls",
          "model_name": "ProgressStyleModel",
          "model_module_version": "1.5.0",
          "state": {
            "_view_name": "StyleView",
            "_model_name": "ProgressStyleModel",
            "description_width": "",
            "_view_module": "@jupyter-widgets/base",
            "_model_module_version": "1.5.0",
            "_view_count": null,
            "_view_module_version": "1.2.0",
            "bar_color": null,
            "_model_module": "@jupyter-widgets/controls"
          }
        },
        "1b52c73d725249959da050ad1e3c98c4": {
          "model_module": "@jupyter-widgets/base",
          "model_name": "LayoutModel",
          "model_module_version": "1.2.0",
          "state": {
            "_view_name": "LayoutView",
            "grid_template_rows": null,
            "right": null,
            "justify_content": null,
            "_view_module": "@jupyter-widgets/base",
            "overflow": null,
            "_model_module_version": "1.2.0",
            "_view_count": null,
            "flex_flow": null,
            "width": null,
            "min_width": null,
            "border": null,
            "align_items": null,
            "bottom": null,
            "_model_module": "@jupyter-widgets/base",
            "top": null,
            "grid_column": null,
            "overflow_y": null,
            "overflow_x": null,
            "grid_auto_flow": null,
            "grid_area": null,
            "grid_template_columns": null,
            "flex": null,
            "_model_name": "LayoutModel",
            "justify_items": null,
            "grid_row": null,
            "max_height": null,
            "align_content": null,
            "visibility": null,
            "align_self": null,
            "height": null,
            "min_height": null,
            "padding": null,
            "grid_auto_rows": null,
            "grid_gap": null,
            "max_width": null,
            "order": null,
            "_view_module_version": "1.2.0",
            "grid_template_areas": null,
            "object_position": null,
            "object_fit": null,
            "grid_auto_columns": null,
            "margin": null,
            "display": null,
            "left": null
          }
        },
        "6690831b2df942b49f6342bc779a38ad": {
          "model_module": "@jupyter-widgets/controls",
          "model_name": "IntProgressModel",
          "model_module_version": "1.5.0",
          "state": {
            "_view_name": "ProgressView",
            "style": "IPY_MODEL_9620ce314ca94a08ba6fd27ad622bca8",
            "_dom_classes": [],
            "description": "Processing: ",
            "_model_name": "IntProgressModel",
            "bar_style": "",
            "max": 5,
            "_view_module": "@jupyter-widgets/controls",
            "_model_module_version": "1.5.0",
            "value": 3,
            "_view_count": null,
            "_view_module_version": "1.5.0",
            "orientation": "horizontal",
            "min": 0,
            "description_tooltip": null,
            "_model_module": "@jupyter-widgets/controls",
            "layout": "IPY_MODEL_24c4309a5272463cb3db018c152f2280"
          }
        },
        "9620ce314ca94a08ba6fd27ad622bca8": {
          "model_module": "@jupyter-widgets/controls",
          "model_name": "ProgressStyleModel",
          "model_module_version": "1.5.0",
          "state": {
            "_view_name": "StyleView",
            "_model_name": "ProgressStyleModel",
            "description_width": "",
            "_view_module": "@jupyter-widgets/base",
            "_model_module_version": "1.5.0",
            "_view_count": null,
            "_view_module_version": "1.2.0",
            "bar_color": null,
            "_model_module": "@jupyter-widgets/controls"
          }
        },
        "24c4309a5272463cb3db018c152f2280": {
          "model_module": "@jupyter-widgets/base",
          "model_name": "LayoutModel",
          "model_module_version": "1.2.0",
          "state": {
            "_view_name": "LayoutView",
            "grid_template_rows": null,
            "right": null,
            "justify_content": null,
            "_view_module": "@jupyter-widgets/base",
            "overflow": null,
            "_model_module_version": "1.2.0",
            "_view_count": null,
            "flex_flow": null,
            "width": null,
            "min_width": null,
            "border": null,
            "align_items": null,
            "bottom": null,
            "_model_module": "@jupyter-widgets/base",
            "top": null,
            "grid_column": null,
            "overflow_y": null,
            "overflow_x": null,
            "grid_auto_flow": null,
            "grid_area": null,
            "grid_template_columns": null,
            "flex": null,
            "_model_name": "LayoutModel",
            "justify_items": null,
            "grid_row": null,
            "max_height": null,
            "align_content": null,
            "visibility": null,
            "align_self": null,
            "height": null,
            "min_height": null,
            "padding": null,
            "grid_auto_rows": null,
            "grid_gap": null,
            "max_width": null,
            "order": null,
            "_view_module_version": "1.2.0",
            "grid_template_areas": null,
            "object_position": null,
            "object_fit": null,
            "grid_auto_columns": null,
            "margin": null,
            "display": null,
            "left": null
          }
        },
        "e8f90308af53499792cf675ba312a04d": {
          "model_module": "@jupyter-widgets/controls",
          "model_name": "IntProgressModel",
          "model_module_version": "1.5.0",
          "state": {
            "_view_name": "ProgressView",
            "style": "IPY_MODEL_9ccf3c7818c24c7b8a02b04f2c3366cf",
            "_dom_classes": [],
            "description": "Processing: ",
            "_model_name": "IntProgressModel",
            "bar_style": "",
            "max": 5,
            "_view_module": "@jupyter-widgets/controls",
            "_model_module_version": "1.5.0",
            "value": 3,
            "_view_count": null,
            "_view_module_version": "1.5.0",
            "orientation": "horizontal",
            "min": 0,
            "description_tooltip": null,
            "_model_module": "@jupyter-widgets/controls",
            "layout": "IPY_MODEL_47d6c7d95eda4de78634cffec55086f2"
          }
        },
        "9ccf3c7818c24c7b8a02b04f2c3366cf": {
          "model_module": "@jupyter-widgets/controls",
          "model_name": "ProgressStyleModel",
          "model_module_version": "1.5.0",
          "state": {
            "_view_name": "StyleView",
            "_model_name": "ProgressStyleModel",
            "description_width": "",
            "_view_module": "@jupyter-widgets/base",
            "_model_module_version": "1.5.0",
            "_view_count": null,
            "_view_module_version": "1.2.0",
            "bar_color": null,
            "_model_module": "@jupyter-widgets/controls"
          }
        },
        "47d6c7d95eda4de78634cffec55086f2": {
          "model_module": "@jupyter-widgets/base",
          "model_name": "LayoutModel",
          "model_module_version": "1.2.0",
          "state": {
            "_view_name": "LayoutView",
            "grid_template_rows": null,
            "right": null,
            "justify_content": null,
            "_view_module": "@jupyter-widgets/base",
            "overflow": null,
            "_model_module_version": "1.2.0",
            "_view_count": null,
            "flex_flow": null,
            "width": null,
            "min_width": null,
            "border": null,
            "align_items": null,
            "bottom": null,
            "_model_module": "@jupyter-widgets/base",
            "top": null,
            "grid_column": null,
            "overflow_y": null,
            "overflow_x": null,
            "grid_auto_flow": null,
            "grid_area": null,
            "grid_template_columns": null,
            "flex": null,
            "_model_name": "LayoutModel",
            "justify_items": null,
            "grid_row": null,
            "max_height": null,
            "align_content": null,
            "visibility": null,
            "align_self": null,
            "height": null,
            "min_height": null,
            "padding": null,
            "grid_auto_rows": null,
            "grid_gap": null,
            "max_width": null,
            "order": null,
            "_view_module_version": "1.2.0",
            "grid_template_areas": null,
            "object_position": null,
            "object_fit": null,
            "grid_auto_columns": null,
            "margin": null,
            "display": null,
            "left": null
          }
        }
      }
    }
  },
  "cells": [
    {
      "cell_type": "markdown",
      "metadata": {
        "id": "view-in-github",
        "colab_type": "text"
      },
      "source": [
        "<a href=\"https://colab.research.google.com/github/Khushil-Modi/SJSU/blob/main/CMPE_255_Clustering_Techniques.ipynb\" target=\"_parent\"><img src=\"https://colab.research.google.com/assets/colab-badge.svg\" alt=\"Open In Colab\"/></a>"
      ]
    },
    {
      "cell_type": "code",
      "metadata": {
        "id": "mlPuBP6KXDP9"
      },
      "source": [
        "from sklearn import datasets\n",
        "import matplotlib.pyplot as plt\n",
        "import pandas as pd\n",
        "from sklearn.decomposition import PCA\n",
        "from sklearn.cluster import KMeans\n",
        "from scipy.stats import mode\n",
        "from sklearn.metrics import confusion_matrix\n",
        "import matplotlib.pyplot as plt\n",
        "from sklearn.datasets import load_iris"
      ],
      "execution_count": 1,
      "outputs": []
    },
    {
      "cell_type": "markdown",
      "metadata": {
        "id": "N96M8YEnHmtg"
      },
      "source": [
        "#Loading IRIS Dataset"
      ]
    },
    {
      "cell_type": "code",
      "metadata": {
        "colab": {
          "base_uri": "https://localhost:8080/"
        },
        "id": "wxU_tWsBjO72",
        "outputId": "bf596afd-3545-4eeb-f0aa-737b15462462"
      },
      "source": [
        "iris = load_iris()\n",
        "iris"
      ],
      "execution_count": 2,
      "outputs": [
        {
          "output_type": "execute_result",
          "data": {
            "text/plain": [
              "{'DESCR': '.. _iris_dataset:\\n\\nIris plants dataset\\n--------------------\\n\\n**Data Set Characteristics:**\\n\\n    :Number of Instances: 150 (50 in each of three classes)\\n    :Number of Attributes: 4 numeric, predictive attributes and the class\\n    :Attribute Information:\\n        - sepal length in cm\\n        - sepal width in cm\\n        - petal length in cm\\n        - petal width in cm\\n        - class:\\n                - Iris-Setosa\\n                - Iris-Versicolour\\n                - Iris-Virginica\\n                \\n    :Summary Statistics:\\n\\n    ============== ==== ==== ======= ===== ====================\\n                    Min  Max   Mean    SD   Class Correlation\\n    ============== ==== ==== ======= ===== ====================\\n    sepal length:   4.3  7.9   5.84   0.83    0.7826\\n    sepal width:    2.0  4.4   3.05   0.43   -0.4194\\n    petal length:   1.0  6.9   3.76   1.76    0.9490  (high!)\\n    petal width:    0.1  2.5   1.20   0.76    0.9565  (high!)\\n    ============== ==== ==== ======= ===== ====================\\n\\n    :Missing Attribute Values: None\\n    :Class Distribution: 33.3% for each of 3 classes.\\n    :Creator: R.A. Fisher\\n    :Donor: Michael Marshall (MARSHALL%PLU@io.arc.nasa.gov)\\n    :Date: July, 1988\\n\\nThe famous Iris database, first used by Sir R.A. Fisher. The dataset is taken\\nfrom Fisher\\'s paper. Note that it\\'s the same as in R, but not as in the UCI\\nMachine Learning Repository, which has two wrong data points.\\n\\nThis is perhaps the best known database to be found in the\\npattern recognition literature.  Fisher\\'s paper is a classic in the field and\\nis referenced frequently to this day.  (See Duda & Hart, for example.)  The\\ndata set contains 3 classes of 50 instances each, where each class refers to a\\ntype of iris plant.  One class is linearly separable from the other 2; the\\nlatter are NOT linearly separable from each other.\\n\\n.. topic:: References\\n\\n   - Fisher, R.A. \"The use of multiple measurements in taxonomic problems\"\\n     Annual Eugenics, 7, Part II, 179-188 (1936); also in \"Contributions to\\n     Mathematical Statistics\" (John Wiley, NY, 1950).\\n   - Duda, R.O., & Hart, P.E. (1973) Pattern Classification and Scene Analysis.\\n     (Q327.D83) John Wiley & Sons.  ISBN 0-471-22361-1.  See page 218.\\n   - Dasarathy, B.V. (1980) \"Nosing Around the Neighborhood: A New System\\n     Structure and Classification Rule for Recognition in Partially Exposed\\n     Environments\".  IEEE Transactions on Pattern Analysis and Machine\\n     Intelligence, Vol. PAMI-2, No. 1, 67-71.\\n   - Gates, G.W. (1972) \"The Reduced Nearest Neighbor Rule\".  IEEE Transactions\\n     on Information Theory, May 1972, 431-433.\\n   - See also: 1988 MLC Proceedings, 54-64.  Cheeseman et al\"s AUTOCLASS II\\n     conceptual clustering system finds 3 classes in the data.\\n   - Many, many more ...',\n",
              " 'data': array([[5.1, 3.5, 1.4, 0.2],\n",
              "        [4.9, 3. , 1.4, 0.2],\n",
              "        [4.7, 3.2, 1.3, 0.2],\n",
              "        [4.6, 3.1, 1.5, 0.2],\n",
              "        [5. , 3.6, 1.4, 0.2],\n",
              "        [5.4, 3.9, 1.7, 0.4],\n",
              "        [4.6, 3.4, 1.4, 0.3],\n",
              "        [5. , 3.4, 1.5, 0.2],\n",
              "        [4.4, 2.9, 1.4, 0.2],\n",
              "        [4.9, 3.1, 1.5, 0.1],\n",
              "        [5.4, 3.7, 1.5, 0.2],\n",
              "        [4.8, 3.4, 1.6, 0.2],\n",
              "        [4.8, 3. , 1.4, 0.1],\n",
              "        [4.3, 3. , 1.1, 0.1],\n",
              "        [5.8, 4. , 1.2, 0.2],\n",
              "        [5.7, 4.4, 1.5, 0.4],\n",
              "        [5.4, 3.9, 1.3, 0.4],\n",
              "        [5.1, 3.5, 1.4, 0.3],\n",
              "        [5.7, 3.8, 1.7, 0.3],\n",
              "        [5.1, 3.8, 1.5, 0.3],\n",
              "        [5.4, 3.4, 1.7, 0.2],\n",
              "        [5.1, 3.7, 1.5, 0.4],\n",
              "        [4.6, 3.6, 1. , 0.2],\n",
              "        [5.1, 3.3, 1.7, 0.5],\n",
              "        [4.8, 3.4, 1.9, 0.2],\n",
              "        [5. , 3. , 1.6, 0.2],\n",
              "        [5. , 3.4, 1.6, 0.4],\n",
              "        [5.2, 3.5, 1.5, 0.2],\n",
              "        [5.2, 3.4, 1.4, 0.2],\n",
              "        [4.7, 3.2, 1.6, 0.2],\n",
              "        [4.8, 3.1, 1.6, 0.2],\n",
              "        [5.4, 3.4, 1.5, 0.4],\n",
              "        [5.2, 4.1, 1.5, 0.1],\n",
              "        [5.5, 4.2, 1.4, 0.2],\n",
              "        [4.9, 3.1, 1.5, 0.2],\n",
              "        [5. , 3.2, 1.2, 0.2],\n",
              "        [5.5, 3.5, 1.3, 0.2],\n",
              "        [4.9, 3.6, 1.4, 0.1],\n",
              "        [4.4, 3. , 1.3, 0.2],\n",
              "        [5.1, 3.4, 1.5, 0.2],\n",
              "        [5. , 3.5, 1.3, 0.3],\n",
              "        [4.5, 2.3, 1.3, 0.3],\n",
              "        [4.4, 3.2, 1.3, 0.2],\n",
              "        [5. , 3.5, 1.6, 0.6],\n",
              "        [5.1, 3.8, 1.9, 0.4],\n",
              "        [4.8, 3. , 1.4, 0.3],\n",
              "        [5.1, 3.8, 1.6, 0.2],\n",
              "        [4.6, 3.2, 1.4, 0.2],\n",
              "        [5.3, 3.7, 1.5, 0.2],\n",
              "        [5. , 3.3, 1.4, 0.2],\n",
              "        [7. , 3.2, 4.7, 1.4],\n",
              "        [6.4, 3.2, 4.5, 1.5],\n",
              "        [6.9, 3.1, 4.9, 1.5],\n",
              "        [5.5, 2.3, 4. , 1.3],\n",
              "        [6.5, 2.8, 4.6, 1.5],\n",
              "        [5.7, 2.8, 4.5, 1.3],\n",
              "        [6.3, 3.3, 4.7, 1.6],\n",
              "        [4.9, 2.4, 3.3, 1. ],\n",
              "        [6.6, 2.9, 4.6, 1.3],\n",
              "        [5.2, 2.7, 3.9, 1.4],\n",
              "        [5. , 2. , 3.5, 1. ],\n",
              "        [5.9, 3. , 4.2, 1.5],\n",
              "        [6. , 2.2, 4. , 1. ],\n",
              "        [6.1, 2.9, 4.7, 1.4],\n",
              "        [5.6, 2.9, 3.6, 1.3],\n",
              "        [6.7, 3.1, 4.4, 1.4],\n",
              "        [5.6, 3. , 4.5, 1.5],\n",
              "        [5.8, 2.7, 4.1, 1. ],\n",
              "        [6.2, 2.2, 4.5, 1.5],\n",
              "        [5.6, 2.5, 3.9, 1.1],\n",
              "        [5.9, 3.2, 4.8, 1.8],\n",
              "        [6.1, 2.8, 4. , 1.3],\n",
              "        [6.3, 2.5, 4.9, 1.5],\n",
              "        [6.1, 2.8, 4.7, 1.2],\n",
              "        [6.4, 2.9, 4.3, 1.3],\n",
              "        [6.6, 3. , 4.4, 1.4],\n",
              "        [6.8, 2.8, 4.8, 1.4],\n",
              "        [6.7, 3. , 5. , 1.7],\n",
              "        [6. , 2.9, 4.5, 1.5],\n",
              "        [5.7, 2.6, 3.5, 1. ],\n",
              "        [5.5, 2.4, 3.8, 1.1],\n",
              "        [5.5, 2.4, 3.7, 1. ],\n",
              "        [5.8, 2.7, 3.9, 1.2],\n",
              "        [6. , 2.7, 5.1, 1.6],\n",
              "        [5.4, 3. , 4.5, 1.5],\n",
              "        [6. , 3.4, 4.5, 1.6],\n",
              "        [6.7, 3.1, 4.7, 1.5],\n",
              "        [6.3, 2.3, 4.4, 1.3],\n",
              "        [5.6, 3. , 4.1, 1.3],\n",
              "        [5.5, 2.5, 4. , 1.3],\n",
              "        [5.5, 2.6, 4.4, 1.2],\n",
              "        [6.1, 3. , 4.6, 1.4],\n",
              "        [5.8, 2.6, 4. , 1.2],\n",
              "        [5. , 2.3, 3.3, 1. ],\n",
              "        [5.6, 2.7, 4.2, 1.3],\n",
              "        [5.7, 3. , 4.2, 1.2],\n",
              "        [5.7, 2.9, 4.2, 1.3],\n",
              "        [6.2, 2.9, 4.3, 1.3],\n",
              "        [5.1, 2.5, 3. , 1.1],\n",
              "        [5.7, 2.8, 4.1, 1.3],\n",
              "        [6.3, 3.3, 6. , 2.5],\n",
              "        [5.8, 2.7, 5.1, 1.9],\n",
              "        [7.1, 3. , 5.9, 2.1],\n",
              "        [6.3, 2.9, 5.6, 1.8],\n",
              "        [6.5, 3. , 5.8, 2.2],\n",
              "        [7.6, 3. , 6.6, 2.1],\n",
              "        [4.9, 2.5, 4.5, 1.7],\n",
              "        [7.3, 2.9, 6.3, 1.8],\n",
              "        [6.7, 2.5, 5.8, 1.8],\n",
              "        [7.2, 3.6, 6.1, 2.5],\n",
              "        [6.5, 3.2, 5.1, 2. ],\n",
              "        [6.4, 2.7, 5.3, 1.9],\n",
              "        [6.8, 3. , 5.5, 2.1],\n",
              "        [5.7, 2.5, 5. , 2. ],\n",
              "        [5.8, 2.8, 5.1, 2.4],\n",
              "        [6.4, 3.2, 5.3, 2.3],\n",
              "        [6.5, 3. , 5.5, 1.8],\n",
              "        [7.7, 3.8, 6.7, 2.2],\n",
              "        [7.7, 2.6, 6.9, 2.3],\n",
              "        [6. , 2.2, 5. , 1.5],\n",
              "        [6.9, 3.2, 5.7, 2.3],\n",
              "        [5.6, 2.8, 4.9, 2. ],\n",
              "        [7.7, 2.8, 6.7, 2. ],\n",
              "        [6.3, 2.7, 4.9, 1.8],\n",
              "        [6.7, 3.3, 5.7, 2.1],\n",
              "        [7.2, 3.2, 6. , 1.8],\n",
              "        [6.2, 2.8, 4.8, 1.8],\n",
              "        [6.1, 3. , 4.9, 1.8],\n",
              "        [6.4, 2.8, 5.6, 2.1],\n",
              "        [7.2, 3. , 5.8, 1.6],\n",
              "        [7.4, 2.8, 6.1, 1.9],\n",
              "        [7.9, 3.8, 6.4, 2. ],\n",
              "        [6.4, 2.8, 5.6, 2.2],\n",
              "        [6.3, 2.8, 5.1, 1.5],\n",
              "        [6.1, 2.6, 5.6, 1.4],\n",
              "        [7.7, 3. , 6.1, 2.3],\n",
              "        [6.3, 3.4, 5.6, 2.4],\n",
              "        [6.4, 3.1, 5.5, 1.8],\n",
              "        [6. , 3. , 4.8, 1.8],\n",
              "        [6.9, 3.1, 5.4, 2.1],\n",
              "        [6.7, 3.1, 5.6, 2.4],\n",
              "        [6.9, 3.1, 5.1, 2.3],\n",
              "        [5.8, 2.7, 5.1, 1.9],\n",
              "        [6.8, 3.2, 5.9, 2.3],\n",
              "        [6.7, 3.3, 5.7, 2.5],\n",
              "        [6.7, 3. , 5.2, 2.3],\n",
              "        [6.3, 2.5, 5. , 1.9],\n",
              "        [6.5, 3. , 5.2, 2. ],\n",
              "        [6.2, 3.4, 5.4, 2.3],\n",
              "        [5.9, 3. , 5.1, 1.8]]),\n",
              " 'feature_names': ['sepal length (cm)',\n",
              "  'sepal width (cm)',\n",
              "  'petal length (cm)',\n",
              "  'petal width (cm)'],\n",
              " 'filename': '/usr/local/lib/python3.7/dist-packages/sklearn/datasets/data/iris.csv',\n",
              " 'frame': None,\n",
              " 'target': array([0, 0, 0, 0, 0, 0, 0, 0, 0, 0, 0, 0, 0, 0, 0, 0, 0, 0, 0, 0, 0, 0,\n",
              "        0, 0, 0, 0, 0, 0, 0, 0, 0, 0, 0, 0, 0, 0, 0, 0, 0, 0, 0, 0, 0, 0,\n",
              "        0, 0, 0, 0, 0, 0, 1, 1, 1, 1, 1, 1, 1, 1, 1, 1, 1, 1, 1, 1, 1, 1,\n",
              "        1, 1, 1, 1, 1, 1, 1, 1, 1, 1, 1, 1, 1, 1, 1, 1, 1, 1, 1, 1, 1, 1,\n",
              "        1, 1, 1, 1, 1, 1, 1, 1, 1, 1, 1, 1, 2, 2, 2, 2, 2, 2, 2, 2, 2, 2,\n",
              "        2, 2, 2, 2, 2, 2, 2, 2, 2, 2, 2, 2, 2, 2, 2, 2, 2, 2, 2, 2, 2, 2,\n",
              "        2, 2, 2, 2, 2, 2, 2, 2, 2, 2, 2, 2, 2, 2, 2, 2, 2, 2]),\n",
              " 'target_names': array(['setosa', 'versicolor', 'virginica'], dtype='<U10')}"
            ]
          },
          "metadata": {},
          "execution_count": 2
        }
      ]
    },
    {
      "cell_type": "code",
      "metadata": {
        "colab": {
          "base_uri": "https://localhost:8080/"
        },
        "id": "rh8bVtuKkNZt",
        "outputId": "f7705e24-309f-42c9-9fd6-08b8c3d3eda0"
      },
      "source": [
        "data = iris.data\n",
        "data.shape"
      ],
      "execution_count": 3,
      "outputs": [
        {
          "output_type": "execute_result",
          "data": {
            "text/plain": [
              "(150, 4)"
            ]
          },
          "metadata": {},
          "execution_count": 3
        }
      ]
    },
    {
      "cell_type": "code",
      "metadata": {
        "colab": {
          "base_uri": "https://localhost:8080/",
          "height": 206
        },
        "id": "n1NC85T9Y8Es",
        "outputId": "a5beb4b3-d00b-4dd5-8dbe-ca688c2f2d6c"
      },
      "source": [
        "import pandas as pd\n",
        "x = pd.DataFrame(data, columns = ['Sepal Length','Sepal Width','Petal Length','Petal Width'])\n",
        "x.head()"
      ],
      "execution_count": 4,
      "outputs": [
        {
          "output_type": "execute_result",
          "data": {
            "text/html": [
              "<div>\n",
              "<style scoped>\n",
              "    .dataframe tbody tr th:only-of-type {\n",
              "        vertical-align: middle;\n",
              "    }\n",
              "\n",
              "    .dataframe tbody tr th {\n",
              "        vertical-align: top;\n",
              "    }\n",
              "\n",
              "    .dataframe thead th {\n",
              "        text-align: right;\n",
              "    }\n",
              "</style>\n",
              "<table border=\"1\" class=\"dataframe\">\n",
              "  <thead>\n",
              "    <tr style=\"text-align: right;\">\n",
              "      <th></th>\n",
              "      <th>Sepal Length</th>\n",
              "      <th>Sepal Width</th>\n",
              "      <th>Petal Length</th>\n",
              "      <th>Petal Width</th>\n",
              "    </tr>\n",
              "  </thead>\n",
              "  <tbody>\n",
              "    <tr>\n",
              "      <th>0</th>\n",
              "      <td>5.1</td>\n",
              "      <td>3.5</td>\n",
              "      <td>1.4</td>\n",
              "      <td>0.2</td>\n",
              "    </tr>\n",
              "    <tr>\n",
              "      <th>1</th>\n",
              "      <td>4.9</td>\n",
              "      <td>3.0</td>\n",
              "      <td>1.4</td>\n",
              "      <td>0.2</td>\n",
              "    </tr>\n",
              "    <tr>\n",
              "      <th>2</th>\n",
              "      <td>4.7</td>\n",
              "      <td>3.2</td>\n",
              "      <td>1.3</td>\n",
              "      <td>0.2</td>\n",
              "    </tr>\n",
              "    <tr>\n",
              "      <th>3</th>\n",
              "      <td>4.6</td>\n",
              "      <td>3.1</td>\n",
              "      <td>1.5</td>\n",
              "      <td>0.2</td>\n",
              "    </tr>\n",
              "    <tr>\n",
              "      <th>4</th>\n",
              "      <td>5.0</td>\n",
              "      <td>3.6</td>\n",
              "      <td>1.4</td>\n",
              "      <td>0.2</td>\n",
              "    </tr>\n",
              "  </tbody>\n",
              "</table>\n",
              "</div>"
            ],
            "text/plain": [
              "   Sepal Length  Sepal Width  Petal Length  Petal Width\n",
              "0           5.1          3.5           1.4          0.2\n",
              "1           4.9          3.0           1.4          0.2\n",
              "2           4.7          3.2           1.3          0.2\n",
              "3           4.6          3.1           1.5          0.2\n",
              "4           5.0          3.6           1.4          0.2"
            ]
          },
          "metadata": {},
          "execution_count": 4
        }
      ]
    },
    {
      "cell_type": "markdown",
      "metadata": {
        "id": "veDF4y0oH7Yz"
      },
      "source": [
        "#Plotting Dataset"
      ]
    },
    {
      "cell_type": "code",
      "metadata": {
        "colab": {
          "base_uri": "https://localhost:8080/",
          "height": 547
        },
        "id": "9OFkO_NVnfLM",
        "outputId": "628a0b29-85c3-4c49-9df4-84fba30073c1"
      },
      "source": [
        "plt.figure(figsize=(16,10))\n",
        "#scatter plot of sepal length vs sepal width \n",
        "plt.subplot(2,2,1)                                   \n",
        "plt.scatter(list(x.iloc[:,0]), list(x.iloc[:,1]), marker='.')                                                                        \n",
        "plt.xlabel('Sepal Length')                                                 \n",
        "plt.ylabel('Sepal Width')                                         \n",
        "plt.title('Sepal Original Plot')\n",
        "plt.grid()                                                                                           \n",
        "plt.tight_layout()\n",
        "\n",
        "#scatter plot of petal length vs petal width\n",
        "plt.subplot(2,2,2)                                   \n",
        "plt.scatter(list(x.iloc[:,2]), list(x.iloc[:,3]), marker='.')                                                                        \n",
        "plt.xlabel('Petal Length')                                                 \n",
        "plt.ylabel('Petal Width')                                                 \n",
        "plt.title('Petal Original Plot')                                           \n",
        "plt.grid()                                                                 \n",
        "plt.tight_layout()\n",
        "\n",
        "\n",
        "#scatter plot of petal length vs sepal length\n",
        "plt.subplot(2,2,3)                                   \n",
        "plt.scatter(list(x.iloc[:,0]), list(x.iloc[:,2]), marker='.')                                                                       \n",
        "plt.xlabel('Sepal Length')                                                 \n",
        "plt.ylabel('Petal Length')                                                 \n",
        "plt.title('Length Original Plot')                                           \n",
        "plt.grid()                                                                 \n",
        "plt.tight_layout()\n",
        "\n",
        "#scatter plot of petal width vs sepal width\n",
        "plt.subplot(2,2,4)                                   \n",
        "plt.scatter(list(x.iloc[:,1]), list(x.iloc[:,3]), marker='.')                                                                       \n",
        "plt.xlabel('Sepal Width')                                                 \n",
        "plt.ylabel('Petal Width')                                                 \n",
        "plt.title('Width Original Plot')                                            \n",
        "plt.grid()                                                                 \n",
        "plt.tight_layout()"
      ],
      "execution_count": 5,
      "outputs": [
        {
          "output_type": "display_data",
          "data": {
            "image/png": "[encoded data removed]",
            "text/plain": [
              "<Figure size 1152x720 with 4 Axes>"
            ]
          },
          "metadata": {
            "needs_background": "light"
          }
        }
      ]
    },
    {
      "cell_type": "markdown",
      "metadata": {
        "id": "2WcQMDV3H0x3"
      },
      "source": [
        "#K-Means from Scratch"
      ]
    },
    {
      "cell_type": "code",
      "metadata": {
        "id": "D80d9awd_xBM"
      },
      "source": [
        "class K_Means:\n",
        "    def __init__(self, k=3, tol=0.001, max_iter=300):\n",
        "        self.k = k\n",
        "        self.tol = tol\n",
        "        self.max_iter = max_iter\n",
        "\n",
        "    def fit(self,data):\n",
        "\n",
        "        self.centroids = {}\n",
        "\n",
        "        for i in range(self.k):\n",
        "            self.centroids[i] = data[i]\n",
        "\n",
        "        for i in range(self.max_iter):\n",
        "            self.classifications = {}\n",
        "\n",
        "            for i in range(self.k):\n",
        "                self.classifications[i] = []\n",
        "\n",
        "            for featureset in data:\n",
        "                distances = [np.linalg.norm(featureset-self.centroids[centroid]) for centroid in self.centroids]\n",
        "                classification = distances.index(min(distances))\n",
        "                self.classifications[classification].append(featureset)\n",
        "\n",
        "            prev_centroids = dict(self.centroids)\n",
        "\n",
        "            for classification in self.classifications:\n",
        "                self.centroids[classification] = np.average(self.classifications[classification],axis=0)"
      ],
      "execution_count": 6,
      "outputs": []
    },
    {
      "cell_type": "code",
      "metadata": {
        "colab": {
          "base_uri": "https://localhost:8080/"
        },
        "id": "urWQS4L_BT9s",
        "outputId": "97049bd9-a8ce-4034-9dc1-4be5b51976f6"
      },
      "source": [
        "k = KMeans(n_clusters=3).fit(data)\n",
        "k.fit_transform(data)"
      ],
      "execution_count": 7,
      "outputs": [
        {
          "output_type": "execute_result",
          "data": {
            "text/plain": [
              "array([[5.0595416 , 0.14135063, 3.41925061],\n",
              "       [5.11494335, 0.44763825, 3.39857426],\n",
              "       [5.27935534, 0.4171091 , 3.56935666],\n",
              "       [5.15358977, 0.52533799, 3.42240962],\n",
              "       [5.10433388, 0.18862662, 3.46726403],\n",
              "       [4.68148797, 0.67703767, 3.14673162],\n",
              "       [5.21147652, 0.4151867 , 3.51650264],\n",
              "       [5.00252706, 0.06618157, 3.33654987],\n",
              "       [5.32798107, 0.80745278, 3.57233779],\n",
              "       [5.06790865, 0.37627118, 3.3583767 ],\n",
              "       [4.89806763, 0.4824728 , 3.32449131],\n",
              "       [4.9966845 , 0.25373214, 3.31126872],\n",
              "       [5.19103612, 0.50077939, 3.46661272],\n",
              "       [5.65173594, 0.91322505, 3.90578362],\n",
              "       [5.10804455, 1.01409073, 3.646649  ],\n",
              "       [4.88564095, 1.20481534, 3.49427881],\n",
              "       [5.03090587, 0.6542018 , 3.495248  ],\n",
              "       [5.02342022, 0.1441527 , 3.38444981],\n",
              "       [4.61792995, 0.82436642, 3.11245944],\n",
              "       [4.97213426, 0.38933276, 3.37738931],\n",
              "       [4.6955761 , 0.46344363, 3.07471224],\n",
              "       [4.9236821 , 0.3286031 , 3.31506588],\n",
              "       [5.59713396, 0.64029681, 3.93167253],\n",
              "       [4.68193765, 0.38259639, 3.01233762],\n",
              "       [4.75095704, 0.48701129, 3.06241269],\n",
              "       [4.90772894, 0.45208406, 3.19414543],\n",
              "       [4.84545508, 0.20875823, 3.17967089],\n",
              "       [4.93969029, 0.21536016, 3.30941724],\n",
              "       [5.01833618, 0.21066561, 3.37648183],\n",
              "       [5.02954567, 0.40838707, 3.31272968],\n",
              "       [4.98608729, 0.41373905, 3.26550651],\n",
              "       [4.79550372, 0.42565244, 3.18083736],\n",
              "       [5.06520776, 0.71552778, 3.53142353],\n",
              "       [5.04438334, 0.91977171, 3.57102821],\n",
              "       [5.02985959, 0.34982853, 3.31992769],\n",
              "       [5.25071556, 0.35039977, 3.56904033],\n",
              "       [5.02368214, 0.52685861, 3.43783276],\n",
              "       [5.17865184, 0.25686572, 3.53114948],\n",
              "       [5.40750095, 0.76077592, 3.66205264],\n",
              "       [4.9664149 , 0.11480418, 3.31092773],\n",
              "       [5.14520862, 0.18541845, 3.49764675],\n",
              "       [5.38423754, 1.24803045, 3.60850034],\n",
              "       [5.40847417, 0.6690142 , 3.68120561],\n",
              "       [4.78803478, 0.38675574, 3.14278239],\n",
              "       [4.59828494, 0.60231221, 3.00585191],\n",
              "       [5.11844067, 0.48205809, 3.39468045],\n",
              "       [4.92421655, 0.41034132, 3.32788568],\n",
              "       [5.23766854, 0.47199576, 3.51879523],\n",
              "       [4.92859681, 0.40494444, 3.34104251],\n",
              "       [5.08216833, 0.14959947, 3.40601705],\n",
              "       [1.25489071, 3.98049997, 1.22697525],\n",
              "       [1.44477759, 3.57731464, 0.684141  ],\n",
              "       [1.01903626, 4.13366423, 1.17527644],\n",
              "       [2.45978458, 3.01144152, 0.73153652],\n",
              "       [1.3520017 , 3.74779669, 0.63853451],\n",
              "       [1.88009327, 3.34908644, 0.26937898],\n",
              "       [1.28902785, 3.74283048, 0.76452634],\n",
              "       [3.37155487, 2.23937045, 1.58388575],\n",
              "       [1.41123804, 3.71181627, 0.75582717],\n",
              "       [2.58955659, 2.8005678 , 0.85984838],\n",
              "       [3.27864111, 2.60022691, 1.53611907],\n",
              "       [1.90055758, 3.17042268, 0.32426175],\n",
              "       [2.38073698, 3.08317693, 0.80841374],\n",
              "       [1.45909603, 3.64581678, 0.39674141],\n",
              "       [2.60303733, 2.51268382, 0.87269542],\n",
              "       [1.50822767, 3.59732957, 0.87306498],\n",
              "       [1.85387593, 3.36719171, 0.41229163],\n",
              "       [2.25517257, 2.94753796, 0.53579956],\n",
              "       [1.74778451, 3.70615434, 0.6367639 ],\n",
              "       [2.49557781, 2.80841236, 0.71254917],\n",
              "       [1.37094403, 3.79583719, 0.7093731 ],\n",
              "       [2.06563694, 3.02383531, 0.46349013],\n",
              "       [1.29106776, 3.99098735, 0.69373966],\n",
              "       [1.57547425, 3.60360653, 0.43661144],\n",
              "       [1.70495043, 3.37448959, 0.54593856],\n",
              "       [1.52298639, 3.56196294, 0.74313017],\n",
              "       [1.18965415, 4.01083283, 0.98798453],\n",
              "       [0.84636259, 4.20528001, 1.06739835],\n",
              "       [1.61913335, 3.47401497, 0.21993519],\n",
              "       [2.77868071, 2.42676328, 1.0243726 ],\n",
              "       [2.6440625 , 2.73795179, 0.86396528],\n",
              "       [2.75566654, 2.62259032, 0.97566381],\n",
              "       [2.32254696, 2.83096803, 0.55763082],\n",
              "       [1.22324554, 4.07263797, 0.73395781],\n",
              "       [1.9942056 , 3.33772078, 0.57500396],\n",
              "       [1.61049622, 3.47153856, 0.68790275],\n",
              "       [1.19803047, 3.87741924, 0.92700552],\n",
              "       [1.81572464, 3.56224367, 0.61459444],\n",
              "       [2.20430516, 2.93359506, 0.50830256],\n",
              "       [2.40438484, 2.94237659, 0.6291191 ],\n",
              "       [2.14635877, 3.23598208, 0.48790256],\n",
              "       [1.52402278, 3.5438369 , 0.38266958],\n",
              "       [2.26286106, 2.94407541, 0.49185351],\n",
              "       [3.33648305, 2.28455247, 1.5485635 ],\n",
              "       [2.16211718, 3.08064604, 0.3856087 ],\n",
              "       [2.11299567, 3.01190637, 0.44284695],\n",
              "       [2.07973003, 3.0607156 , 0.3449879 ],\n",
              "       [1.76829182, 3.29690461, 0.37241653],\n",
              "       [3.44291999, 1.99117553, 1.66064034],\n",
              "       [2.16527941, 2.99098312, 0.38393196],\n",
              "       [0.77731871, 5.23113563, 2.0445799 ],\n",
              "       [1.29757391, 4.13898297, 0.85382472],\n",
              "       [0.30610139, 5.26319105, 2.05245342],\n",
              "       [0.65293923, 4.63585807, 1.33089245],\n",
              "       [0.38458885, 5.00515534, 1.72813078],\n",
              "       [1.14225684, 6.06204421, 2.87401886],\n",
              "       [2.4108337 , 3.49513662, 1.07101875],\n",
              "       [0.78573677, 5.6002125 , 2.39730707],\n",
              "       [0.65454939, 4.9963967 , 1.67668563],\n",
              "       [0.8435596 , 5.60667281, 2.54158648],\n",
              "       [0.74552218, 4.31225927, 1.17541367],\n",
              "       [0.75289837, 4.46533089, 1.13563278],\n",
              "       [0.25958095, 4.81086063, 1.59322675],\n",
              "       [1.48572618, 4.11543193, 0.88917352],\n",
              "       [1.30303821, 4.34736472, 1.20227628],\n",
              "       [0.68288333, 4.57650303, 1.42273608],\n",
              "       [0.50991553, 4.59734489, 1.33403966],\n",
              "       [1.47791217, 6.21697515, 3.20105585],\n",
              "       [1.52971038, 6.46018421, 3.20759942],\n",
              "       [1.53708992, 4.07258886, 0.82617494],\n",
              "       [0.26952816, 5.08121836, 1.91251832],\n",
              "       [1.5334904 , 3.95519658, 0.81891975],\n",
              "       [1.31149299, 6.17779734, 2.9794431 ],\n",
              "       [1.10668455, 4.05452587, 0.74269596],\n",
              "       [0.27627819, 4.92787784, 1.75847731],\n",
              "       [0.52766931, 5.27958142, 2.14580999],\n",
              "       [1.20765678, 3.92137476, 0.62526165],\n",
              "       [1.16212743, 3.95155412, 0.70228926],\n",
              "       [0.54629196, 4.78518338, 1.4663925 ],\n",
              "       [0.59428255, 5.06442297, 1.93773659],\n",
              "       [0.7312665 , 5.51111422, 2.31885342],\n",
              "       [1.43802246, 5.99783127, 3.07340053],\n",
              "       [0.5605572 , 4.8248088 , 1.51444141],\n",
              "       [1.05631592, 4.10808715, 0.81536685],\n",
              "       [1.12133058, 4.50967626, 1.23209127],\n",
              "       [0.95311851, 5.75940796, 2.6381171 ],\n",
              "       [0.73306362, 4.84127876, 1.72401927],\n",
              "       [0.57903109, 4.557541  , 1.31541133],\n",
              "       [1.29960041, 3.83775716, 0.61011676],\n",
              "       [0.34794609, 4.7581488 , 1.60532899],\n",
              "       [0.3893492 , 4.97393004, 1.77481954],\n",
              "       [0.68403844, 4.59878027, 1.53937059],\n",
              "       [1.29757391, 4.13898297, 0.85382472],\n",
              "       [0.30952112, 5.21394093, 2.00764279],\n",
              "       [0.50939919, 5.09187392, 1.94554509],\n",
              "       [0.61173881, 4.60916261, 1.44957743],\n",
              "       [1.10072376, 4.21767471, 0.89747884],\n",
              "       [0.65334214, 4.41184542, 1.17993324],\n",
              "       [0.83572418, 4.59925864, 1.50889317],\n",
              "       [1.1805499 , 4.0782815 , 0.83452741]])"
            ]
          },
          "metadata": {},
          "execution_count": 7
        }
      ]
    },
    {
      "cell_type": "code",
      "metadata": {
        "colab": {
          "base_uri": "https://localhost:8080/"
        },
        "id": "jwcqNpwOEilG",
        "outputId": "121d541b-e45e-41ec-b889-be27d59f1727"
      },
      "source": [
        "k.labels_"
      ],
      "execution_count": 8,
      "outputs": [
        {
          "output_type": "execute_result",
          "data": {
            "text/plain": [
              "array([1, 1, 1, 1, 1, 1, 1, 1, 1, 1, 1, 1, 1, 1, 1, 1, 1, 1, 1, 1, 1, 1,\n",
              "       1, 1, 1, 1, 1, 1, 1, 1, 1, 1, 1, 1, 1, 1, 1, 1, 1, 1, 1, 1, 1, 1,\n",
              "       1, 1, 1, 1, 1, 1, 2, 2, 0, 2, 2, 2, 2, 2, 2, 2, 2, 2, 2, 2, 2, 2,\n",
              "       2, 2, 2, 2, 2, 2, 2, 2, 2, 2, 2, 0, 2, 2, 2, 2, 2, 2, 2, 2, 2, 2,\n",
              "       2, 2, 2, 2, 2, 2, 2, 2, 2, 2, 2, 2, 0, 2, 0, 0, 0, 0, 2, 0, 0, 0,\n",
              "       0, 0, 0, 2, 2, 0, 0, 0, 0, 2, 0, 2, 0, 2, 0, 0, 2, 2, 0, 0, 0, 0,\n",
              "       0, 2, 0, 0, 0, 0, 2, 0, 0, 0, 2, 0, 0, 0, 2, 0, 0, 2], dtype=int32)"
            ]
          },
          "metadata": {},
          "execution_count": 8
        }
      ]
    },
    {
      "cell_type": "code",
      "metadata": {
        "id": "nwfdtZX-EO3T"
      },
      "source": [
        "y_k = k.fit_predict(data)"
      ],
      "execution_count": 9,
      "outputs": []
    },
    {
      "cell_type": "code",
      "metadata": {
        "colab": {
          "base_uri": "https://localhost:8080/",
          "height": 287
        },
        "id": "20aEBU8OEWpD",
        "outputId": "0cde18bc-c789-4e24-89c5-75c3de3e61eb"
      },
      "source": [
        "plt.scatter(data[y_k ==0,0],data[y_k==0,1],c='green')\n",
        "plt.scatter(data[y_k ==1,0],data[y_k==1,1],c='blue')\n",
        "plt.scatter(data[y_k ==2,0],data[y_k==2,1],c='yellow')"
      ],
      "execution_count": 10,
      "outputs": [
        {
          "output_type": "execute_result",
          "data": {
            "text/plain": [
              "<matplotlib.collections.PathCollection at 0x7f85fd411710>"
            ]
          },
          "metadata": {},
          "execution_count": 10
        },
        {
          "output_type": "display_data",
          "data": {
            "image/png": "[encoded data removed]",
            "text/plain": [
              "<Figure size 432x288 with 1 Axes>"
            ]
          },
          "metadata": {
            "needs_background": "light"
          }
        }
      ]
    },
    {
      "cell_type": "code",
      "metadata": {
        "colab": {
          "base_uri": "https://localhost:8080/",
          "height": 268
        },
        "id": "c0dd-_5-FBhS",
        "outputId": "22034efe-ab8f-4e5f-d4a6-2cb421fe71b6"
      },
      "source": [
        "plt.scatter(data[:, 0], data[:, 1], c=y_k, s=50, cmap='viridis')\n",
        "centers = k.cluster_centers_\n",
        "plt.scatter(centers[:, 0], centers[:, 1], c='black', s=200, alpha=0.5);"
      ],
      "execution_count": 11,
      "outputs": [
        {
          "output_type": "display_data",
          "data": {
            "image/png": "[encoded data removed]",
            "text/plain": [
              "<Figure size 432x288 with 1 Axes>"
            ]
          },
          "metadata": {
            "needs_background": "light"
          }
        }
      ]
    },
    {
      "cell_type": "code",
      "metadata": {
        "colab": {
          "base_uri": "https://localhost:8080/",
          "height": 314
        },
        "id": "yEr6hwzdGfS3",
        "outputId": "e86dd216-585e-42ed-c994-027941ba9037"
      },
      "source": [
        "wcss=[]\n",
        "for i in range(1,7):\n",
        "  kmeans = KMeans(i)\n",
        "  kmeans.fit(data)\n",
        "  wcss_iter = kmeans.inertia_\n",
        "  wcss.append(wcss_iter)\n",
        "\n",
        "number_clusters = range(1,7)\n",
        "plt.plot(number_clusters,wcss)\n",
        "plt.title('The Elbow title')\n",
        "plt.xlabel('Number of clusters')\n",
        "plt.ylabel('WCSS')"
      ],
      "execution_count": 12,
      "outputs": [
        {
          "output_type": "execute_result",
          "data": {
            "text/plain": [
              "Text(0, 0.5, 'WCSS')"
            ]
          },
          "metadata": {},
          "execution_count": 12
        },
        {
          "output_type": "display_data",
          "data": {
            "image/png": "[encoded data removed]",
            "text/plain": [
              "<Figure size 432x288 with 1 Axes>"
            ]
          },
          "metadata": {
            "needs_background": "light"
          }
        }
      ]
    },
    {
      "cell_type": "markdown",
      "metadata": {
        "id": "74eGeJgyID5M"
      },
      "source": [
        "#Hierachical Clustering"
      ]
    },
    {
      "cell_type": "code",
      "metadata": {
        "id": "lG2PshGlHR0S"
      },
      "source": [
        "import sklearn\n",
        "import scipy.cluster.hierarchy as sch\n",
        "from sklearn.cluster import AgglomerativeClustering"
      ],
      "execution_count": 13,
      "outputs": []
    },
    {
      "cell_type": "markdown",
      "metadata": {
        "id": "rV8BkRo8J2uf"
      },
      "source": [
        "#Single link"
      ]
    },
    {
      "cell_type": "code",
      "metadata": {
        "colab": {
          "base_uri": "https://localhost:8080/"
        },
        "id": "mycZFtCvI6DO",
        "outputId": "e5045c01-ffe5-496d-cdcd-ad97c0b10662"
      },
      "source": [
        "hcs = AgglomerativeClustering(linkage='single',n_clusters=3).fit(data)\n",
        "hcs.labels_"
      ],
      "execution_count": 14,
      "outputs": [
        {
          "output_type": "execute_result",
          "data": {
            "text/plain": [
              "array([1, 1, 1, 1, 1, 1, 1, 1, 1, 1, 1, 1, 1, 1, 1, 1, 1, 1, 1, 1, 1, 1,\n",
              "       1, 1, 1, 1, 1, 1, 1, 1, 1, 1, 1, 1, 1, 1, 1, 1, 1, 1, 1, 1, 1, 1,\n",
              "       1, 1, 1, 1, 1, 1, 0, 0, 0, 0, 0, 0, 0, 0, 0, 0, 0, 0, 0, 0, 0, 0,\n",
              "       0, 0, 0, 0, 0, 0, 0, 0, 0, 0, 0, 0, 0, 0, 0, 0, 0, 0, 0, 0, 0, 0,\n",
              "       0, 0, 0, 0, 0, 0, 0, 0, 0, 0, 0, 0, 0, 0, 0, 0, 0, 0, 0, 0, 0, 0,\n",
              "       0, 0, 0, 0, 0, 0, 0, 2, 0, 0, 0, 0, 0, 0, 0, 0, 0, 0, 0, 0, 0, 2,\n",
              "       0, 0, 0, 0, 0, 0, 0, 0, 0, 0, 0, 0, 0, 0, 0, 0, 0, 0])"
            ]
          },
          "metadata": {},
          "execution_count": 14
        }
      ]
    },
    {
      "cell_type": "code",
      "metadata": {
        "id": "veVtAZM1JAH4"
      },
      "source": [
        "y_hcs = hcs.fit_predict(data)"
      ],
      "execution_count": 15,
      "outputs": []
    },
    {
      "cell_type": "code",
      "metadata": {
        "colab": {
          "base_uri": "https://localhost:8080/",
          "height": 287
        },
        "id": "f0kcBsnyJJ92",
        "outputId": "a8ce9c85-c712-4928-a7e7-b4c4188c2fa1"
      },
      "source": [
        "plt.scatter(data[y_hcs ==0,0],data[y_hcs==0,1],c='green')\n",
        "plt.scatter(data[y_hcs ==1,0],data[y_hcs==1,1],c='blue')\n",
        "plt.scatter(data[y_hcs ==2,0],data[y_hcs==2,1],c='yellow')"
      ],
      "execution_count": 16,
      "outputs": [
        {
          "output_type": "execute_result",
          "data": {
            "text/plain": [
              "<matplotlib.collections.PathCollection at 0x7f85fab84d90>"
            ]
          },
          "metadata": {},
          "execution_count": 16
        },
        {
          "output_type": "display_data",
          "data": {
            "image/png": "[encoded data removed]",
            "text/plain": [
              "<Figure size 432x288 with 1 Axes>"
            ]
          },
          "metadata": {
            "needs_background": "light"
          }
        }
      ]
    },
    {
      "cell_type": "code",
      "metadata": {
        "colab": {
          "base_uri": "https://localhost:8080/",
          "height": 265
        },
        "id": "RgLiwl6OJdTi",
        "outputId": "fb3738f3-1170-4450-cbca-e883adc50b49"
      },
      "source": [
        "dendrogram = sch.dendrogram(sch.linkage(data,method='single'))"
      ],
      "execution_count": 17,
      "outputs": [
        {
          "output_type": "display_data",
          "data": {
            "image/png": "[encoded data removed]",
            "text/plain": [
              "<Figure size 432x288 with 1 Axes>"
            ]
          },
          "metadata": {
            "needs_background": "light"
          }
        }
      ]
    },
    {
      "cell_type": "markdown",
      "metadata": {
        "id": "JNqRwmtmJ6-M"
      },
      "source": [
        "#Complete Link"
      ]
    },
    {
      "cell_type": "code",
      "metadata": {
        "colab": {
          "base_uri": "https://localhost:8080/"
        },
        "id": "1O0u-mpxJxVt",
        "outputId": "bd72de0c-54fd-4c56-ed3d-2ccd090ef85e"
      },
      "source": [
        "hcc = AgglomerativeClustering(linkage='complete',n_clusters=3).fit(data)\n",
        "hcc.labels_"
      ],
      "execution_count": 18,
      "outputs": [
        {
          "output_type": "execute_result",
          "data": {
            "text/plain": [
              "array([1, 1, 1, 1, 1, 1, 1, 1, 1, 1, 1, 1, 1, 1, 1, 1, 1, 1, 1, 1, 1, 1,\n",
              "       1, 1, 1, 1, 1, 1, 1, 1, 1, 1, 1, 1, 1, 1, 1, 1, 1, 1, 1, 1, 1, 1,\n",
              "       1, 1, 1, 1, 1, 1, 0, 0, 0, 2, 0, 2, 0, 2, 0, 2, 2, 2, 2, 0, 2, 0,\n",
              "       2, 2, 0, 2, 0, 2, 0, 0, 0, 0, 0, 0, 0, 2, 2, 2, 2, 0, 2, 0, 0, 0,\n",
              "       2, 2, 2, 0, 2, 2, 2, 2, 2, 0, 2, 2, 0, 0, 0, 0, 0, 0, 2, 0, 0, 0,\n",
              "       0, 0, 0, 0, 0, 0, 0, 0, 0, 0, 0, 0, 0, 0, 0, 0, 0, 0, 0, 0, 0, 0,\n",
              "       0, 0, 0, 0, 0, 0, 0, 0, 0, 0, 0, 0, 0, 0, 0, 0, 0, 0])"
            ]
          },
          "metadata": {},
          "execution_count": 18
        }
      ]
    },
    {
      "cell_type": "code",
      "metadata": {
        "id": "WpZh2p2UKBXw"
      },
      "source": [
        "y_hcc = hcc.fit_predict(data)"
      ],
      "execution_count": 19,
      "outputs": []
    },
    {
      "cell_type": "code",
      "metadata": {
        "colab": {
          "base_uri": "https://localhost:8080/",
          "height": 287
        },
        "id": "O8ooDTnrKGIN",
        "outputId": "db2fc0cd-b265-4595-87be-52fad6d3a9de"
      },
      "source": [
        "plt.scatter(data[y_hcc ==0,0],data[y_hcc==0,1],c='green')\n",
        "plt.scatter(data[y_hcc ==1,0],data[y_hcc==1,1],c='blue')\n",
        "plt.scatter(data[y_hcc ==2,0],data[y_hcc==2,1],c='yellow')"
      ],
      "execution_count": 20,
      "outputs": [
        {
          "output_type": "execute_result",
          "data": {
            "text/plain": [
              "<matplotlib.collections.PathCollection at 0x7f85fd363b90>"
            ]
          },
          "metadata": {},
          "execution_count": 20
        },
        {
          "output_type": "display_data",
          "data": {
            "image/png": "[encoded data removed]",
            "text/plain": [
              "<Figure size 432x288 with 1 Axes>"
            ]
          },
          "metadata": {
            "needs_background": "light"
          }
        }
      ]
    },
    {
      "cell_type": "code",
      "metadata": {
        "colab": {
          "base_uri": "https://localhost:8080/",
          "height": 265
        },
        "id": "NRXnKQwGKQIR",
        "outputId": "924c0468-674a-4875-fcb9-f943c10aa589"
      },
      "source": [
        "dendrogram = sch.dendrogram(sch.linkage(data,method='complete'))"
      ],
      "execution_count": 21,
      "outputs": [
        {
          "output_type": "display_data",
          "data": {
            "image/png": "[encoded data removed]",
            "text/plain": [
              "<Figure size 432x288 with 1 Axes>"
            ]
          },
          "metadata": {
            "needs_background": "light"
          }
        }
      ]
    },
    {
      "cell_type": "markdown",
      "metadata": {
        "id": "xFB1IPepKVTX"
      },
      "source": [
        "#Average Link"
      ]
    },
    {
      "cell_type": "code",
      "metadata": {
        "colab": {
          "base_uri": "https://localhost:8080/"
        },
        "id": "U2_-Am06KZK1",
        "outputId": "49dd8b4e-25af-4967-9ea3-bcfbf0e75a6d"
      },
      "source": [
        "hca = AgglomerativeClustering(linkage='average',n_clusters=3).fit(data)\n",
        "hca.labels_"
      ],
      "execution_count": 22,
      "outputs": [
        {
          "output_type": "execute_result",
          "data": {
            "text/plain": [
              "array([1, 1, 1, 1, 1, 1, 1, 1, 1, 1, 1, 1, 1, 1, 1, 1, 1, 1, 1, 1, 1, 1,\n",
              "       1, 1, 1, 1, 1, 1, 1, 1, 1, 1, 1, 1, 1, 1, 1, 1, 1, 1, 1, 1, 1, 1,\n",
              "       1, 1, 1, 1, 1, 1, 0, 0, 0, 0, 0, 0, 0, 0, 0, 0, 0, 0, 0, 0, 0, 0,\n",
              "       0, 0, 0, 0, 0, 0, 0, 0, 0, 0, 0, 0, 0, 0, 0, 0, 0, 0, 0, 0, 0, 0,\n",
              "       0, 0, 0, 0, 0, 0, 0, 0, 0, 0, 0, 0, 2, 0, 2, 2, 2, 2, 0, 2, 2, 2,\n",
              "       2, 2, 2, 0, 0, 2, 2, 2, 2, 0, 2, 0, 2, 0, 2, 2, 0, 0, 2, 2, 2, 2,\n",
              "       2, 0, 2, 2, 2, 2, 0, 2, 2, 2, 0, 2, 2, 2, 0, 2, 2, 0])"
            ]
          },
          "metadata": {},
          "execution_count": 22
        }
      ]
    },
    {
      "cell_type": "code",
      "metadata": {
        "id": "SXo7LVSCKdXj"
      },
      "source": [
        "y_hca = hca.fit_predict(data)"
      ],
      "execution_count": 23,
      "outputs": []
    },
    {
      "cell_type": "code",
      "metadata": {
        "colab": {
          "base_uri": "https://localhost:8080/",
          "height": 287
        },
        "id": "BqSLNvtxKgAU",
        "outputId": "c282f027-f79a-4fa6-cacf-6a7421d5c94b"
      },
      "source": [
        "plt.scatter(data[y_hca ==0,0],data[y_hca==0,1],c='green')\n",
        "plt.scatter(data[y_hca ==1,0],data[y_hca==1,1],c='blue')\n",
        "plt.scatter(data[y_hca ==2,0],data[y_hca==2,1],c='yellow')"
      ],
      "execution_count": 24,
      "outputs": [
        {
          "output_type": "execute_result",
          "data": {
            "text/plain": [
              "<matplotlib.collections.PathCollection at 0x7f85fd998dd0>"
            ]
          },
          "metadata": {},
          "execution_count": 24
        },
        {
          "output_type": "display_data",
          "data": {
            "image/png": "[encoded data removed]",
            "text/plain": [
              "<Figure size 432x288 with 1 Axes>"
            ]
          },
          "metadata": {
            "needs_background": "light"
          }
        }
      ]
    },
    {
      "cell_type": "code",
      "metadata": {
        "colab": {
          "base_uri": "https://localhost:8080/",
          "height": 265
        },
        "id": "imjXAS94KibO",
        "outputId": "1116c3b2-88e6-4153-e790-3ff3120ba688"
      },
      "source": [
        "dendrogram = sch.dendrogram(sch.linkage(data,method='average'))"
      ],
      "execution_count": 25,
      "outputs": [
        {
          "output_type": "display_data",
          "data": {
            "image/png": "[encoded data removed]",
            "text/plain": [
              "<Figure size 432x288 with 1 Axes>"
            ]
          },
          "metadata": {
            "needs_background": "light"
          }
        }
      ]
    },
    {
      "cell_type": "markdown",
      "metadata": {
        "id": "SCHn5Sp_SkYl"
      },
      "source": [
        "#Gaussian Mixture Model Clustering"
      ]
    },
    {
      "cell_type": "code",
      "metadata": {
        "id": "6lToPkB5LCL4"
      },
      "source": [
        "from sklearn.mixture import GaussianMixture"
      ],
      "execution_count": 26,
      "outputs": []
    },
    {
      "cell_type": "code",
      "metadata": {
        "colab": {
          "base_uri": "https://localhost:8080/"
        },
        "id": "Z3uril6jVE-x",
        "outputId": "557ce4ce-6648-4340-e89d-a6653ef9d269"
      },
      "source": [
        "gmm = GaussianMixture(n_components=3).fit(data)\n",
        "y_gmm = gmm.fit_predict(data)\n",
        "y_gmm"
      ],
      "execution_count": 27,
      "outputs": [
        {
          "output_type": "execute_result",
          "data": {
            "text/plain": [
              "array([1, 1, 1, 1, 1, 1, 1, 1, 1, 1, 1, 1, 1, 1, 1, 1, 1, 1, 1, 1, 1, 1,\n",
              "       1, 1, 1, 1, 1, 1, 1, 1, 1, 1, 1, 1, 1, 1, 1, 1, 1, 1, 1, 1, 1, 1,\n",
              "       1, 1, 1, 1, 1, 1, 2, 2, 2, 2, 2, 2, 2, 2, 2, 2, 2, 2, 2, 2, 2, 2,\n",
              "       2, 2, 0, 2, 0, 2, 0, 2, 2, 2, 2, 0, 2, 2, 2, 2, 2, 0, 2, 2, 2, 2,\n",
              "       2, 2, 2, 2, 2, 2, 2, 2, 2, 2, 2, 2, 0, 0, 0, 0, 0, 0, 0, 0, 0, 0,\n",
              "       0, 0, 0, 0, 0, 0, 0, 0, 0, 0, 0, 0, 0, 0, 0, 0, 0, 0, 0, 0, 0, 0,\n",
              "       0, 0, 0, 0, 0, 0, 0, 0, 0, 0, 0, 0, 0, 0, 0, 0, 0, 0])"
            ]
          },
          "metadata": {},
          "execution_count": 27
        }
      ]
    },
    {
      "cell_type": "code",
      "metadata": {
        "colab": {
          "base_uri": "https://localhost:8080/",
          "height": 287
        },
        "id": "mRCFj91TXRi-",
        "outputId": "120b6674-b2be-49f9-a989-d28d60a0c98d"
      },
      "source": [
        "plt.scatter(data[y_gmm ==0,0],data[y_gmm==0,1],c='green')\n",
        "plt.scatter(data[y_gmm ==1,0],data[y_gmm==1,1],c='blue')\n",
        "plt.scatter(data[y_gmm ==2,0],data[y_gmm==2,1],c='yellow')"
      ],
      "execution_count": 28,
      "outputs": [
        {
          "output_type": "execute_result",
          "data": {
            "text/plain": [
              "<matplotlib.collections.PathCollection at 0x7f85fa70bf50>"
            ]
          },
          "metadata": {},
          "execution_count": 28
        },
        {
          "output_type": "display_data",
          "data": {
            "image/png": "[encoded data removed]",
            "text/plain": [
              "<Figure size 432x288 with 1 Axes>"
            ]
          },
          "metadata": {
            "needs_background": "light"
          }
        }
      ]
    },
    {
      "cell_type": "markdown",
      "metadata": {
        "id": "ygmKuDKPdwbl"
      },
      "source": [
        "#Setup Pycaret"
      ]
    },
    {
      "cell_type": "code",
      "metadata": {
        "colab": {
          "base_uri": "https://localhost:8080/"
        },
        "id": "8YQS1AYgc1_t",
        "outputId": "e22a9341-def2-48bb-a8c9-18468bef40fa"
      },
      "source": [
        "!pip install pycaret"
      ],
      "execution_count": 71,
      "outputs": [
        {
          "output_type": "stream",
          "name": "stdout",
          "text": [
            "Requirement already satisfied: pycaret in /usr/local/lib/python3.7/dist-packages (2.3.5)\n",
            "Requirement already satisfied: nltk in /usr/local/lib/python3.7/dist-packages (from pycaret) (3.2.5)\n",
            "Requirement already satisfied: seaborn in /usr/local/lib/python3.7/dist-packages (from pycaret) (0.11.2)\n",
            "Requirement already satisfied: pandas in /usr/local/lib/python3.7/dist-packages (from pycaret) (1.1.5)\n",
            "Requirement already satisfied: cufflinks>=0.17.0 in /usr/local/lib/python3.7/dist-packages (from pycaret) (0.17.3)\n",
            "Requirement already satisfied: textblob in /usr/local/lib/python3.7/dist-packages (from pycaret) (0.15.3)\n",
            "Requirement already satisfied: plotly>=4.4.1 in /usr/local/lib/python3.7/dist-packages (from pycaret) (4.4.1)\n",
            "Requirement already satisfied: yellowbrick>=1.0.1 in /usr/local/lib/python3.7/dist-packages (from pycaret) (1.3.post1)\n",
            "Requirement already satisfied: scikit-plot in /usr/local/lib/python3.7/dist-packages (from pycaret) (0.3.7)\n",
            "Requirement already satisfied: numpy==1.19.5 in /usr/local/lib/python3.7/dist-packages (from pycaret) (1.19.5)\n",
            "Requirement already satisfied: matplotlib in /usr/local/lib/python3.7/dist-packages (from pycaret) (3.2.2)\n",
            "Requirement already satisfied: mlxtend>=0.17.0 in /usr/local/lib/python3.7/dist-packages (from pycaret) (0.19.0)\n",
            "Requirement already satisfied: pyLDAvis in /usr/local/lib/python3.7/dist-packages (from pycaret) (3.2.2)\n",
            "Requirement already satisfied: pyod in /usr/local/lib/python3.7/dist-packages (from pycaret) (0.9.5)\n",
            "Requirement already satisfied: ipywidgets in /usr/local/lib/python3.7/dist-packages (from pycaret) (7.6.5)\n",
            "Requirement already satisfied: wordcloud in /usr/local/lib/python3.7/dist-packages (from pycaret) (1.5.0)\n",
            "Requirement already satisfied: kmodes>=0.10.1 in /usr/local/lib/python3.7/dist-packages (from pycaret) (0.11.1)\n",
            "Requirement already satisfied: scipy<=1.5.4 in /usr/local/lib/python3.7/dist-packages (from pycaret) (1.5.4)\n",
            "Requirement already satisfied: Boruta in /usr/local/lib/python3.7/dist-packages (from pycaret) (0.3)\n",
            "Requirement already satisfied: imbalanced-learn==0.7.0 in /usr/local/lib/python3.7/dist-packages (from pycaret) (0.7.0)\n",
            "Requirement already satisfied: lightgbm>=2.3.1 in /usr/local/lib/python3.7/dist-packages (from pycaret) (3.3.1)\n",
            "Requirement already satisfied: spacy<2.4.0 in /usr/local/lib/python3.7/dist-packages (from pycaret) (2.2.4)\n",
            "Requirement already satisfied: mlflow in /usr/local/lib/python3.7/dist-packages (from pycaret) (1.21.0)\n",
            "Requirement already satisfied: joblib in /usr/local/lib/python3.7/dist-packages (from pycaret) (1.0.1)\n",
            "Requirement already satisfied: IPython in /usr/local/lib/python3.7/dist-packages (from pycaret) (5.5.0)\n",
            "Requirement already satisfied: umap-learn in /usr/local/lib/python3.7/dist-packages (from pycaret) (0.5.2)\n",
            "Requirement already satisfied: pandas-profiling>=2.8.0 in /usr/local/lib/python3.7/dist-packages (from pycaret) (3.1.0)\n",
            "Requirement already satisfied: gensim<4.0.0 in /usr/local/lib/python3.7/dist-packages (from pycaret) (3.6.0)\n",
            "Requirement already satisfied: scikit-learn==0.23.2 in /usr/local/lib/python3.7/dist-packages (from pycaret) (0.23.2)\n",
            "Requirement already satisfied: threadpoolctl>=2.0.0 in /usr/local/lib/python3.7/dist-packages (from scikit-learn==0.23.2->pycaret) (3.0.0)\n",
            "Requirement already satisfied: setuptools>=34.4.1 in /usr/local/lib/python3.7/dist-packages (from cufflinks>=0.17.0->pycaret) (57.4.0)\n",
            "Requirement already satisfied: six>=1.9.0 in /usr/local/lib/python3.7/dist-packages (from cufflinks>=0.17.0->pycaret) (1.15.0)\n",
            "Requirement already satisfied: colorlover>=0.2.1 in /usr/local/lib/python3.7/dist-packages (from cufflinks>=0.17.0->pycaret) (0.3.0)\n",
            "Requirement already satisfied: smart-open>=1.2.1 in /usr/local/lib/python3.7/dist-packages (from gensim<4.0.0->pycaret) (5.2.1)\n",
            "Requirement already satisfied: prompt-toolkit<2.0.0,>=1.0.4 in /usr/local/lib/python3.7/dist-packages (from IPython->pycaret) (1.0.18)\n",
            "Requirement already satisfied: simplegeneric>0.8 in /usr/local/lib/python3.7/dist-packages (from IPython->pycaret) (0.8.1)\n",
            "Requirement already satisfied: pexpect in /usr/local/lib/python3.7/dist-packages (from IPython->pycaret) (4.8.0)\n",
            "Requirement already satisfied: decorator in /usr/local/lib/python3.7/dist-packages (from IPython->pycaret) (4.4.2)\n",
            "Requirement already satisfied: pickleshare in /usr/local/lib/python3.7/dist-packages (from IPython->pycaret) (0.7.5)\n",
            "Requirement already satisfied: traitlets>=4.2 in /usr/local/lib/python3.7/dist-packages (from IPython->pycaret) (5.1.1)\n",
            "Requirement already satisfied: pygments in /usr/local/lib/python3.7/dist-packages (from IPython->pycaret) (2.6.1)\n",
            "Requirement already satisfied: ipython-genutils~=0.2.0 in /usr/local/lib/python3.7/dist-packages (from ipywidgets->pycaret) (0.2.0)\n",
            "Requirement already satisfied: widgetsnbextension~=3.5.0 in /usr/local/lib/python3.7/dist-packages (from ipywidgets->pycaret) (3.5.2)\n",
            "Requirement already satisfied: jupyterlab-widgets>=1.0.0 in /usr/local/lib/python3.7/dist-packages (from ipywidgets->pycaret) (1.0.2)\n",
            "Requirement already satisfied: ipykernel>=4.5.1 in /usr/local/lib/python3.7/dist-packages (from ipywidgets->pycaret) (4.10.1)\n",
            "Requirement already satisfied: nbformat>=4.2.0 in /usr/local/lib/python3.7/dist-packages (from ipywidgets->pycaret) (5.1.3)\n",
            "Requirement already satisfied: tornado>=4.0 in /usr/local/lib/python3.7/dist-packages (from ipykernel>=4.5.1->ipywidgets->pycaret) (5.1.1)\n",
            "Requirement already satisfied: jupyter-client in /usr/local/lib/python3.7/dist-packages (from ipykernel>=4.5.1->ipywidgets->pycaret) (5.3.5)\n",
            "Requirement already satisfied: wheel in /usr/local/lib/python3.7/dist-packages (from lightgbm>=2.3.1->pycaret) (0.37.0)\n",
            "Requirement already satisfied: pyparsing!=2.0.4,!=2.1.2,!=2.1.6,>=2.0.1 in /usr/local/lib/python3.7/dist-packages (from matplotlib->pycaret) (3.0.6)\n",
            "Requirement already satisfied: cycler>=0.10 in /usr/local/lib/python3.7/dist-packages (from matplotlib->pycaret) (0.11.0)\n",
            "Requirement already satisfied: python-dateutil>=2.1 in /usr/local/lib/python3.7/dist-packages (from matplotlib->pycaret) (2.8.2)\n",
            "Requirement already satisfied: kiwisolver>=1.0.1 in /usr/local/lib/python3.7/dist-packages (from matplotlib->pycaret) (1.3.2)\n",
            "Requirement already satisfied: jsonschema!=2.5.0,>=2.4 in /usr/local/lib/python3.7/dist-packages (from nbformat>=4.2.0->ipywidgets->pycaret) (2.6.0)\n",
            "Requirement already satisfied: jupyter-core in /usr/local/lib/python3.7/dist-packages (from nbformat>=4.2.0->ipywidgets->pycaret) (4.9.1)\n",
            "Requirement already satisfied: pytz>=2017.2 in /usr/local/lib/python3.7/dist-packages (from pandas->pycaret) (2018.9)\n",
            "Requirement already satisfied: pydantic>=1.8.1 in /usr/local/lib/python3.7/dist-packages (from pandas-profiling>=2.8.0->pycaret) (1.8.2)\n",
            "Requirement already satisfied: PyYAML>=5.0.0 in /usr/local/lib/python3.7/dist-packages (from pandas-profiling>=2.8.0->pycaret) (6.0)\n",
            "Requirement already satisfied: requests>=2.24.0 in /usr/local/lib/python3.7/dist-packages (from pandas-profiling>=2.8.0->pycaret) (2.26.0)\n",
            "Requirement already satisfied: tangled-up-in-unicode==0.1.0 in /usr/local/lib/python3.7/dist-packages (from pandas-profiling>=2.8.0->pycaret) (0.1.0)\n",
            "Requirement already satisfied: phik>=0.11.1 in /usr/local/lib/python3.7/dist-packages (from pandas-profiling>=2.8.0->pycaret) (0.12.0)\n",
            "Requirement already satisfied: multimethod>=1.4 in /usr/local/lib/python3.7/dist-packages (from pandas-profiling>=2.8.0->pycaret) (1.6)\n",
            "Requirement already satisfied: markupsafe~=2.0.1 in /usr/local/lib/python3.7/dist-packages (from pandas-profiling>=2.8.0->pycaret) (2.0.1)\n",
            "Requirement already satisfied: missingno>=0.4.2 in /usr/local/lib/python3.7/dist-packages (from pandas-profiling>=2.8.0->pycaret) (0.5.0)\n",
            "Requirement already satisfied: tqdm>=4.48.2 in /usr/local/lib/python3.7/dist-packages (from pandas-profiling>=2.8.0->pycaret) (4.62.3)\n",
            "Requirement already satisfied: visions[type_image_path]==0.7.4 in /usr/local/lib/python3.7/dist-packages (from pandas-profiling>=2.8.0->pycaret) (0.7.4)\n",
            "Requirement already satisfied: jinja2>=2.11.1 in /usr/local/lib/python3.7/dist-packages (from pandas-profiling>=2.8.0->pycaret) (2.11.3)\n",
            "Requirement already satisfied: htmlmin>=0.1.12 in /usr/local/lib/python3.7/dist-packages (from pandas-profiling>=2.8.0->pycaret) (0.1.12)\n",
            "Requirement already satisfied: networkx>=2.4 in /usr/local/lib/python3.7/dist-packages (from visions[type_image_path]==0.7.4->pandas-profiling>=2.8.0->pycaret) (2.6.3)\n",
            "Requirement already satisfied: attrs>=19.3.0 in /usr/local/lib/python3.7/dist-packages (from visions[type_image_path]==0.7.4->pandas-profiling>=2.8.0->pycaret) (21.2.0)\n",
            "Requirement already satisfied: Pillow in /usr/local/lib/python3.7/dist-packages (from visions[type_image_path]==0.7.4->pandas-profiling>=2.8.0->pycaret) (7.1.2)\n",
            "Requirement already satisfied: imagehash in /usr/local/lib/python3.7/dist-packages (from visions[type_image_path]==0.7.4->pandas-profiling>=2.8.0->pycaret) (4.2.1)\n",
            "Requirement already satisfied: retrying>=1.3.3 in /usr/local/lib/python3.7/dist-packages (from plotly>=4.4.1->pycaret) (1.3.3)\n",
            "Requirement already satisfied: wcwidth in /usr/local/lib/python3.7/dist-packages (from prompt-toolkit<2.0.0,>=1.0.4->IPython->pycaret) (0.2.5)\n",
            "Requirement already satisfied: typing-extensions>=3.7.4.3 in /usr/local/lib/python3.7/dist-packages (from pydantic>=1.8.1->pandas-profiling>=2.8.0->pycaret) (3.10.0.2)\n",
            "Requirement already satisfied: certifi>=2017.4.17 in /usr/local/lib/python3.7/dist-packages (from requests>=2.24.0->pandas-profiling>=2.8.0->pycaret) (2021.10.8)\n",
            "Requirement already satisfied: urllib3<1.27,>=1.21.1 in /usr/local/lib/python3.7/dist-packages (from requests>=2.24.0->pandas-profiling>=2.8.0->pycaret) (1.24.3)\n",
            "Requirement already satisfied: charset-normalizer~=2.0.0 in /usr/local/lib/python3.7/dist-packages (from requests>=2.24.0->pandas-profiling>=2.8.0->pycaret) (2.0.7)\n",
            "Requirement already satisfied: idna<4,>=2.5 in /usr/local/lib/python3.7/dist-packages (from requests>=2.24.0->pandas-profiling>=2.8.0->pycaret) (2.10)\n",
            "Requirement already satisfied: plac<1.2.0,>=0.9.6 in /usr/local/lib/python3.7/dist-packages (from spacy<2.4.0->pycaret) (1.1.3)\n",
            "Requirement already satisfied: thinc==7.4.0 in /usr/local/lib/python3.7/dist-packages (from spacy<2.4.0->pycaret) (7.4.0)\n",
            "Requirement already satisfied: srsly<1.1.0,>=1.0.2 in /usr/local/lib/python3.7/dist-packages (from spacy<2.4.0->pycaret) (1.0.5)\n",
            "Requirement already satisfied: cymem<2.1.0,>=2.0.2 in /usr/local/lib/python3.7/dist-packages (from spacy<2.4.0->pycaret) (2.0.6)\n",
            "Requirement already satisfied: catalogue<1.1.0,>=0.0.7 in /usr/local/lib/python3.7/dist-packages (from spacy<2.4.0->pycaret) (1.0.0)\n",
            "Requirement already satisfied: blis<0.5.0,>=0.4.0 in /usr/local/lib/python3.7/dist-packages (from spacy<2.4.0->pycaret) (0.4.1)\n",
            "Requirement already satisfied: preshed<3.1.0,>=3.0.2 in /usr/local/lib/python3.7/dist-packages (from spacy<2.4.0->pycaret) (3.0.6)\n",
            "Requirement already satisfied: wasabi<1.1.0,>=0.4.0 in /usr/local/lib/python3.7/dist-packages (from spacy<2.4.0->pycaret) (0.8.2)\n",
            "Requirement already satisfied: murmurhash<1.1.0,>=0.28.0 in /usr/local/lib/python3.7/dist-packages (from spacy<2.4.0->pycaret) (1.0.6)\n",
            "Requirement already satisfied: importlib-metadata>=0.20 in /usr/local/lib/python3.7/dist-packages (from catalogue<1.1.0,>=0.0.7->spacy<2.4.0->pycaret) (4.8.2)\n",
            "Requirement already satisfied: zipp>=0.5 in /usr/local/lib/python3.7/dist-packages (from importlib-metadata>=0.20->catalogue<1.1.0,>=0.0.7->spacy<2.4.0->pycaret) (3.6.0)\n",
            "Requirement already satisfied: notebook>=4.4.1 in /usr/local/lib/python3.7/dist-packages (from widgetsnbextension~=3.5.0->ipywidgets->pycaret) (5.3.1)\n",
            "Requirement already satisfied: terminado>=0.8.1 in /usr/local/lib/python3.7/dist-packages (from notebook>=4.4.1->widgetsnbextension~=3.5.0->ipywidgets->pycaret) (0.12.1)\n",
            "Requirement already satisfied: nbconvert in /usr/local/lib/python3.7/dist-packages (from notebook>=4.4.1->widgetsnbextension~=3.5.0->ipywidgets->pycaret) (5.6.1)\n",
            "Requirement already satisfied: Send2Trash in /usr/local/lib/python3.7/dist-packages (from notebook>=4.4.1->widgetsnbextension~=3.5.0->ipywidgets->pycaret) (1.8.0)\n",
            "Requirement already satisfied: pyzmq>=13 in /usr/local/lib/python3.7/dist-packages (from jupyter-client->ipykernel>=4.5.1->ipywidgets->pycaret) (22.3.0)\n",
            "Requirement already satisfied: ptyprocess in /usr/local/lib/python3.7/dist-packages (from terminado>=0.8.1->notebook>=4.4.1->widgetsnbextension~=3.5.0->ipywidgets->pycaret) (0.7.0)\n",
            "Requirement already satisfied: PyWavelets in /usr/local/lib/python3.7/dist-packages (from imagehash->visions[type_image_path]==0.7.4->pandas-profiling>=2.8.0->pycaret) (1.2.0)\n",
            "Requirement already satisfied: gunicorn in /usr/local/lib/python3.7/dist-packages (from mlflow->pycaret) (20.1.0)\n",
            "Requirement already satisfied: Flask in /usr/local/lib/python3.7/dist-packages (from mlflow->pycaret) (1.1.4)\n",
            "Requirement already satisfied: sqlalchemy in /usr/local/lib/python3.7/dist-packages (from mlflow->pycaret) (1.4.27)\n",
            "Requirement already satisfied: prometheus-flask-exporter in /usr/local/lib/python3.7/dist-packages (from mlflow->pycaret) (0.18.6)\n",
            "Requirement already satisfied: entrypoints in /usr/local/lib/python3.7/dist-packages (from mlflow->pycaret) (0.3)\n",
            "Requirement already satisfied: click>=7.0 in /usr/local/lib/python3.7/dist-packages (from mlflow->pycaret) (7.1.2)\n",
            "Requirement already satisfied: databricks-cli>=0.8.7 in /usr/local/lib/python3.7/dist-packages (from mlflow->pycaret) (0.16.2)\n",
            "Requirement already satisfied: packaging in /usr/local/lib/python3.7/dist-packages (from mlflow->pycaret) (21.3)\n",
            "Requirement already satisfied: sqlparse>=0.3.1 in /usr/local/lib/python3.7/dist-packages (from mlflow->pycaret) (0.4.2)\n",
            "Requirement already satisfied: gitpython>=2.1.0 in /usr/local/lib/python3.7/dist-packages (from mlflow->pycaret) (3.1.24)\n",
            "Requirement already satisfied: querystring-parser in /usr/local/lib/python3.7/dist-packages (from mlflow->pycaret) (1.2.4)\n",
            "Requirement already satisfied: alembic<=1.4.1 in /usr/local/lib/python3.7/dist-packages (from mlflow->pycaret) (1.4.1)\n",
            "Requirement already satisfied: cloudpickle in /usr/local/lib/python3.7/dist-packages (from mlflow->pycaret) (1.3.0)\n",
            "Requirement already satisfied: docker>=4.0.0 in /usr/local/lib/python3.7/dist-packages (from mlflow->pycaret) (5.0.3)\n",
            "Requirement already satisfied: protobuf>=3.7.0 in /usr/local/lib/python3.7/dist-packages (from mlflow->pycaret) (3.17.3)\n",
            "Requirement already satisfied: Mako in /usr/local/lib/python3.7/dist-packages (from alembic<=1.4.1->mlflow->pycaret) (1.1.6)\n",
            "Requirement already satisfied: python-editor>=0.3 in /usr/local/lib/python3.7/dist-packages (from alembic<=1.4.1->mlflow->pycaret) (1.0.4)\n",
            "Requirement already satisfied: tabulate>=0.7.7 in /usr/local/lib/python3.7/dist-packages (from databricks-cli>=0.8.7->mlflow->pycaret) (0.8.9)\n",
            "Requirement already satisfied: websocket-client>=0.32.0 in /usr/local/lib/python3.7/dist-packages (from docker>=4.0.0->mlflow->pycaret) (1.2.1)\n",
            "Requirement already satisfied: gitdb<5,>=4.0.1 in /usr/local/lib/python3.7/dist-packages (from gitpython>=2.1.0->mlflow->pycaret) (4.0.9)\n",
            "Requirement already satisfied: smmap<6,>=3.0.1 in /usr/local/lib/python3.7/dist-packages (from gitdb<5,>=4.0.1->gitpython>=2.1.0->mlflow->pycaret) (5.0.0)\n",
            "Requirement already satisfied: greenlet!=0.4.17 in /usr/local/lib/python3.7/dist-packages (from sqlalchemy->mlflow->pycaret) (1.1.2)\n",
            "Requirement already satisfied: itsdangerous<2.0,>=0.24 in /usr/local/lib/python3.7/dist-packages (from Flask->mlflow->pycaret) (1.1.0)\n",
            "Requirement already satisfied: Werkzeug<2.0,>=0.15 in /usr/local/lib/python3.7/dist-packages (from Flask->mlflow->pycaret) (1.0.1)\n",
            "Requirement already satisfied: bleach in /usr/local/lib/python3.7/dist-packages (from nbconvert->notebook>=4.4.1->widgetsnbextension~=3.5.0->ipywidgets->pycaret) (4.1.0)\n",
            "Requirement already satisfied: mistune<2,>=0.8.1 in /usr/local/lib/python3.7/dist-packages (from nbconvert->notebook>=4.4.1->widgetsnbextension~=3.5.0->ipywidgets->pycaret) (0.8.4)\n",
            "Requirement already satisfied: testpath in /usr/local/lib/python3.7/dist-packages (from nbconvert->notebook>=4.4.1->widgetsnbextension~=3.5.0->ipywidgets->pycaret) (0.5.0)\n",
            "Requirement already satisfied: defusedxml in /usr/local/lib/python3.7/dist-packages (from nbconvert->notebook>=4.4.1->widgetsnbextension~=3.5.0->ipywidgets->pycaret) (0.7.1)\n",
            "Requirement already satisfied: pandocfilters>=1.4.1 in /usr/local/lib/python3.7/dist-packages (from nbconvert->notebook>=4.4.1->widgetsnbextension~=3.5.0->ipywidgets->pycaret) (1.5.0)\n",
            "Requirement already satisfied: webencodings in /usr/local/lib/python3.7/dist-packages (from bleach->nbconvert->notebook>=4.4.1->widgetsnbextension~=3.5.0->ipywidgets->pycaret) (0.5.1)\n",
            "Requirement already satisfied: prometheus-client in /usr/local/lib/python3.7/dist-packages (from prometheus-flask-exporter->mlflow->pycaret) (0.12.0)\n",
            "Requirement already satisfied: future in /usr/local/lib/python3.7/dist-packages (from pyLDAvis->pycaret) (0.16.0)\n",
            "Requirement already satisfied: funcy in /usr/local/lib/python3.7/dist-packages (from pyLDAvis->pycaret) (1.16)\n",
            "Requirement already satisfied: numexpr in /usr/local/lib/python3.7/dist-packages (from pyLDAvis->pycaret) (2.7.3)\n",
            "Requirement already satisfied: statsmodels in /usr/local/lib/python3.7/dist-packages (from pyod->pycaret) (0.10.2)\n",
            "Requirement already satisfied: numba>=0.35 in /usr/local/lib/python3.7/dist-packages (from pyod->pycaret) (0.51.2)\n",
            "Requirement already satisfied: llvmlite<0.35,>=0.34.0.dev0 in /usr/local/lib/python3.7/dist-packages (from numba>=0.35->pyod->pycaret) (0.34.0)\n",
            "Requirement already satisfied: patsy>=0.4.0 in /usr/local/lib/python3.7/dist-packages (from statsmodels->pyod->pycaret) (0.5.2)\n",
            "Requirement already satisfied: pynndescent>=0.5 in /usr/local/lib/python3.7/dist-packages (from umap-learn->pycaret) (0.5.5)\n"
          ]
        }
      ]
    },
    {
      "cell_type": "code",
      "metadata": {
        "colab": {
          "base_uri": "https://localhost:8080/",
          "height": 427
        },
        "id": "wICrsXsArira",
        "outputId": "cba335a8-6b69-4ea3-f423-899492332a2c"
      },
      "source": [
        "!pip install --upgrade numpy"
      ],
      "execution_count": 85,
      "outputs": [
        {
          "output_type": "stream",
          "name": "stdout",
          "text": [
            "Requirement already satisfied: numpy in /usr/local/lib/python3.7/dist-packages (1.19.5)\n",
            "Collecting numpy\n",
            "  Downloading numpy-1.21.4-cp37-cp37m-manylinux_2_12_x86_64.manylinux2010_x86_64.whl (15.7 MB)\n",
            "\u001b[K     |████████████████████████████████| 15.7 MB 4.1 MB/s \n",
            "\u001b[?25hInstalling collected packages: numpy\n",
            "  Attempting uninstall: numpy\n",
            "    Found existing installation: numpy 1.19.5\n",
            "    Uninstalling numpy-1.19.5:\n",
            "      Successfully uninstalled numpy-1.19.5\n",
            "\u001b[31mERROR: pip's dependency resolver does not currently take into account all the packages that are installed. This behaviour is the source of the following dependency conflicts.\n",
            "yellowbrick 1.3.post1 requires numpy<1.20,>=1.16.0, but you have numpy 1.21.4 which is incompatible.\n",
            "pycaret 2.3.5 requires numpy==1.19.5, but you have numpy 1.21.4 which is incompatible.\n",
            "google-colab 1.0.0 requires requests~=2.23.0, but you have requests 2.26.0 which is incompatible.\n",
            "datascience 0.10.6 requires folium==0.2.1, but you have folium 0.8.3 which is incompatible.\n",
            "albumentations 0.1.12 requires imgaug<0.2.7,>=0.2.5, but you have imgaug 0.2.9 which is incompatible.\u001b[0m\n",
            "Successfully installed numpy-1.21.4\n"
          ]
        },
        {
          "output_type": "display_data",
          "data": {
            "application/vnd.colab-display-data+json": {
              "pip_warning": {
                "packages": [
                  "numpy"
                ]
              }
            }
          },
          "metadata": {}
        }
      ]
    },
    {
      "cell_type": "markdown",
      "metadata": {
        "id": "UgIk83H6aZE6"
      },
      "source": [
        "#DB Scan Clustering using PyCaret"
      ]
    },
    {
      "cell_type": "code",
      "metadata": {
        "id": "k7eqY1bNgygw"
      },
      "source": [
        "# Importing module and initializing setup\n",
        "from pycaret.datasets import get_data"
      ],
      "execution_count": 29,
      "outputs": []
    },
    {
      "cell_type": "code",
      "metadata": {
        "colab": {
          "base_uri": "https://localhost:8080/",
          "height": 206
        },
        "id": "4oNHwEbUqycN",
        "outputId": "e64004d2-75c9-4a02-f391-91edc3292bce"
      },
      "source": [
        "dataset = get_data(\"iris\")"
      ],
      "execution_count": 30,
      "outputs": [
        {
          "output_type": "display_data",
          "data": {
            "text/html": [
              "<div>\n",
              "<style scoped>\n",
              "    .dataframe tbody tr th:only-of-type {\n",
              "        vertical-align: middle;\n",
              "    }\n",
              "\n",
              "    .dataframe tbody tr th {\n",
              "        vertical-align: top;\n",
              "    }\n",
              "\n",
              "    .dataframe thead th {\n",
              "        text-align: right;\n",
              "    }\n",
              "</style>\n",
              "<table border=\"1\" class=\"dataframe\">\n",
              "  <thead>\n",
              "    <tr style=\"text-align: right;\">\n",
              "      <th></th>\n",
              "      <th>sepal_length</th>\n",
              "      <th>sepal_width</th>\n",
              "      <th>petal_length</th>\n",
              "      <th>petal_width</th>\n",
              "      <th>species</th>\n",
              "    </tr>\n",
              "  </thead>\n",
              "  <tbody>\n",
              "    <tr>\n",
              "      <th>0</th>\n",
              "      <td>5.1</td>\n",
              "      <td>3.5</td>\n",
              "      <td>1.4</td>\n",
              "      <td>0.2</td>\n",
              "      <td>Iris-setosa</td>\n",
              "    </tr>\n",
              "    <tr>\n",
              "      <th>1</th>\n",
              "      <td>4.9</td>\n",
              "      <td>3.0</td>\n",
              "      <td>1.4</td>\n",
              "      <td>0.2</td>\n",
              "      <td>Iris-setosa</td>\n",
              "    </tr>\n",
              "    <tr>\n",
              "      <th>2</th>\n",
              "      <td>4.7</td>\n",
              "      <td>3.2</td>\n",
              "      <td>1.3</td>\n",
              "      <td>0.2</td>\n",
              "      <td>Iris-setosa</td>\n",
              "    </tr>\n",
              "    <tr>\n",
              "      <th>3</th>\n",
              "      <td>4.6</td>\n",
              "      <td>3.1</td>\n",
              "      <td>1.5</td>\n",
              "      <td>0.2</td>\n",
              "      <td>Iris-setosa</td>\n",
              "    </tr>\n",
              "    <tr>\n",
              "      <th>4</th>\n",
              "      <td>5.0</td>\n",
              "      <td>3.6</td>\n",
              "      <td>1.4</td>\n",
              "      <td>0.2</td>\n",
              "      <td>Iris-setosa</td>\n",
              "    </tr>\n",
              "  </tbody>\n",
              "</table>\n",
              "</div>"
            ],
            "text/plain": [
              "   sepal_length  sepal_width  petal_length  petal_width      species\n",
              "0           5.1          3.5           1.4          0.2  Iris-setosa\n",
              "1           4.9          3.0           1.4          0.2  Iris-setosa\n",
              "2           4.7          3.2           1.3          0.2  Iris-setosa\n",
              "3           4.6          3.1           1.5          0.2  Iris-setosa\n",
              "4           5.0          3.6           1.4          0.2  Iris-setosa"
            ]
          },
          "metadata": {}
        }
      ]
    },
    {
      "cell_type": "code",
      "metadata": {
        "id": "sD4vfnWMq5js"
      },
      "source": [
        "from pycaret.clustering import *"
      ],
      "execution_count": 31,
      "outputs": []
    },
    {
      "cell_type": "code",
      "metadata": {
        "colab": {
          "base_uri": "https://localhost:8080/",
          "height": 1000,
          "referenced_widgets": [
            "6944b7d481e14afc806beaa139b4cacd",
            "a0b6a1c5a75941cbabfebc8a4c342161",
            "0bb825f2da194af38386726aaaa9075e",
            "e43f50d3ec454551a65adb1689d7afbd",
            "dcc9e4672fcf4d7c8229704b9fda7260",
            "5ebce134ea1c4a5ab35ccf91e9345c68"
          ]
        },
        "id": "jmQ79eUmsO-g",
        "outputId": "7b727d15-27cf-45a4-d598-33c5771cd024"
      },
      "source": [
        "clust = setup(data=x)"
      ],
      "execution_count": 34,
      "outputs": [
        {
          "output_type": "display_data",
          "data": {
            "text/html": [
              "<div>\n",
              "<style scoped>\n",
              "    .dataframe tbody tr th:only-of-type {\n",
              "        vertical-align: middle;\n",
              "    }\n",
              "\n",
              "    .dataframe tbody tr th {\n",
              "        vertical-align: top;\n",
              "    }\n",
              "\n",
              "    .dataframe thead th {\n",
              "        text-align: right;\n",
              "    }\n",
              "</style>\n",
              "<table border=\"1\" class=\"dataframe\">\n",
              "  <thead>\n",
              "    <tr style=\"text-align: right;\">\n",
              "      <th></th>\n",
              "      <th>Description</th>\n",
              "      <th>Value</th>\n",
              "    </tr>\n",
              "  </thead>\n",
              "  <tbody>\n",
              "    <tr>\n",
              "      <th>0</th>\n",
              "      <td>session_id</td>\n",
              "      <td>5031</td>\n",
              "    </tr>\n",
              "    <tr>\n",
              "      <th>1</th>\n",
              "      <td>Original Data</td>\n",
              "      <td>(150, 4)</td>\n",
              "    </tr>\n",
              "    <tr>\n",
              "      <th>2</th>\n",
              "      <td>Missing Values</td>\n",
              "      <td>False</td>\n",
              "    </tr>\n",
              "    <tr>\n",
              "      <th>3</th>\n",
              "      <td>Numeric Features</td>\n",
              "      <td>4</td>\n",
              "    </tr>\n",
              "    <tr>\n",
              "      <th>4</th>\n",
              "      <td>Categorical Features</td>\n",
              "      <td>0</td>\n",
              "    </tr>\n",
              "    <tr>\n",
              "      <th>5</th>\n",
              "      <td>Ordinal Features</td>\n",
              "      <td>False</td>\n",
              "    </tr>\n",
              "    <tr>\n",
              "      <th>6</th>\n",
              "      <td>High Cardinality Features</td>\n",
              "      <td>False</td>\n",
              "    </tr>\n",
              "    <tr>\n",
              "      <th>7</th>\n",
              "      <td>High Cardinality Method</td>\n",
              "      <td>None</td>\n",
              "    </tr>\n",
              "    <tr>\n",
              "      <th>8</th>\n",
              "      <td>Transformed Data</td>\n",
              "      <td>(150, 4)</td>\n",
              "    </tr>\n",
              "    <tr>\n",
              "      <th>9</th>\n",
              "      <td>CPU Jobs</td>\n",
              "      <td>-1</td>\n",
              "    </tr>\n",
              "    <tr>\n",
              "      <th>10</th>\n",
              "      <td>Use GPU</td>\n",
              "      <td>False</td>\n",
              "    </tr>\n",
              "    <tr>\n",
              "      <th>11</th>\n",
              "      <td>Log Experiment</td>\n",
              "      <td>False</td>\n",
              "    </tr>\n",
              "    <tr>\n",
              "      <th>12</th>\n",
              "      <td>Experiment Name</td>\n",
              "      <td>cluster-default-name</td>\n",
              "    </tr>\n",
              "    <tr>\n",
              "      <th>13</th>\n",
              "      <td>USI</td>\n",
              "      <td>706c</td>\n",
              "    </tr>\n",
              "    <tr>\n",
              "      <th>14</th>\n",
              "      <td>Imputation Type</td>\n",
              "      <td>simple</td>\n",
              "    </tr>\n",
              "    <tr>\n",
              "      <th>15</th>\n",
              "      <td>Iterative Imputation Iteration</td>\n",
              "      <td>None</td>\n",
              "    </tr>\n",
              "    <tr>\n",
              "      <th>16</th>\n",
              "      <td>Numeric Imputer</td>\n",
              "      <td>mean</td>\n",
              "    </tr>\n",
              "    <tr>\n",
              "      <th>17</th>\n",
              "      <td>Iterative Imputation Numeric Model</td>\n",
              "      <td>None</td>\n",
              "    </tr>\n",
              "    <tr>\n",
              "      <th>18</th>\n",
              "      <td>Categorical Imputer</td>\n",
              "      <td>mode</td>\n",
              "    </tr>\n",
              "    <tr>\n",
              "      <th>19</th>\n",
              "      <td>Iterative Imputation Categorical Model</td>\n",
              "      <td>None</td>\n",
              "    </tr>\n",
              "    <tr>\n",
              "      <th>20</th>\n",
              "      <td>Unknown Categoricals Handling</td>\n",
              "      <td>least_frequent</td>\n",
              "    </tr>\n",
              "    <tr>\n",
              "      <th>21</th>\n",
              "      <td>Normalize</td>\n",
              "      <td>False</td>\n",
              "    </tr>\n",
              "    <tr>\n",
              "      <th>22</th>\n",
              "      <td>Normalize Method</td>\n",
              "      <td>None</td>\n",
              "    </tr>\n",
              "    <tr>\n",
              "      <th>23</th>\n",
              "      <td>Transformation</td>\n",
              "      <td>False</td>\n",
              "    </tr>\n",
              "    <tr>\n",
              "      <th>24</th>\n",
              "      <td>Transformation Method</td>\n",
              "      <td>None</td>\n",
              "    </tr>\n",
              "    <tr>\n",
              "      <th>25</th>\n",
              "      <td>PCA</td>\n",
              "      <td>False</td>\n",
              "    </tr>\n",
              "    <tr>\n",
              "      <th>26</th>\n",
              "      <td>PCA Method</td>\n",
              "      <td>None</td>\n",
              "    </tr>\n",
              "    <tr>\n",
              "      <th>27</th>\n",
              "      <td>PCA Components</td>\n",
              "      <td>None</td>\n",
              "    </tr>\n",
              "    <tr>\n",
              "      <th>28</th>\n",
              "      <td>Ignore Low Variance</td>\n",
              "      <td>False</td>\n",
              "    </tr>\n",
              "    <tr>\n",
              "      <th>29</th>\n",
              "      <td>Combine Rare Levels</td>\n",
              "      <td>False</td>\n",
              "    </tr>\n",
              "    <tr>\n",
              "      <th>30</th>\n",
              "      <td>Rare Level Threshold</td>\n",
              "      <td>None</td>\n",
              "    </tr>\n",
              "    <tr>\n",
              "      <th>31</th>\n",
              "      <td>Numeric Binning</td>\n",
              "      <td>False</td>\n",
              "    </tr>\n",
              "    <tr>\n",
              "      <th>32</th>\n",
              "      <td>Remove Outliers</td>\n",
              "      <td>False</td>\n",
              "    </tr>\n",
              "    <tr>\n",
              "      <th>33</th>\n",
              "      <td>Outliers Threshold</td>\n",
              "      <td>None</td>\n",
              "    </tr>\n",
              "    <tr>\n",
              "      <th>34</th>\n",
              "      <td>Remove Multicollinearity</td>\n",
              "      <td>False</td>\n",
              "    </tr>\n",
              "    <tr>\n",
              "      <th>35</th>\n",
              "      <td>Multicollinearity Threshold</td>\n",
              "      <td>None</td>\n",
              "    </tr>\n",
              "    <tr>\n",
              "      <th>36</th>\n",
              "      <td>Remove Perfect Collinearity</td>\n",
              "      <td>False</td>\n",
              "    </tr>\n",
              "    <tr>\n",
              "      <th>37</th>\n",
              "      <td>Clustering</td>\n",
              "      <td>False</td>\n",
              "    </tr>\n",
              "    <tr>\n",
              "      <th>38</th>\n",
              "      <td>Clustering Iteration</td>\n",
              "      <td>None</td>\n",
              "    </tr>\n",
              "    <tr>\n",
              "      <th>39</th>\n",
              "      <td>Polynomial Features</td>\n",
              "      <td>False</td>\n",
              "    </tr>\n",
              "    <tr>\n",
              "      <th>40</th>\n",
              "      <td>Polynomial Degree</td>\n",
              "      <td>None</td>\n",
              "    </tr>\n",
              "    <tr>\n",
              "      <th>41</th>\n",
              "      <td>Trignometry Features</td>\n",
              "      <td>False</td>\n",
              "    </tr>\n",
              "    <tr>\n",
              "      <th>42</th>\n",
              "      <td>Polynomial Threshold</td>\n",
              "      <td>None</td>\n",
              "    </tr>\n",
              "    <tr>\n",
              "      <th>43</th>\n",
              "      <td>Group Features</td>\n",
              "      <td>False</td>\n",
              "    </tr>\n",
              "    <tr>\n",
              "      <th>44</th>\n",
              "      <td>Feature Selection</td>\n",
              "      <td>False</td>\n",
              "    </tr>\n",
              "    <tr>\n",
              "      <th>45</th>\n",
              "      <td>Feature Selection Method</td>\n",
              "      <td>classic</td>\n",
              "    </tr>\n",
              "    <tr>\n",
              "      <th>46</th>\n",
              "      <td>Features Selection Threshold</td>\n",
              "      <td>None</td>\n",
              "    </tr>\n",
              "    <tr>\n",
              "      <th>47</th>\n",
              "      <td>Feature Interaction</td>\n",
              "      <td>False</td>\n",
              "    </tr>\n",
              "    <tr>\n",
              "      <th>48</th>\n",
              "      <td>Feature Ratio</td>\n",
              "      <td>False</td>\n",
              "    </tr>\n",
              "    <tr>\n",
              "      <th>49</th>\n",
              "      <td>Interaction Threshold</td>\n",
              "      <td>None</td>\n",
              "    </tr>\n",
              "  </tbody>\n",
              "</table>\n",
              "</div>"
            ],
            "text/plain": [
              "                               Description                 Value\n",
              "0                               session_id                  5031\n",
              "1                            Original Data              (150, 4)\n",
              "2                           Missing Values                 False\n",
              "3                         Numeric Features                     4\n",
              "4                     Categorical Features                     0\n",
              "5                         Ordinal Features                 False\n",
              "6                High Cardinality Features                 False\n",
              "7                  High Cardinality Method                  None\n",
              "8                         Transformed Data              (150, 4)\n",
              "9                                 CPU Jobs                    -1\n",
              "10                                 Use GPU                 False\n",
              "11                          Log Experiment                 False\n",
              "12                         Experiment Name  cluster-default-name\n",
              "13                                     USI                  706c\n",
              "14                         Imputation Type                simple\n",
              "15          Iterative Imputation Iteration                  None\n",
              "16                         Numeric Imputer                  mean\n",
              "17      Iterative Imputation Numeric Model                  None\n",
              "18                     Categorical Imputer                  mode\n",
              "19  Iterative Imputation Categorical Model                  None\n",
              "20           Unknown Categoricals Handling        least_frequent\n",
              "21                               Normalize                 False\n",
              "22                        Normalize Method                  None\n",
              "23                          Transformation                 False\n",
              "24                   Transformation Method                  None\n",
              "25                                     PCA                 False\n",
              "26                              PCA Method                  None\n",
              "27                          PCA Components                  None\n",
              "28                     Ignore Low Variance                 False\n",
              "29                     Combine Rare Levels                 False\n",
              "30                    Rare Level Threshold                  None\n",
              "31                         Numeric Binning                 False\n",
              "32                         Remove Outliers                 False\n",
              "33                      Outliers Threshold                  None\n",
              "34                Remove Multicollinearity                 False\n",
              "35             Multicollinearity Threshold                  None\n",
              "36             Remove Perfect Collinearity                 False\n",
              "37                              Clustering                 False\n",
              "38                    Clustering Iteration                  None\n",
              "39                     Polynomial Features                 False\n",
              "40                       Polynomial Degree                  None\n",
              "41                    Trignometry Features                 False\n",
              "42                    Polynomial Threshold                  None\n",
              "43                          Group Features                 False\n",
              "44                       Feature Selection                 False\n",
              "45                Feature Selection Method               classic\n",
              "46            Features Selection Threshold                  None\n",
              "47                     Feature Interaction                 False\n",
              "48                           Feature Ratio                 False\n",
              "49                   Interaction Threshold                  None"
            ]
          },
          "metadata": {}
        }
      ]
    },
    {
      "cell_type": "code",
      "metadata": {
        "colab": {
          "base_uri": "https://localhost:8080/",
          "height": 80,
          "referenced_widgets": [
            "eef925b731a84cce80a796a484b223bf",
            "f3c7dcd29df043ee89ba9884bf9fc9c6",
            "cab95d0e990f44fb8d0acdbdff9ef8ef"
          ]
        },
        "id": "o5lgtkqdsrg-",
        "outputId": "3fc8cd23-b37c-43a0-ccb0-261d08ad75ab"
      },
      "source": [
        "dbscan = create_model('dbscan')"
      ],
      "execution_count": 35,
      "outputs": [
        {
          "output_type": "display_data",
          "data": {
            "text/html": [
              "<div>\n",
              "<style scoped>\n",
              "    .dataframe tbody tr th:only-of-type {\n",
              "        vertical-align: middle;\n",
              "    }\n",
              "\n",
              "    .dataframe tbody tr th {\n",
              "        vertical-align: top;\n",
              "    }\n",
              "\n",
              "    .dataframe thead th {\n",
              "        text-align: right;\n",
              "    }\n",
              "</style>\n",
              "<table border=\"1\" class=\"dataframe\">\n",
              "  <thead>\n",
              "    <tr style=\"text-align: right;\">\n",
              "      <th></th>\n",
              "      <th>Silhouette</th>\n",
              "      <th>Calinski-Harabasz</th>\n",
              "      <th>Davies-Bouldin</th>\n",
              "      <th>Homogeneity</th>\n",
              "      <th>Rand Index</th>\n",
              "      <th>Completeness</th>\n",
              "    </tr>\n",
              "  </thead>\n",
              "  <tbody>\n",
              "    <tr>\n",
              "      <th>0</th>\n",
              "      <td>0.486</td>\n",
              "      <td>220.2976</td>\n",
              "      <td>7.2225</td>\n",
              "      <td>0</td>\n",
              "      <td>0</td>\n",
              "      <td>0</td>\n",
              "    </tr>\n",
              "  </tbody>\n",
              "</table>\n",
              "</div>"
            ],
            "text/plain": [
              "   Silhouette  Calinski-Harabasz  ...  Rand Index  Completeness\n",
              "0       0.486           220.2976  ...           0             0\n",
              "\n",
              "[1 rows x 6 columns]"
            ]
          },
          "metadata": {}
        }
      ]
    },
    {
      "cell_type": "code",
      "metadata": {
        "id": "wM6dhfJAtTyO"
      },
      "source": [
        "dbscan_df = assign_model(dbscan)"
      ],
      "execution_count": 36,
      "outputs": []
    },
    {
      "cell_type": "code",
      "metadata": {
        "colab": {
          "base_uri": "https://localhost:8080/",
          "height": 617
        },
        "id": "r9uYXW-ZtYGj",
        "outputId": "27267242-043a-4358-8e7b-3a53bb606df9"
      },
      "source": [
        "plot_model(dbscan, plot = 'cluster')"
      ],
      "execution_count": 37,
      "outputs": [
        {
          "output_type": "display_data",
          "data": {
            "text/html": [
              "<html>\n",
              "<head><meta charset=\"utf-8\" /></head>\n",
              "<body>\n",
              "    <div>\n",
              "            <script src=\"https://cdnjs.cloudflare.com/ajax/libs/mathjax/2.7.5/MathJax.js?config=TeX-AMS-MML_SVG\"></script><script type=\"text/javascript\">if (window.MathJax) {MathJax.Hub.Config({SVG: {font: \"STIX-Web\"}});}</script>\n",
              "                <script type=\"text/javascript\">window.PlotlyConfig = {MathJaxConfig: 'local'};</script>\n",
              "        <script src=\"https://cdn.plot.ly/plotly-latest.min.js\"></script>    \n",
              "            <div id=\"b94194dc-c6c6-4cfd-8943-5a8a08f6298f\" class=\"plotly-graph-div\" style=\"height:600px; width:100%;\"></div>\n",
              "            <script type=\"text/javascript\">\n",
              "                \n",
              "                    window.PLOTLYENV=window.PLOTLYENV || {};\n",
              "                    \n",
              "                if (document.getElementById(\"b94194dc-c6c6-4cfd-8943-5a8a08f6298f\")) {\n",
              "                    Plotly.newPlot(\n",
              "                        'b94194dc-c6c6-4cfd-8943-5a8a08f6298f',\n",
              "                        [{\"customdata\": [[7.7], [4.5], [7.6], [4.9], [6.7], [5.0], [4.9], [7.2], [5.1], [7.7], [6.1], [6.3], [6.2], [7.9], [7.7], [5.0], [7.7]], \"hoverlabel\": {\"namelength\": 0}, \"hovertemplate\": \"Cluster=Cluster -1<br>PCA1=%{x}<br>PCA2=%{y}<br>Feature=%{customdata[0]}\", \"legendgroup\": \"Cluster=Cluster -1\", \"marker\": {\"color\": \"#636efa\", \"opacity\": 0.5, \"symbol\": \"circle\"}, \"mode\": \"markers\", \"name\": \"Cluster=Cluster -1\", \"showlegend\": true, \"textposition\": \"top center\", \"type\": \"scatter\", \"x\": [3.4999186992645264, -2.84936785697937, 3.3970375061035156, 0.521233081817627, 2.321228504180908, -0.7045310139656067, -0.7491220235824585, 2.916750192642212, -0.9064692258834839, 3.0764987468719482, 1.7812947034835815, 0.8150949478149414, 0.9447335004806519, 3.2306721210479736, 3.487053632736206, -0.5078401565551758, 3.7956442832946777], \"xaxis\": \"x\", \"y\": [0.46067431569099426, -0.9409608244895935, 0.5508369207382202, -1.1927591562271118, -0.24383161962032318, -1.0122486352920532, -1.0048911571502686, 0.782791793346405, -0.7560936212539673, 0.6880859732627869, -0.49990198016166687, -0.372036874294281, -0.5431455969810486, 1.374165654182434, 1.1757395267486572, -1.2659715414047241, 0.2573230564594269], \"yaxis\": \"y\"}, {\"customdata\": [[5.0], [5.5], [4.9], [5.1], [5.0], [4.4], [4.8], [5.1], [5.1], [4.6], [5.3], [5.0], [4.9], [5.0], [5.5], [5.1], [5.4], [4.9], [4.7], [4.6], [5.0], [5.4], [4.6], [5.0], [4.4], [4.9], [5.4], [4.8], [5.2], [4.3], [5.8], [5.7], [4.8], [4.4], [5.0], [5.0], [5.4], [4.7], [4.8], [4.8], [5.2], [5.2], [4.6], [5.1], [5.4], [5.1], [5.7], [5.1], [5.1]], \"hoverlabel\": {\"namelength\": 0}, \"hovertemplate\": \"Cluster=Cluster 0<br>PCA1=%{x}<br>PCA2=%{y}<br>Feature=%{customdata[0]}\", \"legendgroup\": \"Cluster=Cluster 0\", \"marker\": {\"color\": \"#EF553B\", \"opacity\": 0.5, \"symbol\": \"circle\"}, \"mode\": \"markers\", \"name\": \"Cluster=Cluster 0\", \"showlegend\": true, \"textposition\": \"top center\", \"type\": \"scatter\", \"x\": [-2.866241455078125, -2.6252381801605225, -2.8006839752197266, -2.5900063514709473, -2.7701022624969482, -2.997405767440796, -2.7144510746002197, -2.209489107131958, -2.5381481647491455, -2.8394618034362793, -2.5430855751037598, -2.703359603881836, -2.6369266510009766, -2.405613899230957, -2.5987372398376465, -2.684122323989868, -2.4099323749542236, -2.714141845703125, -2.8889899253845215, -2.745342254638672, -2.7287163734436035, -2.2808597087860107, -2.8205370903015137, -2.6261448860168457, -2.8863821029663086, -2.672755718231201, -2.5069470405578613, -2.6127548217773438, -2.648862361907959, -3.2238025665283203, -2.6447505950927734, -2.3860392570495605, -2.78610897064209, -2.980501413345337, -2.4688198566436768, -2.5066683292388916, -2.623528003692627, -2.631989002227783, -2.587397813796997, -2.3557538986206055, -2.5623199939727783, -2.6395349502563477, -3.2159392833709717, -2.5437049865722656, -2.310256242752075, -2.587986469268799, -2.1998205184936523, -2.648296594619751, -2.3027327060699463], \"xaxis\": \"x\", \"y\": [0.0693645030260086, 0.5993702411651611, 0.26864364743232727, 0.2290438562631607, 0.263527512550354, -0.3419261872768402, -0.25020819902420044, 0.43666306138038635, 0.5037710666656494, -0.2279457449913025, 0.5794103145599365, 0.10770604759454727, -0.12132243812084198, 0.18887130916118622, 1.093145728111267, 0.31939709186553955, 0.41092449426651, -0.1770009547472, -0.14494967460632324, -0.3182993233203888, 0.32675445079803467, 0.7413306832313538, -0.0894615575671196, 0.16338501870632172, -0.5783118605613708, -0.11377433687448502, 0.6450691223144531, 0.014729972928762436, 0.8133636713027954, -0.511394739151001, 1.178765058517456, 1.3380624055862427, -0.23511196672916412, -0.48795852065086365, 0.13095149397850037, -0.14601697027683258, 0.8106797933578491, -0.19696149230003357, -0.2043185979127884, -0.037281837314367294, 0.36771878600120544, 0.3120400011539459, 0.13346782326698303, 0.43299606442451477, 0.39134618639945984, 0.5135602951049805, 0.8728390336036682, 0.31184908747673035, 0.09870871901512146], \"yaxis\": \"y\"}, {\"customdata\": [[6.9], [6.5], [6.4], [6.0], [6.5], [5.6], [6.8], [6.4], [6.5], [7.3], [5.8], [5.7], [6.5], [6.7], [6.3], [6.3], [6.7], [6.7], [6.8], [5.8], [6.9], [6.7], [6.9], [6.3], [6.0], [6.3], [6.3], [6.4], [7.4], [7.2], [6.4], [6.1], [6.2], [7.2], [6.4], [7.1], [6.4], [6.3], [6.3], [6.1], [5.9], [5.6], [5.8], [5.6], [6.7], [5.6], [6.1], [6.1], [6.0], [5.2], [6.6], [6.3], [5.7], [6.5], [5.5], [6.9], [6.4], [7.0], [5.9], [5.8], [6.2], [6.8], [5.7], [6.2], [5.7], [5.7], [5.6], [5.8], [6.1], [5.5], [5.5], [6.6], [5.6], [6.0], [5.4], [6.0], [5.8], [5.5], [5.5], [5.7], [6.0], [6.7], [6.7], [5.9]], \"hoverlabel\": {\"namelength\": 0}, \"hovertemplate\": \"Cluster=Cluster 1<br>PCA1=%{x}<br>PCA2=%{y}<br>Feature=%{customdata[0]}\", \"legendgroup\": \"Cluster=Cluster 1\", \"marker\": {\"color\": \"#00cc96\", \"opacity\": 0.5, \"symbol\": \"circle\"}, \"mode\": \"markers\", \"name\": \"Cluster=Cluster 1\", \"showlegend\": true, \"textposition\": \"top center\", \"type\": \"scatter\", \"x\": [2.427816867828369, 1.9496887922286987, 1.9044564962387085, 1.3007917404174805, 2.350005865097046, 1.1990015506744385, 2.165591239929199, 1.8034021854400635, 1.6617738008499146, 2.932586431503296, 1.5859286785125732, 1.3461638689041138, 1.7643452882766724, 2.2754299640655518, 1.9715309143066406, 1.527166485786438, 1.9441090822219849, 2.418745756149292, 2.5630130767822266, 1.4152361154556274, 1.9222670793533325, 2.3141543865203857, 2.1076104640960693, 1.3887659311294556, 1.1693264245986938, 2.1442432403564453, 1.4441609382629395, 2.159437656402588, 2.8416717052459717, 2.3880021572113037, 2.1236085891723633, 1.2911320924758911, 1.2585079669952393, 2.6140897274017334, 1.9050979614257812, 2.6166751384735107, 0.7148531675338745, 2.5311925411224365, 1.298183798789978, 0.3578881323337555, 1.1162834167480469, 0.045227259397506714, 0.23610499501228333, 0.6602840423583984, 0.9278602004051208, -0.17392534017562866, 0.9849341511726379, 0.9217285513877869, 0.26497650146484375, -0.008744876831769943, 1.0441311597824097, 1.0950602293014526, 0.6416690945625305, 1.0881026983261108, 0.1833181083202362, 1.464301586151123, 0.9324883222579956, 1.2848244905471802, 0.5116984844207764, 1.4152361154556274, 1.9009414911270142, 1.332024097442627, 0.2990007996559143, 0.642575740814209, 0.37621554732322693, 0.3319343030452728, 0.3569815158843994, 0.23054812848567963, 0.8908149600028992, 0.46480071544647217, 0.1664135456085205, 0.9001738429069519, 0.24595767259597778, 0.8068581819534302, 0.5880069136619568, 1.3800262212753296, 0.13642887771129608, -0.18962214887142181, -0.06812623143196106, -0.30558380484580994, 0.8132905960083008, 1.557801604270935, 1.2206900119781494, 1.3901889324188232], \"xaxis\": \"x\", \"y\": [0.37819623947143555, 0.0419432707130909, 0.11925073713064194, -0.7611497640609741, -0.04026102274656296, -0.6060919165611267, 0.21627584099769592, -0.21563759446144104, 0.24222850799560547, 0.35550040006637573, -0.5396409034729004, -0.7768186926841736, 0.07885894179344177, 0.33499056100845337, -0.17972780764102936, -0.37531688809394836, 0.18753232061862946, 0.30479809641838074, 0.2778628170490265, -0.574916422367096, 0.4092036783695221, 0.1836511492729187, 0.3722880184650421, -0.2043991982936859, -0.1649903953075409, 0.1400642693042755, -0.14341333508491516, -0.2172776162624359, 0.3752695620059967, 0.46463990211486816, -0.20972949266433716, -0.11666882038116455, -0.17970503866672516, 0.5609014630317688, 0.04930049926042557, 0.3439032733440399, 0.14905619621276855, -0.00984919909387827, -0.3277871906757355, -0.06892506778240204, -0.08461695164442062, -0.5838345885276794, -0.3336106538772583, -0.3529699742794037, 0.4671795666217804, -0.2548542618751526, -0.1248178482055664, -0.18273790180683136, -0.5500363707542419, -0.7230823636054993, 0.22836211323738098, 0.2834683954715729, -0.41824719309806824, 0.07459080964326859, -0.8279592990875244, 0.5042629837989807, 0.31833386421203613, 0.6851609349250793, -0.10398121923208237, -0.574916422367096, 0.1166277527809143, 0.2444411665201187, -0.3488980829715729, 0.017738137394189835, -0.29321908950805664, -0.21265491843223572, -0.5049102902412415, -0.40438586473464966, -0.0344645231962204, -0.670711874961853, -0.6819269061088562, 0.3285045921802521, -0.2685245871543884, 0.19418229162693024, -0.48428767919540405, -0.42095431685447693, -0.31403234601020813, -0.6802868247032166, -0.7051721811294556, -0.3682624399662018, -0.16335028409957886, 0.2674954831600189, 0.4076196253299713, -0.2826610505580902], \"yaxis\": \"y\"}],\n",
              "                        {\"height\": 600, \"legend\": {\"tracegroupgap\": 0}, \"margin\": {\"t\": 60}, \"plot_bgcolor\": \"rgb(240,240,240)\", \"template\": {\"data\": {\"bar\": [{\"error_x\": {\"color\": \"#2a3f5f\"}, \"error_y\": {\"color\": \"#2a3f5f\"}, \"marker\": {\"line\": {\"color\": \"#E5ECF6\", \"width\": 0.5}}, \"type\": \"bar\"}], \"barpolar\": [{\"marker\": {\"line\": {\"color\": \"#E5ECF6\", \"width\": 0.5}}, \"type\": \"barpolar\"}], \"carpet\": [{\"aaxis\": {\"endlinecolor\": \"#2a3f5f\", \"gridcolor\": \"white\", \"linecolor\": \"white\", \"minorgridcolor\": \"white\", \"startlinecolor\": \"#2a3f5f\"}, \"baxis\": {\"endlinecolor\": \"#2a3f5f\", \"gridcolor\": \"white\", \"linecolor\": \"white\", \"minorgridcolor\": \"white\", \"startlinecolor\": \"#2a3f5f\"}, \"type\": \"carpet\"}], \"choropleth\": [{\"colorbar\": {\"outlinewidth\": 0, \"ticks\": \"\"}, \"type\": \"choropleth\"}], \"contour\": [{\"colorbar\": {\"outlinewidth\": 0, \"ticks\": \"\"}, \"colorscale\": [[0.0, \"#0d0887\"], [0.1111111111111111, \"#46039f\"], [0.2222222222222222, \"#7201a8\"], [0.3333333333333333, \"#9c179e\"], [0.4444444444444444, \"#bd3786\"], [0.5555555555555556, \"#d8576b\"], [0.6666666666666666, \"#ed7953\"], [0.7777777777777778, \"#fb9f3a\"], [0.8888888888888888, \"#fdca26\"], [1.0, \"#f0f921\"]], \"type\": \"contour\"}], \"contourcarpet\": [{\"colorbar\": {\"outlinewidth\": 0, \"ticks\": \"\"}, \"type\": \"contourcarpet\"}], \"heatmap\": [{\"colorbar\": {\"outlinewidth\": 0, \"ticks\": \"\"}, \"colorscale\": [[0.0, \"#0d0887\"], [0.1111111111111111, \"#46039f\"], [0.2222222222222222, \"#7201a8\"], [0.3333333333333333, \"#9c179e\"], [0.4444444444444444, \"#bd3786\"], [0.5555555555555556, \"#d8576b\"], [0.6666666666666666, \"#ed7953\"], [0.7777777777777778, \"#fb9f3a\"], [0.8888888888888888, \"#fdca26\"], [1.0, \"#f0f921\"]], \"type\": \"heatmap\"}], \"heatmapgl\": [{\"colorbar\": {\"outlinewidth\": 0, \"ticks\": \"\"}, \"colorscale\": [[0.0, \"#0d0887\"], [0.1111111111111111, \"#46039f\"], [0.2222222222222222, \"#7201a8\"], [0.3333333333333333, \"#9c179e\"], [0.4444444444444444, \"#bd3786\"], [0.5555555555555556, \"#d8576b\"], [0.6666666666666666, \"#ed7953\"], [0.7777777777777778, \"#fb9f3a\"], [0.8888888888888888, \"#fdca26\"], [1.0, \"#f0f921\"]], \"type\": \"heatmapgl\"}], \"histogram\": [{\"marker\": {\"colorbar\": {\"outlinewidth\": 0, \"ticks\": \"\"}}, \"type\": \"histogram\"}], \"histogram2d\": [{\"colorbar\": {\"outlinewidth\": 0, \"ticks\": \"\"}, \"colorscale\": [[0.0, \"#0d0887\"], [0.1111111111111111, \"#46039f\"], [0.2222222222222222, \"#7201a8\"], [0.3333333333333333, \"#9c179e\"], [0.4444444444444444, \"#bd3786\"], [0.5555555555555556, \"#d8576b\"], [0.6666666666666666, \"#ed7953\"], [0.7777777777777778, \"#fb9f3a\"], [0.8888888888888888, \"#fdca26\"], [1.0, \"#f0f921\"]], \"type\": \"histogram2d\"}], \"histogram2dcontour\": [{\"colorbar\": {\"outlinewidth\": 0, \"ticks\": \"\"}, \"colorscale\": [[0.0, \"#0d0887\"], [0.1111111111111111, \"#46039f\"], [0.2222222222222222, \"#7201a8\"], [0.3333333333333333, \"#9c179e\"], [0.4444444444444444, \"#bd3786\"], [0.5555555555555556, \"#d8576b\"], [0.6666666666666666, \"#ed7953\"], [0.7777777777777778, \"#fb9f3a\"], [0.8888888888888888, \"#fdca26\"], [1.0, \"#f0f921\"]], \"type\": \"histogram2dcontour\"}], \"mesh3d\": [{\"colorbar\": {\"outlinewidth\": 0, \"ticks\": \"\"}, \"type\": \"mesh3d\"}], \"parcoords\": [{\"line\": {\"colorbar\": {\"outlinewidth\": 0, \"ticks\": \"\"}}, \"type\": \"parcoords\"}], \"pie\": [{\"automargin\": true, \"type\": \"pie\"}], \"scatter\": [{\"marker\": {\"colorbar\": {\"outlinewidth\": 0, \"ticks\": \"\"}}, \"type\": \"scatter\"}], \"scatter3d\": [{\"line\": {\"colorbar\": {\"outlinewidth\": 0, \"ticks\": \"\"}}, \"marker\": {\"colorbar\": {\"outlinewidth\": 0, \"ticks\": \"\"}}, \"type\": \"scatter3d\"}], \"scattercarpet\": [{\"marker\": {\"colorbar\": {\"outlinewidth\": 0, \"ticks\": \"\"}}, \"type\": \"scattercarpet\"}], \"scattergeo\": [{\"marker\": {\"colorbar\": {\"outlinewidth\": 0, \"ticks\": \"\"}}, \"type\": \"scattergeo\"}], \"scattergl\": [{\"marker\": {\"colorbar\": {\"outlinewidth\": 0, \"ticks\": \"\"}}, \"type\": \"scattergl\"}], \"scattermapbox\": [{\"marker\": {\"colorbar\": {\"outlinewidth\": 0, \"ticks\": \"\"}}, \"type\": \"scattermapbox\"}], \"scatterpolar\": [{\"marker\": {\"colorbar\": {\"outlinewidth\": 0, \"ticks\": \"\"}}, \"type\": \"scatterpolar\"}], \"scatterpolargl\": [{\"marker\": {\"colorbar\": {\"outlinewidth\": 0, \"ticks\": \"\"}}, \"type\": \"scatterpolargl\"}], \"scatterternary\": [{\"marker\": {\"colorbar\": {\"outlinewidth\": 0, \"ticks\": \"\"}}, \"type\": \"scatterternary\"}], \"surface\": [{\"colorbar\": {\"outlinewidth\": 0, \"ticks\": \"\"}, \"colorscale\": [[0.0, \"#0d0887\"], [0.1111111111111111, \"#46039f\"], [0.2222222222222222, \"#7201a8\"], [0.3333333333333333, \"#9c179e\"], [0.4444444444444444, \"#bd3786\"], [0.5555555555555556, \"#d8576b\"], [0.6666666666666666, \"#ed7953\"], [0.7777777777777778, \"#fb9f3a\"], [0.8888888888888888, \"#fdca26\"], [1.0, \"#f0f921\"]], \"type\": \"surface\"}], \"table\": [{\"cells\": {\"fill\": {\"color\": \"#EBF0F8\"}, \"line\": {\"color\": \"white\"}}, \"header\": {\"fill\": {\"color\": \"#C8D4E3\"}, \"line\": {\"color\": \"white\"}}, \"type\": \"table\"}]}, \"layout\": {\"annotationdefaults\": {\"arrowcolor\": \"#2a3f5f\", \"arrowhead\": 0, \"arrowwidth\": 1}, \"coloraxis\": {\"colorbar\": {\"outlinewidth\": 0, \"ticks\": \"\"}}, \"colorscale\": {\"diverging\": [[0, \"#8e0152\"], [0.1, \"#c51b7d\"], [0.2, \"#de77ae\"], [0.3, \"#f1b6da\"], [0.4, \"#fde0ef\"], [0.5, \"#f7f7f7\"], [0.6, \"#e6f5d0\"], [0.7, \"#b8e186\"], [0.8, \"#7fbc41\"], [0.9, \"#4d9221\"], [1, \"#276419\"]], \"sequential\": [[0.0, \"#0d0887\"], [0.1111111111111111, \"#46039f\"], [0.2222222222222222, \"#7201a8\"], [0.3333333333333333, \"#9c179e\"], [0.4444444444444444, \"#bd3786\"], [0.5555555555555556, \"#d8576b\"], [0.6666666666666666, \"#ed7953\"], [0.7777777777777778, \"#fb9f3a\"], [0.8888888888888888, \"#fdca26\"], [1.0, \"#f0f921\"]], \"sequentialminus\": [[0.0, \"#0d0887\"], [0.1111111111111111, \"#46039f\"], [0.2222222222222222, \"#7201a8\"], [0.3333333333333333, \"#9c179e\"], [0.4444444444444444, \"#bd3786\"], [0.5555555555555556, \"#d8576b\"], [0.6666666666666666, \"#ed7953\"], [0.7777777777777778, \"#fb9f3a\"], [0.8888888888888888, \"#fdca26\"], [1.0, \"#f0f921\"]]}, \"colorway\": [\"#636efa\", \"#EF553B\", \"#00cc96\", \"#ab63fa\", \"#FFA15A\", \"#19d3f3\", \"#FF6692\", \"#B6E880\", \"#FF97FF\", \"#FECB52\"], \"font\": {\"color\": \"#2a3f5f\"}, \"geo\": {\"bgcolor\": \"white\", \"lakecolor\": \"white\", \"landcolor\": \"#E5ECF6\", \"showlakes\": true, \"showland\": true, \"subunitcolor\": \"white\"}, \"hoverlabel\": {\"align\": \"left\"}, \"hovermode\": \"closest\", \"mapbox\": {\"style\": \"light\"}, \"paper_bgcolor\": \"white\", \"plot_bgcolor\": \"#E5ECF6\", \"polar\": {\"angularaxis\": {\"gridcolor\": \"white\", \"linecolor\": \"white\", \"ticks\": \"\"}, \"bgcolor\": \"#E5ECF6\", \"radialaxis\": {\"gridcolor\": \"white\", \"linecolor\": \"white\", \"ticks\": \"\"}}, \"scene\": {\"xaxis\": {\"backgroundcolor\": \"#E5ECF6\", \"gridcolor\": \"white\", \"gridwidth\": 2, \"linecolor\": \"white\", \"showbackground\": true, \"ticks\": \"\", \"zerolinecolor\": \"white\"}, \"yaxis\": {\"backgroundcolor\": \"#E5ECF6\", \"gridcolor\": \"white\", \"gridwidth\": 2, \"linecolor\": \"white\", \"showbackground\": true, \"ticks\": \"\", \"zerolinecolor\": \"white\"}, \"zaxis\": {\"backgroundcolor\": \"#E5ECF6\", \"gridcolor\": \"white\", \"gridwidth\": 2, \"linecolor\": \"white\", \"showbackground\": true, \"ticks\": \"\", \"zerolinecolor\": \"white\"}}, \"shapedefaults\": {\"line\": {\"color\": \"#2a3f5f\"}}, \"ternary\": {\"aaxis\": {\"gridcolor\": \"white\", \"linecolor\": \"white\", \"ticks\": \"\"}, \"baxis\": {\"gridcolor\": \"white\", \"linecolor\": \"white\", \"ticks\": \"\"}, \"bgcolor\": \"#E5ECF6\", \"caxis\": {\"gridcolor\": \"white\", \"linecolor\": \"white\", \"ticks\": \"\"}}, \"title\": {\"x\": 0.05}, \"xaxis\": {\"automargin\": true, \"gridcolor\": \"white\", \"linecolor\": \"white\", \"ticks\": \"\", \"title\": {\"standoff\": 15}, \"zerolinecolor\": \"white\", \"zerolinewidth\": 2}, \"yaxis\": {\"automargin\": true, \"gridcolor\": \"white\", \"linecolor\": \"white\", \"ticks\": \"\", \"title\": {\"standoff\": 15}, \"zerolinecolor\": \"white\", \"zerolinewidth\": 2}}}, \"title\": {\"text\": \"2D Cluster PCA Plot\"}, \"xaxis\": {\"anchor\": \"y\", \"domain\": [0.0, 1.0], \"title\": {\"text\": \"PCA1\"}}, \"yaxis\": {\"anchor\": \"x\", \"domain\": [0.0, 1.0], \"title\": {\"text\": \"PCA2\"}}},\n",
              "                        {\"responsive\": true}\n",
              "                    ).then(function(){\n",
              "                            \n",
              "var gd = document.getElementById('b94194dc-c6c6-4cfd-8943-5a8a08f6298f');\n",
              "var x = new MutationObserver(function (mutations, observer) {{\n",
              "        var display = window.getComputedStyle(gd).display;\n",
              "        if (!display || display === 'none') {{\n",
              "            console.log([gd, 'removed!']);\n",
              "            Plotly.purge(gd);\n",
              "            observer.disconnect();\n",
              "        }}\n",
              "}});\n",
              "\n",
              "// Listen for the removal of the full notebook cells\n",
              "var notebookContainer = gd.closest('#notebook-container');\n",
              "if (notebookContainer) {{\n",
              "    x.observe(notebookContainer, {childList: true});\n",
              "}}\n",
              "\n",
              "// Listen for the clearing of the current output cell\n",
              "var outputEl = gd.closest('.output');\n",
              "if (outputEl) {{\n",
              "    x.observe(outputEl, {childList: true});\n",
              "}}\n",
              "\n",
              "                        })\n",
              "                };\n",
              "                \n",
              "            </script>\n",
              "        </div>\n",
              "</body>\n",
              "</html>"
            ]
          },
          "metadata": {}
        }
      ]
    },
    {
      "cell_type": "code",
      "metadata": {
        "colab": {
          "base_uri": "https://localhost:8080/",
          "height": 837,
          "referenced_widgets": [
            "9de968e251de43bb99e11b65f4a5c9f2",
            "51bdfbf912354e5b8637d5fe23afe768",
            "5d20455b73e24d2aa785a1f528320483"
          ]
        },
        "id": "gWm5Rtr0tmkc",
        "outputId": "ed727671-7898-45c8-b32f-08383769dc2d"
      },
      "source": [
        "plot_model(dbscan, plot = 'tsne')"
      ],
      "execution_count": 38,
      "outputs": [
        {
          "output_type": "display_data",
          "data": {
            "text/html": [
              "<html>\n",
              "<head><meta charset=\"utf-8\" /></head>\n",
              "<body>\n",
              "    <div>\n",
              "            <script src=\"https://cdnjs.cloudflare.com/ajax/libs/mathjax/2.7.5/MathJax.js?config=TeX-AMS-MML_SVG\"></script><script type=\"text/javascript\">if (window.MathJax) {MathJax.Hub.Config({SVG: {font: \"STIX-Web\"}});}</script>\n",
              "                <script type=\"text/javascript\">window.PlotlyConfig = {MathJaxConfig: 'local'};</script>\n",
              "        <script src=\"https://cdn.plot.ly/plotly-latest.min.js\"></script>    \n",
              "            <div id=\"75d4f447-04d4-4cf2-a1ca-0814536fe9c8\" class=\"plotly-graph-div\" style=\"height:800px; width:900px;\"></div>\n",
              "            <script type=\"text/javascript\">\n",
              "                \n",
              "                    window.PLOTLYENV=window.PLOTLYENV || {};\n",
              "                    \n",
              "                if (document.getElementById(\"75d4f447-04d4-4cf2-a1ca-0814536fe9c8\")) {\n",
              "                    Plotly.newPlot(\n",
              "                        '75d4f447-04d4-4cf2-a1ca-0814536fe9c8',\n",
              "                        [{\"customdata\": [[7.7], [4.5], [7.6], [4.9], [6.7], [5.0], [4.9], [7.2], [5.1], [7.7], [6.1], [6.3], [6.2], [7.9], [7.7], [5.0], [7.7]], \"hoverlabel\": {\"namelength\": 0}, \"hovertemplate\": \"Cluster=Cluster -1<br>0=%{x}<br>1=%{y}<br>2=%{z}<br>Feature=%{customdata[0]}\", \"legendgroup\": \"Cluster=Cluster -1\", \"marker\": {\"color\": \"#636efa\", \"opacity\": 0.7, \"symbol\": \"circle\"}, \"mode\": \"markers\", \"name\": \"Cluster=Cluster -1\", \"scene\": \"scene\", \"showlegend\": true, \"type\": \"scatter3d\", \"x\": [-131.56298828125, -82.85099029541016, 54.464935302734375, 165.14451599121094, 5.317326545715332, 52.8513069152832, 50.62240982055664, -68.69792938232422, 161.9830322265625, -54.052215576171875, -33.4966926574707, 83.3709487915039, -24.02081871032715, -105.15159606933594, -120.1768569946289, 68.29573059082031, -125.33979034423828], \"y\": [-120.02742767333984, 131.05201721191406, 158.0174560546875, 43.50271987915039, -44.273502349853516, -2.5999717712402344, 41.164581298828125, -164.1302490234375, 33.38936996459961, -160.27098083496094, -6.386017799377441, -53.605430603027344, -122.89126586914062, -169.88265991210938, -159.045654296875, 62.655643463134766, -113.59077453613281], \"z\": [2.230095863342285, 57.413902282714844, 25.969038009643555, 89.28529357910156, 26.826478958129883, 13.709382057189941, 17.18935775756836, 46.72490310668945, -64.52608489990234, -11.122172355651855, 103.50462341308594, -52.06387710571289, -87.80513763427734, -4.151408672332764, 36.29850769042969, -31.76767349243164, 56.016483306884766]}, {\"customdata\": [[5.0], [5.5], [4.9], [5.1], [5.0], [4.4], [4.8], [5.1], [5.1], [4.6], [5.3], [5.0], [4.9], [5.0], [5.5], [5.1], [5.4], [4.9], [4.7], [4.6], [5.0], [5.4], [4.6], [5.0], [4.4], [4.9], [5.4], [4.8], [5.2], [4.3], [5.8], [5.7], [4.8], [4.4], [5.0], [5.0], [5.4], [4.7], [4.8], [4.8], [5.2], [5.2], [4.6], [5.1], [5.4], [5.1], [5.7], [5.1], [5.1]], \"hoverlabel\": {\"namelength\": 0}, \"hovertemplate\": \"Cluster=Cluster 0<br>0=%{x}<br>1=%{y}<br>2=%{z}<br>Feature=%{customdata[0]}\", \"legendgroup\": \"Cluster=Cluster 0\", \"marker\": {\"color\": \"#EF553B\", \"opacity\": 0.7, \"symbol\": \"circle\"}, \"mode\": \"markers\", \"name\": \"Cluster=Cluster 0\", \"scene\": \"scene\", \"showlegend\": true, \"type\": \"scatter3d\", \"x\": [-53.727989196777344, 2.3841049671173096, -117.30287170410156, -117.60653686523438, -38.7821159362793, -56.57331466674805, 90.05382537841797, 27.75577735900879, -13.409993171691895, -40.25495529174805, 41.655517578125, -71.94231414794922, -103.76483917236328, -15.681526184082031, 4.880751609802246, -58.54631042480469, 22.98346519470215, -83.67241668701172, -39.98212814331055, -109.07868194580078, -107.51042938232422, 16.64525604248047, -8.212419509887695, -52.00830078125, -49.397403717041016, -72.81926727294922, -26.538803100585938, -43.742462158203125, -13.083364486694336, -126.80797576904297, 46.75859832763672, 47.91680145263672, -74.29573822021484, -124.41584014892578, -69.6308822631836, -106.22631072998047, -166.91200256347656, -137.58177185058594, 80.64078521728516, -86.25334930419922, 19.279273986816406, -3.0441017150878906, -160.03538513183594, -71.30464172363281, -5.456679344177246, 32.32313919067383, 7.822208404541016, 55.37177276611328, -10.744235038757324], \"y\": [105.89631652832031, 110.55667114257812, 38.7772331237793, 44.898529052734375, 65.14723205566406, -66.18513488769531, 51.17200469970703, -4.313855171203613, 56.036014556884766, 58.0019416809082, 19.34221649169922, 58.48128890991211, 91.68861389160156, 24.152015686035156, 106.20751190185547, 104.62824249267578, 74.90086364746094, -19.976652145385742, -20.126672744750977, 61.40005111694336, 72.78582763671875, 61.89193344116211, -46.11556625366211, 86.56725311279297, -26.73044776916504, 19.29613494873047, 138.51919555664062, 15.526372909545898, 137.00802612304688, -24.584367752075195, 96.20362091064453, 139.04586791992188, 34.326087951660156, 5.749568462371826, 93.66726684570312, 99.56265258789062, 17.637155532836914, 25.61644172668457, -49.089473724365234, 1.2054413557052612, 134.76162719726562, -149.13731384277344, 68.8778305053711, 48.15415954589844, 94.9522476196289, 46.724266052246094, 160.977783203125, 109.38533782958984, 23.671255111694336], \"z\": [4.756995677947998, -36.80717849731445, -72.85164642333984, -24.856069564819336, -107.97349548339844, -123.62464141845703, -99.50637817382812, -95.38408660888672, -42.35931396484375, 6.728324890136719, -138.65267944335938, -75.33025360107422, -8.987704277038574, -123.87549591064453, -158.07093811035156, -92.43017578125, -63.000030517578125, -127.95391845703125, -147.3115692138672, -121.4638900756836, 42.87916946411133, -145.2296142578125, -114.05754852294922, -47.241119384765625, -89.63894653320312, -102.0390853881836, -68.94306182861328, -48.64338302612305, -127.41310119628906, -96.15155792236328, -122.92461395263672, -139.5985107421875, -148.57020568847656, -136.8217315673828, 106.41444396972656, -59.6458740234375, -3.59002685546875, 67.58492279052734, -124.56742095947266, -52.891849517822266, -80.74139404296875, 116.56021118164062, -64.43733215332031, -26.398218154907227, -89.12273406982422, -98.87273406982422, -29.40935516357422, -66.16317749023438, -80.13873291015625]}, {\"customdata\": [[6.9], [6.5], [6.4], [6.0], [6.5], [5.6], [6.8], [6.4], [6.5], [7.3], [5.8], [5.7], [6.5], [6.7], [6.3], [6.3], [6.7], [6.7], [6.8], [5.8], [6.9], [6.7], [6.9], [6.3], [6.0], [6.3], [6.3], [6.4], [7.4], [7.2], [6.4], [6.1], [6.2], [7.2], [6.4], [7.1], [6.4], [6.3], [6.3], [6.1], [5.9], [5.6], [5.8], [5.6], [6.7], [5.6], [6.1], [6.1], [6.0], [5.2], [6.6], [6.3], [5.7], [6.5], [5.5], [6.9], [6.4], [7.0], [5.9], [5.8], [6.2], [6.8], [5.7], [6.2], [5.7], [5.7], [5.6], [5.8], [6.1], [5.5], [5.5], [6.6], [5.6], [6.0], [5.4], [6.0], [5.8], [5.5], [5.5], [5.7], [6.0], [6.7], [6.7], [5.9]], \"hoverlabel\": {\"namelength\": 0}, \"hovertemplate\": \"Cluster=Cluster 1<br>0=%{x}<br>1=%{y}<br>2=%{z}<br>Feature=%{customdata[0]}\", \"legendgroup\": \"Cluster=Cluster 1\", \"marker\": {\"color\": \"#00cc96\", \"opacity\": 0.7, \"symbol\": \"circle\"}, \"mode\": \"markers\", \"name\": \"Cluster=Cluster 1\", \"scene\": \"scene\", \"showlegend\": true, \"type\": \"scatter3d\", \"x\": [-76.467529296875, -17.200576782226562, -98.12023162841797, 81.23715209960938, -77.06280517578125, 93.43716430664062, -26.427865982055664, -2.645944595336914, -75.00162506103516, -77.2109603881836, -31.116209030151367, 54.057918548583984, 4.820584774017334, -57.143768310546875, -57.108497619628906, 17.897916793823242, -102.21869659423828, -32.173709869384766, -105.92626190185547, 197.72799682617188, 18.77220344543457, -30.403615951538086, -53.416446685791016, -110.25498962402344, 160.02975463867188, -16.735576629638672, 121.97028350830078, 95.47509002685547, -88.86366271972656, -44.7459831237793, -64.74079132080078, 19.036466598510742, 60.694637298583984, -90.28374481201172, -31.159835815429688, 93.6206283569336, -69.81292724609375, -51.16326141357422, 68.97511291503906, 109.22938537597656, 40.65755081176758, 134.97900390625, 95.27269744873047, 23.127262115478516, 31.586347579956055, 102.97117614746094, 51.19720458984375, 111.47252655029297, 27.583141326904297, 150.05787658691406, -4.289019584655762, 5.070184230804443, 99.3694839477539, 43.03718185424805, 172.87181091308594, -3.015475273132324, 39.5647087097168, 25.96417236328125, 109.86827087402344, 57.590919494628906, -126.8545913696289, 30.355876922607422, 131.10269165039062, 43.320648193359375, -166.9596405029297, 138.1766357421875, 139.18841552734375, 126.79204559326172, 86.42707061767578, 106.29115295410156, 71.03219604492188, -108.65129089355469, 101.94376373291016, 15.10665512084961, 124.78651428222656, -13.154422760009766, 127.20348358154297, 76.55941772460938, 60.06167221069336, 51.65452575683594, 79.54979705810547, -61.21690368652344, -36.535797119140625, 28.261451721191406], \"y\": [-88.51483917236328, 9.79431438446045, -30.80365753173828, -96.31238555908203, -34.01335525512695, -33.62455368041992, -28.640785217285156, -45.323814392089844, -57.239532470703125, -126.99252319335938, 24.265390396118164, -55.71935272216797, 3.7285332679748535, -57.68750762939453, -6.178378105163574, -30.977447509765625, 4.209099292755127, -87.4567642211914, -60.49851608276367, 21.10736083984375, -104.66350555419922, -91.63685607910156, -59.52980422973633, 169.00270080566406, -42.06513595581055, -135.65499877929688, -65.74382781982422, 37.06367874145508, -123.37013244628906, -109.19245910644531, 151.10498046875, 14.66122817993164, -5.495172023773193, -89.70487213134766, -18.550546646118164, -113.61769104003906, -28.58434295654297, -126.37774658203125, -59.53702163696289, 98.68138122558594, 32.712284088134766, -42.37968063354492, 31.815643310546875, -49.68416213989258, -34.83648681640625, 43.35112380981445, 55.92445373535156, -73.4648208618164, 84.62400817871094, 29.4085750579834, 101.50440216064453, 44.85849380493164, -21.230501174926758, -135.3524932861328, -13.504688262939453, -66.71510314941406, -133.70706176757812, -89.26142883300781, 69.76332092285156, -18.50279998779297, -56.470088958740234, -93.51272583007812, -14.428899765014648, -79.29046630859375, -50.40978240966797, 4.64895486831665, 51.45238494873047, 68.648193359375, -111.52013397216797, -6.396054267883301, -91.0680923461914, -39.10203552246094, 18.075870513916016, 69.67237091064453, 10.599957466125488, -61.198551177978516, 86.71251678466797, 87.35749053955078, 112.83726501464844, 19.00072479248047, 38.31761169433594, 27.56231689453125, 66.6302490234375, -7.929346084594727], \"z\": [60.56538772583008, 24.552879333496094, -6.612536907196045, 77.38533020019531, 66.22615814208984, 120.88941192626953, -4.857391834259033, 76.56585693359375, -50.749202728271484, 14.79631233215332, 154.69252014160156, 95.71810150146484, -187.37144470214844, 33.18016815185547, 23.463748931884766, 116.8411865234375, 24.215869903564453, 65.57893371582031, 39.25969314575195, 43.08523178100586, 65.69342803955078, 20.999256134033203, -10.281062126159668, -1.3069016933441162, 63.282249450683594, 40.803829193115234, 88.93258666992188, -161.7692413330078, -32.2379035949707, -26.704870223999023, -22.500215530395508, 103.83413696289062, 93.18840026855469, 2.184565782546997, 53.19078826904297, -39.885929107666016, 144.01791381835938, 82.93195343017578, 10.2776460647583, 47.86958694458008, 139.9411163330078, -7.848954200744629, 40.978477478027344, 174.40753173828125, -41.053245544433594, -3.005458354949951, 73.66631317138672, 33.444637298583984, 8.880346298217773, -8.39543342590332, 57.74474334716797, 69.21768188476562, 50.62319564819336, -10.480125427246094, -11.141847610473633, -32.8118782043457, -65.75346374511719, 11.146746635437012, 86.86479187011719, 143.5391387939453, -34.10882568359375, -31.990144729614258, -47.08348846435547, -81.77995300292969, 51.010902404785156, 38.81678009033203, 37.506988525390625, -36.4544677734375, 22.739961624145508, 3.39731764793396, 140.26022338867188, 116.72816467285156, -43.652923583984375, 115.82588958740234, 91.62100982666016, 125.10081481933594, 5.357417106628418, 7.351689338684082, 70.9931411743164, -26.647735595703125, 102.55962371826172, 67.5465087890625, 70.92202758789062, 63.929988861083984]}],\n",
              "                        {\"height\": 800, \"legend\": {\"tracegroupgap\": 0}, \"scene\": {\"domain\": {\"x\": [0.0, 1.0], \"y\": [0.0, 1.0]}, \"xaxis\": {\"title\": {\"text\": \"0\"}}, \"yaxis\": {\"title\": {\"text\": \"1\"}}, \"zaxis\": {\"title\": {\"text\": \"2\"}}}, \"template\": {\"data\": {\"bar\": [{\"error_x\": {\"color\": \"#2a3f5f\"}, \"error_y\": {\"color\": \"#2a3f5f\"}, \"marker\": {\"line\": {\"color\": \"#E5ECF6\", \"width\": 0.5}}, \"type\": \"bar\"}], \"barpolar\": [{\"marker\": {\"line\": {\"color\": \"#E5ECF6\", \"width\": 0.5}}, \"type\": \"barpolar\"}], \"carpet\": [{\"aaxis\": {\"endlinecolor\": \"#2a3f5f\", \"gridcolor\": \"white\", \"linecolor\": \"white\", \"minorgridcolor\": \"white\", \"startlinecolor\": \"#2a3f5f\"}, \"baxis\": {\"endlinecolor\": \"#2a3f5f\", \"gridcolor\": \"white\", \"linecolor\": \"white\", \"minorgridcolor\": \"white\", \"startlinecolor\": \"#2a3f5f\"}, \"type\": \"carpet\"}], \"choropleth\": [{\"colorbar\": {\"outlinewidth\": 0, \"ticks\": \"\"}, \"type\": \"choropleth\"}], \"contour\": [{\"colorbar\": {\"outlinewidth\": 0, \"ticks\": \"\"}, \"colorscale\": [[0.0, \"#0d0887\"], [0.1111111111111111, \"#46039f\"], [0.2222222222222222, \"#7201a8\"], [0.3333333333333333, \"#9c179e\"], [0.4444444444444444, \"#bd3786\"], [0.5555555555555556, \"#d8576b\"], [0.6666666666666666, \"#ed7953\"], [0.7777777777777778, \"#fb9f3a\"], [0.8888888888888888, \"#fdca26\"], [1.0, \"#f0f921\"]], \"type\": \"contour\"}], \"contourcarpet\": [{\"colorbar\": {\"outlinewidth\": 0, \"ticks\": \"\"}, \"type\": \"contourcarpet\"}], \"heatmap\": [{\"colorbar\": {\"outlinewidth\": 0, \"ticks\": \"\"}, \"colorscale\": [[0.0, \"#0d0887\"], [0.1111111111111111, \"#46039f\"], [0.2222222222222222, \"#7201a8\"], [0.3333333333333333, \"#9c179e\"], [0.4444444444444444, \"#bd3786\"], [0.5555555555555556, \"#d8576b\"], [0.6666666666666666, \"#ed7953\"], [0.7777777777777778, \"#fb9f3a\"], [0.8888888888888888, \"#fdca26\"], [1.0, \"#f0f921\"]], \"type\": \"heatmap\"}], \"heatmapgl\": [{\"colorbar\": {\"outlinewidth\": 0, \"ticks\": \"\"}, \"colorscale\": [[0.0, \"#0d0887\"], [0.1111111111111111, \"#46039f\"], [0.2222222222222222, \"#7201a8\"], [0.3333333333333333, \"#9c179e\"], [0.4444444444444444, \"#bd3786\"], [0.5555555555555556, \"#d8576b\"], [0.6666666666666666, \"#ed7953\"], [0.7777777777777778, \"#fb9f3a\"], [0.8888888888888888, \"#fdca26\"], [1.0, \"#f0f921\"]], \"type\": \"heatmapgl\"}], \"histogram\": [{\"marker\": {\"colorbar\": {\"outlinewidth\": 0, \"ticks\": \"\"}}, \"type\": \"histogram\"}], \"histogram2d\": [{\"colorbar\": {\"outlinewidth\": 0, \"ticks\": \"\"}, \"colorscale\": [[0.0, \"#0d0887\"], [0.1111111111111111, \"#46039f\"], [0.2222222222222222, \"#7201a8\"], [0.3333333333333333, \"#9c179e\"], [0.4444444444444444, \"#bd3786\"], [0.5555555555555556, \"#d8576b\"], [0.6666666666666666, \"#ed7953\"], [0.7777777777777778, \"#fb9f3a\"], [0.8888888888888888, \"#fdca26\"], [1.0, \"#f0f921\"]], \"type\": \"histogram2d\"}], \"histogram2dcontour\": [{\"colorbar\": {\"outlinewidth\": 0, \"ticks\": \"\"}, \"colorscale\": [[0.0, \"#0d0887\"], [0.1111111111111111, \"#46039f\"], [0.2222222222222222, \"#7201a8\"], [0.3333333333333333, \"#9c179e\"], [0.4444444444444444, \"#bd3786\"], [0.5555555555555556, \"#d8576b\"], [0.6666666666666666, \"#ed7953\"], [0.7777777777777778, \"#fb9f3a\"], [0.8888888888888888, \"#fdca26\"], [1.0, \"#f0f921\"]], \"type\": \"histogram2dcontour\"}], \"mesh3d\": [{\"colorbar\": {\"outlinewidth\": 0, \"ticks\": \"\"}, \"type\": \"mesh3d\"}], \"parcoords\": [{\"line\": {\"colorbar\": {\"outlinewidth\": 0, \"ticks\": \"\"}}, \"type\": \"parcoords\"}], \"pie\": [{\"automargin\": true, \"type\": \"pie\"}], \"scatter\": [{\"marker\": {\"colorbar\": {\"outlinewidth\": 0, \"ticks\": \"\"}}, \"type\": \"scatter\"}], \"scatter3d\": [{\"line\": {\"colorbar\": {\"outlinewidth\": 0, \"ticks\": \"\"}}, \"marker\": {\"colorbar\": {\"outlinewidth\": 0, \"ticks\": \"\"}}, \"type\": \"scatter3d\"}], \"scattercarpet\": [{\"marker\": {\"colorbar\": {\"outlinewidth\": 0, \"ticks\": \"\"}}, \"type\": \"scattercarpet\"}], \"scattergeo\": [{\"marker\": {\"colorbar\": {\"outlinewidth\": 0, \"ticks\": \"\"}}, \"type\": \"scattergeo\"}], \"scattergl\": [{\"marker\": {\"colorbar\": {\"outlinewidth\": 0, \"ticks\": \"\"}}, \"type\": \"scattergl\"}], \"scattermapbox\": [{\"marker\": {\"colorbar\": {\"outlinewidth\": 0, \"ticks\": \"\"}}, \"type\": \"scattermapbox\"}], \"scatterpolar\": [{\"marker\": {\"colorbar\": {\"outlinewidth\": 0, \"ticks\": \"\"}}, \"type\": \"scatterpolar\"}], \"scatterpolargl\": [{\"marker\": {\"colorbar\": {\"outlinewidth\": 0, \"ticks\": \"\"}}, \"type\": \"scatterpolargl\"}], \"scatterternary\": [{\"marker\": {\"colorbar\": {\"outlinewidth\": 0, \"ticks\": \"\"}}, \"type\": \"scatterternary\"}], \"surface\": [{\"colorbar\": {\"outlinewidth\": 0, \"ticks\": \"\"}, \"colorscale\": [[0.0, \"#0d0887\"], [0.1111111111111111, \"#46039f\"], [0.2222222222222222, \"#7201a8\"], [0.3333333333333333, \"#9c179e\"], [0.4444444444444444, \"#bd3786\"], [0.5555555555555556, \"#d8576b\"], [0.6666666666666666, \"#ed7953\"], [0.7777777777777778, \"#fb9f3a\"], [0.8888888888888888, \"#fdca26\"], [1.0, \"#f0f921\"]], \"type\": \"surface\"}], \"table\": [{\"cells\": {\"fill\": {\"color\": \"#EBF0F8\"}, \"line\": {\"color\": \"white\"}}, \"header\": {\"fill\": {\"color\": \"#C8D4E3\"}, \"line\": {\"color\": \"white\"}}, \"type\": \"table\"}]}, \"layout\": {\"annotationdefaults\": {\"arrowcolor\": \"#2a3f5f\", \"arrowhead\": 0, \"arrowwidth\": 1}, \"coloraxis\": {\"colorbar\": {\"outlinewidth\": 0, \"ticks\": \"\"}}, \"colorscale\": {\"diverging\": [[0, \"#8e0152\"], [0.1, \"#c51b7d\"], [0.2, \"#de77ae\"], [0.3, \"#f1b6da\"], [0.4, \"#fde0ef\"], [0.5, \"#f7f7f7\"], [0.6, \"#e6f5d0\"], [0.7, \"#b8e186\"], [0.8, \"#7fbc41\"], [0.9, \"#4d9221\"], [1, \"#276419\"]], \"sequential\": [[0.0, \"#0d0887\"], [0.1111111111111111, \"#46039f\"], [0.2222222222222222, \"#7201a8\"], [0.3333333333333333, \"#9c179e\"], [0.4444444444444444, \"#bd3786\"], [0.5555555555555556, \"#d8576b\"], [0.6666666666666666, \"#ed7953\"], [0.7777777777777778, \"#fb9f3a\"], [0.8888888888888888, \"#fdca26\"], [1.0, \"#f0f921\"]], \"sequentialminus\": [[0.0, \"#0d0887\"], [0.1111111111111111, \"#46039f\"], [0.2222222222222222, \"#7201a8\"], [0.3333333333333333, \"#9c179e\"], [0.4444444444444444, \"#bd3786\"], [0.5555555555555556, \"#d8576b\"], [0.6666666666666666, \"#ed7953\"], [0.7777777777777778, \"#fb9f3a\"], [0.8888888888888888, \"#fdca26\"], [1.0, \"#f0f921\"]]}, \"colorway\": [\"#636efa\", \"#EF553B\", \"#00cc96\", \"#ab63fa\", \"#FFA15A\", \"#19d3f3\", \"#FF6692\", \"#B6E880\", \"#FF97FF\", \"#FECB52\"], \"font\": {\"color\": \"#2a3f5f\"}, \"geo\": {\"bgcolor\": \"white\", \"lakecolor\": \"white\", \"landcolor\": \"#E5ECF6\", \"showlakes\": true, \"showland\": true, \"subunitcolor\": \"white\"}, \"hoverlabel\": {\"align\": \"left\"}, \"hovermode\": \"closest\", \"mapbox\": {\"style\": \"light\"}, \"paper_bgcolor\": \"white\", \"plot_bgcolor\": \"#E5ECF6\", \"polar\": {\"angularaxis\": {\"gridcolor\": \"white\", \"linecolor\": \"white\", \"ticks\": \"\"}, \"bgcolor\": \"#E5ECF6\", \"radialaxis\": {\"gridcolor\": \"white\", \"linecolor\": \"white\", \"ticks\": \"\"}}, \"scene\": {\"xaxis\": {\"backgroundcolor\": \"#E5ECF6\", \"gridcolor\": \"white\", \"gridwidth\": 2, \"linecolor\": \"white\", \"showbackground\": true, \"ticks\": \"\", \"zerolinecolor\": \"white\"}, \"yaxis\": {\"backgroundcolor\": \"#E5ECF6\", \"gridcolor\": \"white\", \"gridwidth\": 2, \"linecolor\": \"white\", \"showbackground\": true, \"ticks\": \"\", \"zerolinecolor\": \"white\"}, \"zaxis\": {\"backgroundcolor\": \"#E5ECF6\", \"gridcolor\": \"white\", \"gridwidth\": 2, \"linecolor\": \"white\", \"showbackground\": true, \"ticks\": \"\", \"zerolinecolor\": \"white\"}}, \"shapedefaults\": {\"line\": {\"color\": \"#2a3f5f\"}}, \"ternary\": {\"aaxis\": {\"gridcolor\": \"white\", \"linecolor\": \"white\", \"ticks\": \"\"}, \"baxis\": {\"gridcolor\": \"white\", \"linecolor\": \"white\", \"ticks\": \"\"}, \"bgcolor\": \"#E5ECF6\", \"caxis\": {\"gridcolor\": \"white\", \"linecolor\": \"white\", \"ticks\": \"\"}}, \"title\": {\"x\": 0.05}, \"xaxis\": {\"automargin\": true, \"gridcolor\": \"white\", \"linecolor\": \"white\", \"ticks\": \"\", \"title\": {\"standoff\": 15}, \"zerolinecolor\": \"white\", \"zerolinewidth\": 2}, \"yaxis\": {\"automargin\": true, \"gridcolor\": \"white\", \"linecolor\": \"white\", \"ticks\": \"\", \"title\": {\"standoff\": 15}, \"zerolinecolor\": \"white\", \"zerolinewidth\": 2}}}, \"title\": {\"text\": \"3d TSNE Plot for Clusters\"}, \"width\": 900},\n",
              "                        {\"responsive\": true}\n",
              "                    ).then(function(){\n",
              "                            \n",
              "var gd = document.getElementById('75d4f447-04d4-4cf2-a1ca-0814536fe9c8');\n",
              "var x = new MutationObserver(function (mutations, observer) {{\n",
              "        var display = window.getComputedStyle(gd).display;\n",
              "        if (!display || display === 'none') {{\n",
              "            console.log([gd, 'removed!']);\n",
              "            Plotly.purge(gd);\n",
              "            observer.disconnect();\n",
              "        }}\n",
              "}});\n",
              "\n",
              "// Listen for the removal of the full notebook cells\n",
              "var notebookContainer = gd.closest('#notebook-container');\n",
              "if (notebookContainer) {{\n",
              "    x.observe(notebookContainer, {childList: true});\n",
              "}}\n",
              "\n",
              "// Listen for the clearing of the current output cell\n",
              "var outputEl = gd.closest('.output');\n",
              "if (outputEl) {{\n",
              "    x.observe(outputEl, {childList: true});\n",
              "}}\n",
              "\n",
              "                        })\n",
              "                };\n",
              "                \n",
              "            </script>\n",
              "        </div>\n",
              "</body>\n",
              "</html>"
            ]
          },
          "metadata": {}
        }
      ]
    },
    {
      "cell_type": "code",
      "metadata": {
        "colab": {
          "base_uri": "https://localhost:8080/",
          "height": 1000,
          "referenced_widgets": [
            "ae0e6429033e40a9a0a09b1b1e8742f5",
            "44407cbecec941f9a6db4e96e33f28b8",
            "3de5da80d0914fe9b5d1e426f61595dc",
            "fd78cb23b2f1425d846069743ee39723",
            "80614176b0714011a8478cf815e7d344",
            "7be4b133067542c3a6c7c1197cc038ec",
            "e5beab7dbde0418c9eacf18f2a934883",
            "7c059dc66c7a4d8a8cdf939ed03aa3d7",
            "4d72bcd22de64c4eb5bd2c94e28db669",
            "de5f4691b8b6465eac3d78342fd35cd9",
            "150f0507ba744cb88c042bc94c406123",
            "1423c6bfba784764b1d6c25a08439f95",
            "9575574d6ac64ea1939dee66e240e05c",
            "540e7fe40f60438ca337cec02989944a",
            "3b18fdddfcf44d51bae63f016095f5cf",
            "91fbca91c7b94b67a886b8bf2e7c3769",
            "6764c8f7d853439c8c5fe752b345b1ae",
            "6063f290700c474daf0a0df17a21523d",
            "8225906d8c904ed0b0a11103d4ff11c9",
            "61e7c9d826af43988e21954a316201b8",
            "7acc26c42b774f9ead4c134c94955eda",
            "1b52c73d725249959da050ad1e3c98c4",
            "6690831b2df942b49f6342bc779a38ad",
            "9620ce314ca94a08ba6fd27ad622bca8",
            "24c4309a5272463cb3db018c152f2280",
            "e8f90308af53499792cf675ba312a04d",
            "9ccf3c7818c24c7b8a02b04f2c3366cf",
            "47d6c7d95eda4de78634cffec55086f2"
          ]
        },
        "id": "Sm92167ltxEt",
        "outputId": "09197ef2-bf38-4562-a843-6e25ac3b2433"
      },
      "source": [
        "evaluate_model(dbscan)"
      ],
      "execution_count": 39,
      "outputs": [
        {
          "output_type": "display_data",
          "data": {
            "application/vnd.jupyter.widget-view+json": {
              "model_id": "ae0e6429033e40a9a0a09b1b1e8742f5",
              "version_minor": 0,
              "version_major": 2
            },
            "text/plain": [
              "interactive(children=(ToggleButtons(description='Plot Type:', icons=('',), options=(('Cluster PCA Plot (2d)', …"
            ]
          },
          "metadata": {}
        },
        {
          "output_type": "display_data",
          "data": {
            "text/plain": [
              "<Figure size 576x396 with 0 Axes>"
            ]
          },
          "metadata": {}
        },
        {
          "output_type": "display_data",
          "data": {
            "text/plain": [
              "<Figure size 576x396 with 0 Axes>"
            ]
          },
          "metadata": {}
        },
        {
          "output_type": "display_data",
          "data": {
            "image/png": "[encoded data removed]",
            "text/plain": [
              "<Figure size 576x396 with 2 Axes>"
            ]
          },
          "metadata": {}
        }
      ]
    },
    {
      "cell_type": "markdown",
      "metadata": {
        "id": "UD6PsvT3uCoJ"
      },
      "source": [
        "#DB Dcan without Pycaret"
      ]
    },
    {
      "cell_type": "code",
      "metadata": {
        "id": "5wMrQuVLZie2"
      },
      "source": [
        "from sklearn.cluster import DBSCAN"
      ],
      "execution_count": 49,
      "outputs": []
    },
    {
      "cell_type": "code",
      "metadata": {
        "colab": {
          "base_uri": "https://localhost:8080/"
        },
        "id": "kTFSmjIEekwQ",
        "outputId": "44650e04-abfb-4b90-800e-1f6a8b71d78a"
      },
      "source": [
        "dbs = DBSCAN().fit(data)\n",
        "dbs.labels_"
      ],
      "execution_count": 42,
      "outputs": [
        {
          "output_type": "execute_result",
          "data": {
            "text/plain": [
              "array([ 0,  0,  0,  0,  0,  0,  0,  0,  0,  0,  0,  0,  0,  0,  0,  0,  0,\n",
              "        0,  0,  0,  0,  0,  0,  0,  0,  0,  0,  0,  0,  0,  0,  0,  0,  0,\n",
              "        0,  0,  0,  0,  0,  0,  0, -1,  0,  0,  0,  0,  0,  0,  0,  0,  1,\n",
              "        1,  1,  1,  1,  1,  1, -1,  1,  1, -1,  1,  1,  1,  1,  1,  1,  1,\n",
              "       -1,  1,  1,  1,  1,  1,  1,  1,  1,  1,  1,  1,  1,  1,  1,  1,  1,\n",
              "        1,  1, -1,  1,  1,  1,  1,  1, -1,  1,  1,  1,  1, -1,  1,  1,  1,\n",
              "        1,  1,  1, -1, -1,  1, -1, -1,  1,  1,  1,  1,  1,  1,  1, -1, -1,\n",
              "        1,  1,  1, -1,  1,  1,  1,  1,  1,  1,  1,  1, -1,  1,  1, -1, -1,\n",
              "        1,  1,  1,  1,  1,  1,  1,  1,  1,  1,  1,  1,  1,  1])"
            ]
          },
          "metadata": {},
          "execution_count": 42
        }
      ]
    },
    {
      "cell_type": "code",
      "metadata": {
        "id": "HyC1vl2TfQi7"
      },
      "source": [
        "y_dbs = dbs.fit_predict(data)"
      ],
      "execution_count": 43,
      "outputs": []
    },
    {
      "cell_type": "code",
      "metadata": {
        "colab": {
          "base_uri": "https://localhost:8080/",
          "height": 369
        },
        "id": "psBy0fIGfpVo",
        "outputId": "73f5a6bb-606d-4780-a4fd-9e0b0e6e4f30"
      },
      "source": [
        "plt.scatter(data[y_dbs ==0,0],data[y_dbs==0,1],c='green')\n",
        "plt.scatter(data[y_dbs ==1,0],data[y_dbs==1,1],c='blue')\n",
        "plt.scatter(data[y_dbs ==2,0],data[y_dbs==2,1],c='yellow')"
      ],
      "execution_count": 44,
      "outputs": [
        {
          "output_type": "execute_result",
          "data": {
            "text/plain": [
              "<matplotlib.collections.PathCollection at 0x7f85ded22a90>"
            ]
          },
          "metadata": {},
          "execution_count": 44
        },
        {
          "output_type": "display_data",
          "data": {
            "image/png": "[encoded data removed]",
            "text/plain": [
              "<Figure size 576x396 with 1 Axes>"
            ]
          },
          "metadata": {}
        }
      ]
    },
    {
      "cell_type": "markdown",
      "metadata": {
        "id": "nYMDvvLEFDB2"
      },
      "source": [
        "#References\n",
        "#####https://pythonprogramming.net/k-means-from-scratch-machine-learning-tutorial/\n",
        "#####https://www.youtube.com/watch?v=wzqA8ztUyqI&ab_channel=prabhanjantrivedi\n",
        "#####https://www.analyticsvidhya.com/blog/2021/04/k-means-clustering-simplified-in-python/\n",
        "#####https://pycaret.readthedocs.io/en/latest/api/clustering.html"
      ]
    }
  ]
}
