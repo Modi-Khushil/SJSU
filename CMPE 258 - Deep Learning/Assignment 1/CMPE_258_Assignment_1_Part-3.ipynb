{
  "nbformat": 4,
  "nbformat_minor": 0,
  "metadata": {
    "colab": {
      "name": "CMPE-258 Assignment-1_Part3.ipynb",
      "provenance": [],
      "collapsed_sections": [],
      "mount_file_id": "1L1aprauAXNPX8R-EZ1sjSnyP2Kd_El_d",
      "authorship_tag": "ABX9TyN+oEwclueDUQErMKM30U7F",
      "include_colab_link": true
    },
    "kernelspec": {
      "name": "python3",
      "display_name": "Python 3"
    },
    "language_info": {
      "name": "python"
    }
  },
  "cells": [
    {
      "cell_type": "markdown",
      "metadata": {
        "id": "view-in-github",
        "colab_type": "text"
      },
      "source": [
        "<a href=\"https://colab.research.google.com/github/Khushil-Modi/SJSU/blob/main/CMPE_258_Assignment_1_Part3.ipynb\" target=\"_parent\"><img src=\"https://colab.research.google.com/assets/colab-badge.svg\" alt=\"Open In Colab\"/></a>"
      ]
    },
    {
      "cell_type": "markdown",
      "source": [
        "# Gradient Descent From Scratch on Linear Regression Problem"
      ],
      "metadata": {
        "id": "L-gdtTJoLagr"
      }
    },
    {
      "cell_type": "markdown",
      "source": [
        "###Importing Libraries"
      ],
      "metadata": {
        "id": "VMY7JJpTL1gS"
      }
    },
    {
      "cell_type": "code",
      "execution_count": 2,
      "metadata": {
        "id": "i4l4P6ULWDUM"
      },
      "outputs": [],
      "source": [
        "import pandas as pd\n",
        "import numpy as np\n",
        "import matplotlib.pyplot as plt\n",
        "from sklearn.model_selection import train_test_split"
      ]
    },
    {
      "cell_type": "markdown",
      "source": [
        "### Linear Regression Class"
      ],
      "metadata": {
        "id": "v74aScdlL6NP"
      }
    },
    {
      "cell_type": "code",
      "source": [
        "class LinearReg():\n",
        "    def __init__(self, learning_rate, iterations):\n",
        "        self.learning_rate = learning_rate\n",
        "        self.iterations = iterations\n",
        "\n",
        "    # Model training Func.\n",
        "    def fit(self, x, y):          \n",
        "        # no_of_training_examples, no_of_features          \n",
        "        self.m, self.n = x.shape        \n",
        "        # weight initialization          \n",
        "        self.w = np.zeros(self.n)          \n",
        "        self.b = 0          \n",
        "        self.x = x          \n",
        "        self.y = y                \n",
        "\n",
        "        # Gradient Descent\n",
        "        for i in range(self.iterations):              \n",
        "            self.update_weights()              \n",
        "        return self\n",
        "\n",
        "    # Func. to update weights in GD\n",
        "    def update_weights(self):            \n",
        "        y_pred = self.predict(self.x)      \n",
        "        # calculate gradients        \n",
        "        dw = - (2 * (self.x.T ).dot(self.y - y_pred)) / self.m       \n",
        "        db = - 2 * np.sum(self.y - y_pred) / self.m           \n",
        "        # update weights      \n",
        "        self.w = self.w - self.learning_rate * dw      \n",
        "        self.b = self.b - self.learning_rate * db          \n",
        "        return self\n",
        "      \n",
        "    def predict(self, x):      \n",
        "        return x.dot(self.w) + self.b"
      ],
      "metadata": {
        "id": "T5ILMx4BWK4q"
      },
      "execution_count": 3,
      "outputs": []
    },
    {
      "cell_type": "markdown",
      "source": [
        "### Main Function"
      ],
      "metadata": {
        "id": "4I24vChRMHSr"
      }
    },
    {
      "cell_type": "code",
      "source": [
        "df = pd.read_csv(\"/content/drive/MyDrive/Datasets/Salary_Data.csv\")\n",
        "x = df.iloc[:,:-1].values\n",
        "y = df.iloc[:,1].values\n",
        "\n",
        "# Splitting dataset into train and test set\n",
        "x_train, x_test, y_train, y_test = train_test_split(x, y, test_size = 2/3, random_state = 0)\n",
        "  \n",
        "# Model training  \n",
        "model = LinearReg(iterations = 1000, learning_rate = 0.01)\n",
        "model.fit(x_train, y_train)\n",
        "\n",
        "# Prediction on test set\n",
        "y_pred = model.predict(x_test)\n",
        "print(\"Predicted values : \", np.round(y_pred[:3], 2)) \n",
        "print(\"Real values : \", y_test[:3])\n",
        "print(\"Trained w : \", round(model.w[0], 2))\n",
        "print(\"Trained b : \", round(model.b, 2))\n",
        "\n",
        "# Visualization on test set   \n",
        "plt.scatter(x_test, y_test, color = 'green')\n",
        "plt.plot(x_test, y_pred, color = 'red')\n",
        "plt.title('Salary vs Experience')\n",
        "plt.xlabel('years of Experience')\n",
        "plt.ylabel('Salary')\n",
        "plt.show()"
      ],
      "metadata": {
        "colab": {
          "base_uri": "https://localhost:8080/",
          "height": 370
        },
        "id": "ksIqhT_LWPpo",
        "outputId": "4fd2ca16-abaf-4a65-fd85-f23680443c9c"
      },
      "execution_count": 20,
      "outputs": [
        {
          "output_type": "stream",
          "name": "stdout",
          "text": [
            "Predicted values :  [ 38887.99 124027.95  64042.98]\n",
            "Real values :  [ 37731. 122391.  57081.]\n",
            "Trained w :  9675.0\n",
            "Trained b :  24375.5\n"
          ]
        },
        {
          "output_type": "display_data",
          "data": {
            "image/png": "[encoded data removed]",
            "text/plain": [
              "<Figure size 432x288 with 1 Axes>"
            ]
          },
          "metadata": {
            "needs_background": "light"
          }
        }
      ]
    }
  ]
}
