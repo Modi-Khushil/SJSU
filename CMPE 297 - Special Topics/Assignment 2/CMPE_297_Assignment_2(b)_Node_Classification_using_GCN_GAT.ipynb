{
  "cells": [
    {
      "cell_type": "markdown",
      "metadata": {
        "id": "view-in-github",
        "colab_type": "text"
      },
      "source": [
        "<a href=\"https://colab.research.google.com/github/Khushil-Modi/SJSU/blob/main/CMPE%20297/Assignment%202/CMPE_297_Assignment_2(b)_Node_Classification_using_GCN_GAT.ipynb\" target=\"_parent\"><img src=\"https://colab.research.google.com/assets/colab-badge.svg\" alt=\"Open In Colab\"/></a>"
      ]
    },
    {
      "cell_type": "markdown",
      "metadata": {
        "id": "ZjvXjwSbVvMl"
      },
      "source": [
        "# Node classification with Graph Convolutional Network (GCN)\n",
        "\n"
      ]
    },
    {
      "cell_type": "code",
      "execution_count": null,
      "metadata": {
        "nbsphinx": "hidden",
        "tags": [
          "CloudRunner"
        ],
        "id": "YcdTPpDEVvMw"
      },
      "outputs": [],
      "source": [
        "# install StellarGraph if running on Google Colab\n",
        "import sys\n",
        "if 'google.colab' in sys.modules:\n",
        "  %pip install -q stellargraph[demos]==1.2.1"
      ]
    },
    {
      "cell_type": "code",
      "execution_count": null,
      "metadata": {
        "nbsphinx": "hidden",
        "tags": [
          "VersionCheck"
        ],
        "id": "mPdqUX1HVvMx"
      },
      "outputs": [],
      "source": [
        "# verify that we're using the correct version of StellarGraph for this notebook\n",
        "import stellargraph as sg\n",
        "\n",
        "try:\n",
        "    sg.utils.validate_notebook_version(\"1.2.1\")\n",
        "except AttributeError:\n",
        "    raise ValueError(\n",
        "        f\"This notebook requires StellarGraph version 1.2.1, but a different version {sg.__version__} is installed.  Please see <https://github.com/stellargraph/stellargraph/issues/1172>.\"\n",
        "    ) from None"
      ]
    },
    {
      "cell_type": "code",
      "execution_count": null,
      "metadata": {
        "id": "1fiE4lPJVvMz"
      },
      "outputs": [],
      "source": [
        "import pandas as pd\n",
        "import os\n",
        "\n",
        "import stellargraph as sg\n",
        "from stellargraph.mapper import FullBatchNodeGenerator\n",
        "from stellargraph.layer import GCN\n",
        "\n",
        "from tensorflow.keras import layers, optimizers, losses, metrics, Model\n",
        "from sklearn import preprocessing, model_selection\n",
        "from IPython.display import display, HTML\n",
        "import matplotlib.pyplot as plt\n",
        "%matplotlib inline"
      ]
    },
    {
      "cell_type": "markdown",
      "metadata": {
        "id": "ZT_Qb4xEVvM0"
      },
      "source": [
        "## 1. Data Preparation\n",
        "\n",
        "\n",
        "---\n",
        "\n",
        "\n",
        "### Loading the CORA network"
      ]
    },
    {
      "cell_type": "code",
      "execution_count": null,
      "metadata": {
        "tags": [
          "DataLoading"
        ],
        "id": "J_JCoe8GVvM4",
        "outputId": "2ee40490-9849-4ad5-e757-cdb02f90d042",
        "colab": {
          "base_uri": "https://localhost:8080/",
          "height": 52
        }
      },
      "outputs": [
        {
          "output_type": "display_data",
          "data": {
            "text/plain": [
              "<IPython.core.display.HTML object>"
            ],
            "text/html": [
              "The Cora dataset consists of 2708 scientific publications classified into one of seven classes. The citation network consists of 5429 links. Each publication in the dataset is described by a 0/1-valued word vector indicating the absence/presence of the corresponding word from the dictionary. The dictionary consists of 1433 unique words."
            ]
          },
          "metadata": {}
        }
      ],
      "source": [
        "dataset = sg.datasets.Cora()\n",
        "display(HTML(dataset.description))\n",
        "G, node_subjects = dataset.load()"
      ]
    },
    {
      "cell_type": "markdown",
      "metadata": {
        "id": "ieq-uKuoVvM5"
      },
      "source": [
        "The `info` method can help us verify that our loaded graph matches the description:"
      ]
    },
    {
      "cell_type": "code",
      "execution_count": null,
      "metadata": {
        "id": "jiIX05CIVvM5",
        "outputId": "dfb67e7e-7a46-494a-e261-8beff37e914c",
        "colab": {
          "base_uri": "https://localhost:8080/"
        }
      },
      "outputs": [
        {
          "output_type": "stream",
          "name": "stdout",
          "text": [
            "StellarGraph: Undirected multigraph\n",
            " Nodes: 2708, Edges: 5429\n",
            "\n",
            " Node types:\n",
            "  paper: [2708]\n",
            "    Features: float32 vector, length 1433\n",
            "    Edge types: paper-cites->paper\n",
            "\n",
            " Edge types:\n",
            "    paper-cites->paper: [5429]\n",
            "        Weights: all 1 (default)\n",
            "        Features: none\n"
          ]
        }
      ],
      "source": [
        "print(G.info())"
      ]
    },
    {
      "cell_type": "markdown",
      "metadata": {
        "id": "ikXIqPK-VvM6"
      },
      "source": [
        "We aim to train a graph-ML model that will predict the \"subject\" attribute on the nodes. These subjects are one of 7 categories, with some categories more common than others:"
      ]
    },
    {
      "cell_type": "code",
      "execution_count": null,
      "metadata": {
        "id": "bTK5FR6SVvM6",
        "outputId": "3d5fff4f-b826-40d2-e6ea-b81c60e2370c",
        "colab": {
          "base_uri": "https://localhost:8080/",
          "height": 269
        }
      },
      "outputs": [
        {
          "output_type": "execute_result",
          "data": {
            "text/plain": [
              "                        subject\n",
              "Neural_Networks             818\n",
              "Probabilistic_Methods       426\n",
              "Genetic_Algorithms          418\n",
              "Theory                      351\n",
              "Case_Based                  298\n",
              "Reinforcement_Learning      217\n",
              "Rule_Learning               180"
            ],
            "text/html": [
              "\n",
              "  <div id=\"df-4ca45cd4-7f9e-4aa3-bd06-e7e94524aed3\">\n",
              "    <div class=\"colab-df-container\">\n",
              "      <div>\n",
              "<style scoped>\n",
              "    .dataframe tbody tr th:only-of-type {\n",
              "        vertical-align: middle;\n",
              "    }\n",
              "\n",
              "    .dataframe tbody tr th {\n",
              "        vertical-align: top;\n",
              "    }\n",
              "\n",
              "    .dataframe thead th {\n",
              "        text-align: right;\n",
              "    }\n",
              "</style>\n",
              "<table border=\"1\" class=\"dataframe\">\n",
              "  <thead>\n",
              "    <tr style=\"text-align: right;\">\n",
              "      <th></th>\n",
              "      <th>subject</th>\n",
              "    </tr>\n",
              "  </thead>\n",
              "  <tbody>\n",
              "    <tr>\n",
              "      <th>Neural_Networks</th>\n",
              "      <td>818</td>\n",
              "    </tr>\n",
              "    <tr>\n",
              "      <th>Probabilistic_Methods</th>\n",
              "      <td>426</td>\n",
              "    </tr>\n",
              "    <tr>\n",
              "      <th>Genetic_Algorithms</th>\n",
              "      <td>418</td>\n",
              "    </tr>\n",
              "    <tr>\n",
              "      <th>Theory</th>\n",
              "      <td>351</td>\n",
              "    </tr>\n",
              "    <tr>\n",
              "      <th>Case_Based</th>\n",
              "      <td>298</td>\n",
              "    </tr>\n",
              "    <tr>\n",
              "      <th>Reinforcement_Learning</th>\n",
              "      <td>217</td>\n",
              "    </tr>\n",
              "    <tr>\n",
              "      <th>Rule_Learning</th>\n",
              "      <td>180</td>\n",
              "    </tr>\n",
              "  </tbody>\n",
              "</table>\n",
              "</div>\n",
              "      <button class=\"colab-df-convert\" onclick=\"convertToInteractive('df-4ca45cd4-7f9e-4aa3-bd06-e7e94524aed3')\"\n",
              "              title=\"Convert this dataframe to an interactive table.\"\n",
              "              style=\"display:none;\">\n",
              "        \n",
              "  <svg xmlns=\"http://www.w3.org/2000/svg\" height=\"24px\"viewBox=\"0 0 24 24\"\n",
              "       width=\"24px\">\n",
              "    <path d=\"M0 0h24v24H0V0z\" fill=\"none\"/>\n",
              "    <path d=\"M18.56 5.44l.94 2.06.94-2.06 2.06-.94-2.06-.94-.94-2.06-.94 2.06-2.06.94zm-11 1L8.5 8.5l.94-2.06 2.06-.94-2.06-.94L8.5 2.5l-.94 2.06-2.06.94zm10 10l.94 2.06.94-2.06 2.06-.94-2.06-.94-.94-2.06-.94 2.06-2.06.94z\"/><path d=\"M17.41 7.96l-1.37-1.37c-.4-.4-.92-.59-1.43-.59-.52 0-1.04.2-1.43.59L10.3 9.45l-7.72 7.72c-.78.78-.78 2.05 0 2.83L4 21.41c.39.39.9.59 1.41.59.51 0 1.02-.2 1.41-.59l7.78-7.78 2.81-2.81c.8-.78.8-2.07 0-2.86zM5.41 20L4 18.59l7.72-7.72 1.47 1.35L5.41 20z\"/>\n",
              "  </svg>\n",
              "      </button>\n",
              "      \n",
              "  <style>\n",
              "    .colab-df-container {\n",
              "      display:flex;\n",
              "      flex-wrap:wrap;\n",
              "      gap: 12px;\n",
              "    }\n",
              "\n",
              "    .colab-df-convert {\n",
              "      background-color: #E8F0FE;\n",
              "      border: none;\n",
              "      border-radius: 50%;\n",
              "      cursor: pointer;\n",
              "      display: none;\n",
              "      fill: #1967D2;\n",
              "      height: 32px;\n",
              "      padding: 0 0 0 0;\n",
              "      width: 32px;\n",
              "    }\n",
              "\n",
              "    .colab-df-convert:hover {\n",
              "      background-color: #E2EBFA;\n",
              "      box-shadow: 0px 1px 2px rgba(60, 64, 67, 0.3), 0px 1px 3px 1px rgba(60, 64, 67, 0.15);\n",
              "      fill: #174EA6;\n",
              "    }\n",
              "\n",
              "    [theme=dark] .colab-df-convert {\n",
              "      background-color: #3B4455;\n",
              "      fill: #D2E3FC;\n",
              "    }\n",
              "\n",
              "    [theme=dark] .colab-df-convert:hover {\n",
              "      background-color: #434B5C;\n",
              "      box-shadow: 0px 1px 3px 1px rgba(0, 0, 0, 0.15);\n",
              "      filter: drop-shadow(0px 1px 2px rgba(0, 0, 0, 0.3));\n",
              "      fill: #FFFFFF;\n",
              "    }\n",
              "  </style>\n",
              "\n",
              "      <script>\n",
              "        const buttonEl =\n",
              "          document.querySelector('#df-4ca45cd4-7f9e-4aa3-bd06-e7e94524aed3 button.colab-df-convert');\n",
              "        buttonEl.style.display =\n",
              "          google.colab.kernel.accessAllowed ? 'block' : 'none';\n",
              "\n",
              "        async function convertToInteractive(key) {\n",
              "          const element = document.querySelector('#df-4ca45cd4-7f9e-4aa3-bd06-e7e94524aed3');\n",
              "          const dataTable =\n",
              "            await google.colab.kernel.invokeFunction('convertToInteractive',\n",
              "                                                     [key], {});\n",
              "          if (!dataTable) return;\n",
              "\n",
              "          const docLinkHtml = 'Like what you see? Visit the ' +\n",
              "            '<a target=\"_blank\" href=https://colab.research.google.com/notebooks/data_table.ipynb>data table notebook</a>'\n",
              "            + ' to learn more about interactive tables.';\n",
              "          element.innerHTML = '';\n",
              "          dataTable['output_type'] = 'display_data';\n",
              "          await google.colab.output.renderOutput(dataTable, element);\n",
              "          const docLink = document.createElement('div');\n",
              "          docLink.innerHTML = docLinkHtml;\n",
              "          element.appendChild(docLink);\n",
              "        }\n",
              "      </script>\n",
              "    </div>\n",
              "  </div>\n",
              "  "
            ]
          },
          "metadata": {},
          "execution_count": 63
        }
      ],
      "source": [
        "node_subjects.value_counts().to_frame()"
      ]
    },
    {
      "cell_type": "markdown",
      "metadata": {
        "id": "oMAS77_7VvM7"
      },
      "source": [
        "### Splitting the data"
      ]
    },
    {
      "cell_type": "markdown",
      "metadata": {
        "id": "smUNOLZGVvM7"
      },
      "source": [
        "For machine learning we want to take a subset of the nodes for training, and use the rest for validation and testing. We'll use scikit-learn's `train_test_split` function.\n",
        "\n",
        "Here we're taking 140 node labels for training, 500 for validation, and the rest for testing."
      ]
    },
    {
      "cell_type": "code",
      "execution_count": null,
      "metadata": {
        "id": "NTd9-H5oVvM8"
      },
      "outputs": [],
      "source": [
        "train_subjects, test_subjects = model_selection.train_test_split(\n",
        "    node_subjects, train_size=140, test_size=None, stratify=node_subjects\n",
        ")\n",
        "val_subjects, test_subjects = model_selection.train_test_split(\n",
        "    test_subjects, train_size=500, test_size=None, stratify=test_subjects\n",
        ")"
      ]
    },
    {
      "cell_type": "markdown",
      "metadata": {
        "id": "L9hyvtsaVvM9"
      },
      "source": [
        "Note using stratified sampling gives the following counts:"
      ]
    },
    {
      "cell_type": "code",
      "execution_count": null,
      "metadata": {
        "id": "r1RpZirnVvM9",
        "outputId": "79a2e3fd-2aea-4f74-95ad-45b8f6ce13aa",
        "colab": {
          "base_uri": "https://localhost:8080/",
          "height": 269
        }
      },
      "outputs": [
        {
          "output_type": "execute_result",
          "data": {
            "text/plain": [
              "                        subject\n",
              "Neural_Networks              42\n",
              "Genetic_Algorithms           22\n",
              "Probabilistic_Methods        22\n",
              "Theory                       18\n",
              "Case_Based                   16\n",
              "Reinforcement_Learning       11\n",
              "Rule_Learning                 9"
            ],
            "text/html": [
              "\n",
              "  <div id=\"df-62ddc7e4-7063-4fa4-94f3-52bb9bcb5d1a\">\n",
              "    <div class=\"colab-df-container\">\n",
              "      <div>\n",
              "<style scoped>\n",
              "    .dataframe tbody tr th:only-of-type {\n",
              "        vertical-align: middle;\n",
              "    }\n",
              "\n",
              "    .dataframe tbody tr th {\n",
              "        vertical-align: top;\n",
              "    }\n",
              "\n",
              "    .dataframe thead th {\n",
              "        text-align: right;\n",
              "    }\n",
              "</style>\n",
              "<table border=\"1\" class=\"dataframe\">\n",
              "  <thead>\n",
              "    <tr style=\"text-align: right;\">\n",
              "      <th></th>\n",
              "      <th>subject</th>\n",
              "    </tr>\n",
              "  </thead>\n",
              "  <tbody>\n",
              "    <tr>\n",
              "      <th>Neural_Networks</th>\n",
              "      <td>42</td>\n",
              "    </tr>\n",
              "    <tr>\n",
              "      <th>Genetic_Algorithms</th>\n",
              "      <td>22</td>\n",
              "    </tr>\n",
              "    <tr>\n",
              "      <th>Probabilistic_Methods</th>\n",
              "      <td>22</td>\n",
              "    </tr>\n",
              "    <tr>\n",
              "      <th>Theory</th>\n",
              "      <td>18</td>\n",
              "    </tr>\n",
              "    <tr>\n",
              "      <th>Case_Based</th>\n",
              "      <td>16</td>\n",
              "    </tr>\n",
              "    <tr>\n",
              "      <th>Reinforcement_Learning</th>\n",
              "      <td>11</td>\n",
              "    </tr>\n",
              "    <tr>\n",
              "      <th>Rule_Learning</th>\n",
              "      <td>9</td>\n",
              "    </tr>\n",
              "  </tbody>\n",
              "</table>\n",
              "</div>\n",
              "      <button class=\"colab-df-convert\" onclick=\"convertToInteractive('df-62ddc7e4-7063-4fa4-94f3-52bb9bcb5d1a')\"\n",
              "              title=\"Convert this dataframe to an interactive table.\"\n",
              "              style=\"display:none;\">\n",
              "        \n",
              "  <svg xmlns=\"http://www.w3.org/2000/svg\" height=\"24px\"viewBox=\"0 0 24 24\"\n",
              "       width=\"24px\">\n",
              "    <path d=\"M0 0h24v24H0V0z\" fill=\"none\"/>\n",
              "    <path d=\"M18.56 5.44l.94 2.06.94-2.06 2.06-.94-2.06-.94-.94-2.06-.94 2.06-2.06.94zm-11 1L8.5 8.5l.94-2.06 2.06-.94-2.06-.94L8.5 2.5l-.94 2.06-2.06.94zm10 10l.94 2.06.94-2.06 2.06-.94-2.06-.94-.94-2.06-.94 2.06-2.06.94z\"/><path d=\"M17.41 7.96l-1.37-1.37c-.4-.4-.92-.59-1.43-.59-.52 0-1.04.2-1.43.59L10.3 9.45l-7.72 7.72c-.78.78-.78 2.05 0 2.83L4 21.41c.39.39.9.59 1.41.59.51 0 1.02-.2 1.41-.59l7.78-7.78 2.81-2.81c.8-.78.8-2.07 0-2.86zM5.41 20L4 18.59l7.72-7.72 1.47 1.35L5.41 20z\"/>\n",
              "  </svg>\n",
              "      </button>\n",
              "      \n",
              "  <style>\n",
              "    .colab-df-container {\n",
              "      display:flex;\n",
              "      flex-wrap:wrap;\n",
              "      gap: 12px;\n",
              "    }\n",
              "\n",
              "    .colab-df-convert {\n",
              "      background-color: #E8F0FE;\n",
              "      border: none;\n",
              "      border-radius: 50%;\n",
              "      cursor: pointer;\n",
              "      display: none;\n",
              "      fill: #1967D2;\n",
              "      height: 32px;\n",
              "      padding: 0 0 0 0;\n",
              "      width: 32px;\n",
              "    }\n",
              "\n",
              "    .colab-df-convert:hover {\n",
              "      background-color: #E2EBFA;\n",
              "      box-shadow: 0px 1px 2px rgba(60, 64, 67, 0.3), 0px 1px 3px 1px rgba(60, 64, 67, 0.15);\n",
              "      fill: #174EA6;\n",
              "    }\n",
              "\n",
              "    [theme=dark] .colab-df-convert {\n",
              "      background-color: #3B4455;\n",
              "      fill: #D2E3FC;\n",
              "    }\n",
              "\n",
              "    [theme=dark] .colab-df-convert:hover {\n",
              "      background-color: #434B5C;\n",
              "      box-shadow: 0px 1px 3px 1px rgba(0, 0, 0, 0.15);\n",
              "      filter: drop-shadow(0px 1px 2px rgba(0, 0, 0, 0.3));\n",
              "      fill: #FFFFFF;\n",
              "    }\n",
              "  </style>\n",
              "\n",
              "      <script>\n",
              "        const buttonEl =\n",
              "          document.querySelector('#df-62ddc7e4-7063-4fa4-94f3-52bb9bcb5d1a button.colab-df-convert');\n",
              "        buttonEl.style.display =\n",
              "          google.colab.kernel.accessAllowed ? 'block' : 'none';\n",
              "\n",
              "        async function convertToInteractive(key) {\n",
              "          const element = document.querySelector('#df-62ddc7e4-7063-4fa4-94f3-52bb9bcb5d1a');\n",
              "          const dataTable =\n",
              "            await google.colab.kernel.invokeFunction('convertToInteractive',\n",
              "                                                     [key], {});\n",
              "          if (!dataTable) return;\n",
              "\n",
              "          const docLinkHtml = 'Like what you see? Visit the ' +\n",
              "            '<a target=\"_blank\" href=https://colab.research.google.com/notebooks/data_table.ipynb>data table notebook</a>'\n",
              "            + ' to learn more about interactive tables.';\n",
              "          element.innerHTML = '';\n",
              "          dataTable['output_type'] = 'display_data';\n",
              "          await google.colab.output.renderOutput(dataTable, element);\n",
              "          const docLink = document.createElement('div');\n",
              "          docLink.innerHTML = docLinkHtml;\n",
              "          element.appendChild(docLink);\n",
              "        }\n",
              "      </script>\n",
              "    </div>\n",
              "  </div>\n",
              "  "
            ]
          },
          "metadata": {},
          "execution_count": 65
        }
      ],
      "source": [
        "train_subjects.value_counts().to_frame()"
      ]
    },
    {
      "cell_type": "markdown",
      "metadata": {
        "id": "Iyo0LskIVvM9"
      },
      "source": [
        "The training set has class imbalance that might need to be compensated, e.g., via using a weighted cross-entropy loss in model training, with class weights inversely proportional to class support. However, we will ignore the class imbalance in this example, for simplicity."
      ]
    },
    {
      "cell_type": "markdown",
      "metadata": {
        "id": "M38VVbZYVvM-"
      },
      "source": [
        "### Converting to numeric arrays"
      ]
    },
    {
      "cell_type": "markdown",
      "metadata": {
        "id": "v2p1fJJ-VvM-"
      },
      "source": [
        "For our categorical target, we will use one-hot vectors that will be compared against the model's soft-max output. To do this conversion we can use the `LabelBinarizer` transform. Another option would be the `pandas.get_dummies` function, but the scikit-learn transform allows us to do the inverse transform easily later in the notebook, to interpret the predictions."
      ]
    },
    {
      "cell_type": "code",
      "execution_count": null,
      "metadata": {
        "id": "zI41FssyVvM-"
      },
      "outputs": [],
      "source": [
        "target_encoding = preprocessing.LabelBinarizer()\n",
        "\n",
        "train_targets = target_encoding.fit_transform(train_subjects)\n",
        "val_targets = target_encoding.transform(val_subjects)\n",
        "test_targets = target_encoding.transform(test_subjects)"
      ]
    },
    {
      "cell_type": "markdown",
      "metadata": {
        "id": "vBHnbT5sVvM_"
      },
      "source": [
        "The CORA dataset contains attributes `w_x` that correspond to words found in that publication. If a word occurs more than once in a publication the relevant attribute will be set to one, otherwise it will be zero. These numeric attributes have been automatically included in the `StellarGraph` instance `G`, and so we do not have to do any further conversion."
      ]
    },
    {
      "cell_type": "code",
      "execution_count": null,
      "metadata": {
        "id": "wqT9PhS2VvNA",
        "outputId": "cd2d5eea-c131-4123-bba2-36ae5cdcbeed",
        "colab": {
          "base_uri": "https://localhost:8080/"
        }
      },
      "outputs": [
        {
          "output_type": "stream",
          "name": "stdout",
          "text": [
            "Using GCN (local pooling) filters...\n"
          ]
        }
      ],
      "source": [
        "generator = FullBatchNodeGenerator(G, method=\"gcn\")"
      ]
    },
    {
      "cell_type": "code",
      "execution_count": null,
      "metadata": {
        "id": "4buUIz69VvNA"
      },
      "outputs": [],
      "source": [
        "train_gen = generator.flow(train_subjects.index, train_targets)"
      ]
    },
    {
      "cell_type": "code",
      "execution_count": null,
      "metadata": {
        "id": "uS1lpDTUVvNB"
      },
      "outputs": [],
      "source": [
        "gcn = GCN(\n",
        "    layer_sizes=[16, 16], activations=[\"relu\", \"relu\"], generator=generator, dropout=0.5\n",
        ")"
      ]
    },
    {
      "cell_type": "markdown",
      "metadata": {
        "id": "H6RjAqZMVvNB"
      },
      "source": [
        "To create a Keras model we now expose the input and output tensors of the GCN model for node prediction, via the `GCN.in_out_tensors` method:"
      ]
    },
    {
      "cell_type": "code",
      "execution_count": null,
      "metadata": {
        "id": "EI2aukKJVvNC",
        "outputId": "82414daa-096f-413a-b467-ae9aba20d77e",
        "colab": {
          "base_uri": "https://localhost:8080/"
        }
      },
      "outputs": [
        {
          "output_type": "execute_result",
          "data": {
            "text/plain": [
              "<KerasTensor: shape=(1, None, 16) dtype=float32 (created by layer 'gather_indices_2')>"
            ]
          },
          "metadata": {},
          "execution_count": 70
        }
      ],
      "source": [
        "x_inp, x_out = gcn.in_out_tensors()\n",
        "\n",
        "x_out"
      ]
    },
    {
      "cell_type": "code",
      "execution_count": null,
      "metadata": {
        "id": "umKcMNXzVvND"
      },
      "outputs": [],
      "source": [
        "predictions = layers.Dense(units=train_targets.shape[1], activation=\"softmax\")(x_out)"
      ]
    },
    {
      "cell_type": "markdown",
      "metadata": {
        "id": "bL3wbx1sVvND"
      },
      "source": [
        "## 3. Training and evaluating\n",
        "\n",
        "### Training the model"
      ]
    },
    {
      "cell_type": "markdown",
      "metadata": {
        "id": "8M_UC8yhVvNF"
      },
      "source": [
        "Now let's create the actual Keras model with the input tensors `x_inp` and output tensors being the predictions `predictions` from the final dense layer. Our task is a categorical prediction task, so a categorical cross-entropy loss function is appropriate. Even though we're doing graph ML with StellarGraph, we're still working with conventional Keras prediction values, so we can use the loss function from Keras directly."
      ]
    },
    {
      "cell_type": "code",
      "execution_count": null,
      "metadata": {
        "id": "iXGr1XPmVvNF",
        "colab": {
          "base_uri": "https://localhost:8080/"
        },
        "outputId": "6c227cb3-1513-4446-c2aa-b94ab5a2514e"
      },
      "outputs": [
        {
          "output_type": "stream",
          "name": "stderr",
          "text": [
            "/usr/local/lib/python3.7/dist-packages/keras/optimizers/optimizer_v2/adam.py:110: UserWarning: The `lr` argument is deprecated, use `learning_rate` instead.\n",
            "  super(Adam, self).__init__(name, **kwargs)\n"
          ]
        }
      ],
      "source": [
        "model = Model(inputs=x_inp, outputs=predictions)\n",
        "model.compile(\n",
        "    optimizer=optimizers.Adam(lr=0.01),\n",
        "    loss=losses.categorical_crossentropy,\n",
        "    metrics=[\"acc\"],\n",
        ")"
      ]
    },
    {
      "cell_type": "markdown",
      "metadata": {
        "id": "fEAcWzL8VvNF"
      },
      "source": [
        "As we're training the model, we'll want to also keep track of its generalisation performance on the validation set, which means creating another data generator, using our `FullBatchNodeGenerator` we created above."
      ]
    },
    {
      "cell_type": "code",
      "execution_count": null,
      "metadata": {
        "id": "429D8-_zVvNF"
      },
      "outputs": [],
      "source": [
        "val_gen = generator.flow(val_subjects.index, val_targets)"
      ]
    },
    {
      "cell_type": "markdown",
      "metadata": {
        "id": "Lo56-rVfVvNG"
      },
      "source": [
        "We can directly use the `EarlyStopping` functionality to stop training if the validation accuracy stops improving."
      ]
    },
    {
      "cell_type": "code",
      "execution_count": null,
      "metadata": {
        "id": "NrwKBK4IVvNH"
      },
      "outputs": [],
      "source": [
        "from tensorflow.keras.callbacks import EarlyStopping\n",
        "\n",
        "es_callback = EarlyStopping(monitor=\"val_acc\", patience=50, restore_best_weights=True)"
      ]
    },
    {
      "cell_type": "code",
      "execution_count": null,
      "metadata": {
        "id": "XsCnAKKGVvNH",
        "outputId": "20b2fab3-e062-46c6-9e53-14cd1b5486b4",
        "colab": {
          "base_uri": "https://localhost:8080/"
        }
      },
      "outputs": [
        {
          "output_type": "stream",
          "name": "stdout",
          "text": [
            "Epoch 1/200\n",
            "1/1 - 1s - loss: 1.9379 - acc: 0.1429 - val_loss: 1.9070 - val_acc: 0.3660 - 1s/epoch - 1s/step\n",
            "Epoch 2/200\n",
            "1/1 - 0s - loss: 1.8971 - acc: 0.3786 - val_loss: 1.8660 - val_acc: 0.3360 - 79ms/epoch - 79ms/step\n",
            "Epoch 3/200\n",
            "1/1 - 0s - loss: 1.8469 - acc: 0.3429 - val_loss: 1.8143 - val_acc: 0.3420 - 73ms/epoch - 73ms/step\n",
            "Epoch 4/200\n",
            "1/1 - 0s - loss: 1.7799 - acc: 0.4143 - val_loss: 1.7497 - val_acc: 0.3620 - 55ms/epoch - 55ms/step\n",
            "Epoch 5/200\n",
            "1/1 - 0s - loss: 1.7007 - acc: 0.3929 - val_loss: 1.6767 - val_acc: 0.3820 - 57ms/epoch - 57ms/step\n",
            "Epoch 6/200\n",
            "1/1 - 0s - loss: 1.6045 - acc: 0.4143 - val_loss: 1.5993 - val_acc: 0.3920 - 68ms/epoch - 68ms/step\n",
            "Epoch 7/200\n",
            "1/1 - 0s - loss: 1.5261 - acc: 0.4643 - val_loss: 1.5204 - val_acc: 0.4140 - 57ms/epoch - 57ms/step\n",
            "Epoch 8/200\n",
            "1/1 - 0s - loss: 1.3982 - acc: 0.4929 - val_loss: 1.4426 - val_acc: 0.4380 - 59ms/epoch - 59ms/step\n",
            "Epoch 9/200\n",
            "1/1 - 0s - loss: 1.3052 - acc: 0.5643 - val_loss: 1.3652 - val_acc: 0.4760 - 67ms/epoch - 67ms/step\n",
            "Epoch 10/200\n",
            "1/1 - 0s - loss: 1.2098 - acc: 0.5857 - val_loss: 1.2860 - val_acc: 0.5660 - 65ms/epoch - 65ms/step\n",
            "Epoch 11/200\n",
            "1/1 - 0s - loss: 1.0992 - acc: 0.6857 - val_loss: 1.2046 - val_acc: 0.6260 - 60ms/epoch - 60ms/step\n",
            "Epoch 12/200\n",
            "1/1 - 0s - loss: 0.9733 - acc: 0.7643 - val_loss: 1.1267 - val_acc: 0.6620 - 60ms/epoch - 60ms/step\n",
            "Epoch 13/200\n",
            "1/1 - 0s - loss: 0.8882 - acc: 0.8071 - val_loss: 1.0524 - val_acc: 0.6940 - 68ms/epoch - 68ms/step\n",
            "Epoch 14/200\n",
            "1/1 - 0s - loss: 0.8339 - acc: 0.8071 - val_loss: 0.9879 - val_acc: 0.7200 - 57ms/epoch - 57ms/step\n",
            "Epoch 15/200\n",
            "1/1 - 0s - loss: 0.7091 - acc: 0.8286 - val_loss: 0.9287 - val_acc: 0.7300 - 66ms/epoch - 66ms/step\n",
            "Epoch 16/200\n",
            "1/1 - 0s - loss: 0.6938 - acc: 0.8143 - val_loss: 0.8746 - val_acc: 0.7340 - 56ms/epoch - 56ms/step\n",
            "Epoch 17/200\n",
            "1/1 - 0s - loss: 0.5932 - acc: 0.8357 - val_loss: 0.8308 - val_acc: 0.7320 - 55ms/epoch - 55ms/step\n",
            "Epoch 18/200\n",
            "1/1 - 0s - loss: 0.6240 - acc: 0.8071 - val_loss: 0.7938 - val_acc: 0.7360 - 68ms/epoch - 68ms/step\n",
            "Epoch 19/200\n",
            "1/1 - 0s - loss: 0.5018 - acc: 0.8429 - val_loss: 0.7643 - val_acc: 0.7480 - 62ms/epoch - 62ms/step\n",
            "Epoch 20/200\n",
            "1/1 - 0s - loss: 0.4235 - acc: 0.8857 - val_loss: 0.7437 - val_acc: 0.7680 - 59ms/epoch - 59ms/step\n",
            "Epoch 21/200\n",
            "1/1 - 0s - loss: 0.4180 - acc: 0.8643 - val_loss: 0.7263 - val_acc: 0.7820 - 55ms/epoch - 55ms/step\n",
            "Epoch 22/200\n",
            "1/1 - 0s - loss: 0.3772 - acc: 0.9000 - val_loss: 0.7089 - val_acc: 0.7880 - 55ms/epoch - 55ms/step\n",
            "Epoch 23/200\n",
            "1/1 - 0s - loss: 0.2969 - acc: 0.9357 - val_loss: 0.6952 - val_acc: 0.7920 - 63ms/epoch - 63ms/step\n",
            "Epoch 24/200\n",
            "1/1 - 0s - loss: 0.3527 - acc: 0.9000 - val_loss: 0.6888 - val_acc: 0.8000 - 58ms/epoch - 58ms/step\n",
            "Epoch 25/200\n",
            "1/1 - 0s - loss: 0.2425 - acc: 0.9571 - val_loss: 0.6886 - val_acc: 0.8060 - 64ms/epoch - 64ms/step\n",
            "Epoch 26/200\n",
            "1/1 - 0s - loss: 0.3138 - acc: 0.9000 - val_loss: 0.6934 - val_acc: 0.8020 - 56ms/epoch - 56ms/step\n",
            "Epoch 27/200\n",
            "1/1 - 0s - loss: 0.2404 - acc: 0.9429 - val_loss: 0.6941 - val_acc: 0.8000 - 57ms/epoch - 57ms/step\n",
            "Epoch 28/200\n",
            "1/1 - 0s - loss: 0.1659 - acc: 1.0000 - val_loss: 0.6946 - val_acc: 0.8080 - 57ms/epoch - 57ms/step\n",
            "Epoch 29/200\n",
            "1/1 - 0s - loss: 0.2313 - acc: 0.9500 - val_loss: 0.6948 - val_acc: 0.8080 - 70ms/epoch - 70ms/step\n",
            "Epoch 30/200\n",
            "1/1 - 0s - loss: 0.1684 - acc: 0.9714 - val_loss: 0.6972 - val_acc: 0.8080 - 101ms/epoch - 101ms/step\n",
            "Epoch 31/200\n",
            "1/1 - 0s - loss: 0.1881 - acc: 0.9571 - val_loss: 0.6970 - val_acc: 0.8080 - 53ms/epoch - 53ms/step\n",
            "Epoch 32/200\n",
            "1/1 - 0s - loss: 0.1707 - acc: 0.9714 - val_loss: 0.6963 - val_acc: 0.8100 - 57ms/epoch - 57ms/step\n",
            "Epoch 33/200\n",
            "1/1 - 0s - loss: 0.1332 - acc: 0.9643 - val_loss: 0.6991 - val_acc: 0.8080 - 114ms/epoch - 114ms/step\n",
            "Epoch 34/200\n",
            "1/1 - 0s - loss: 0.1330 - acc: 0.9643 - val_loss: 0.7068 - val_acc: 0.8100 - 82ms/epoch - 82ms/step\n",
            "Epoch 35/200\n",
            "1/1 - 0s - loss: 0.1308 - acc: 0.9786 - val_loss: 0.7212 - val_acc: 0.8120 - 111ms/epoch - 111ms/step\n",
            "Epoch 36/200\n",
            "1/1 - 0s - loss: 0.1330 - acc: 0.9429 - val_loss: 0.7396 - val_acc: 0.8080 - 82ms/epoch - 82ms/step\n",
            "Epoch 37/200\n",
            "1/1 - 0s - loss: 0.1009 - acc: 0.9643 - val_loss: 0.7601 - val_acc: 0.8080 - 104ms/epoch - 104ms/step\n",
            "Epoch 38/200\n",
            "1/1 - 0s - loss: 0.1272 - acc: 0.9500 - val_loss: 0.7771 - val_acc: 0.8020 - 94ms/epoch - 94ms/step\n",
            "Epoch 39/200\n",
            "1/1 - 0s - loss: 0.0570 - acc: 0.9929 - val_loss: 0.7895 - val_acc: 0.7960 - 99ms/epoch - 99ms/step\n",
            "Epoch 40/200\n",
            "1/1 - 0s - loss: 0.0466 - acc: 0.9929 - val_loss: 0.7969 - val_acc: 0.7940 - 85ms/epoch - 85ms/step\n",
            "Epoch 41/200\n",
            "1/1 - 0s - loss: 0.0629 - acc: 0.9929 - val_loss: 0.7988 - val_acc: 0.7960 - 100ms/epoch - 100ms/step\n",
            "Epoch 42/200\n",
            "1/1 - 0s - loss: 0.0436 - acc: 0.9929 - val_loss: 0.7967 - val_acc: 0.8020 - 131ms/epoch - 131ms/step\n",
            "Epoch 43/200\n",
            "1/1 - 0s - loss: 0.0835 - acc: 0.9929 - val_loss: 0.7924 - val_acc: 0.8060 - 102ms/epoch - 102ms/step\n",
            "Epoch 44/200\n",
            "1/1 - 0s - loss: 0.0695 - acc: 0.9714 - val_loss: 0.7855 - val_acc: 0.8080 - 81ms/epoch - 81ms/step\n",
            "Epoch 45/200\n",
            "1/1 - 0s - loss: 0.0643 - acc: 1.0000 - val_loss: 0.7832 - val_acc: 0.8100 - 90ms/epoch - 90ms/step\n",
            "Epoch 46/200\n",
            "1/1 - 0s - loss: 0.0772 - acc: 0.9857 - val_loss: 0.7877 - val_acc: 0.8080 - 104ms/epoch - 104ms/step\n",
            "Epoch 47/200\n",
            "1/1 - 0s - loss: 0.0674 - acc: 0.9857 - val_loss: 0.7925 - val_acc: 0.8020 - 94ms/epoch - 94ms/step\n",
            "Epoch 48/200\n",
            "1/1 - 0s - loss: 0.0973 - acc: 0.9571 - val_loss: 0.7998 - val_acc: 0.7980 - 103ms/epoch - 103ms/step\n",
            "Epoch 49/200\n",
            "1/1 - 0s - loss: 0.0370 - acc: 1.0000 - val_loss: 0.8082 - val_acc: 0.8000 - 127ms/epoch - 127ms/step\n",
            "Epoch 50/200\n",
            "1/1 - 0s - loss: 0.0367 - acc: 1.0000 - val_loss: 0.8166 - val_acc: 0.7960 - 87ms/epoch - 87ms/step\n",
            "Epoch 51/200\n",
            "1/1 - 0s - loss: 0.0654 - acc: 0.9643 - val_loss: 0.8236 - val_acc: 0.7940 - 127ms/epoch - 127ms/step\n",
            "Epoch 52/200\n",
            "1/1 - 0s - loss: 0.0355 - acc: 1.0000 - val_loss: 0.8307 - val_acc: 0.7940 - 99ms/epoch - 99ms/step\n",
            "Epoch 53/200\n",
            "1/1 - 0s - loss: 0.0572 - acc: 0.9929 - val_loss: 0.8389 - val_acc: 0.7920 - 90ms/epoch - 90ms/step\n",
            "Epoch 54/200\n",
            "1/1 - 0s - loss: 0.0495 - acc: 0.9929 - val_loss: 0.8461 - val_acc: 0.7960 - 106ms/epoch - 106ms/step\n",
            "Epoch 55/200\n",
            "1/1 - 0s - loss: 0.0333 - acc: 1.0000 - val_loss: 0.8561 - val_acc: 0.7980 - 133ms/epoch - 133ms/step\n",
            "Epoch 56/200\n",
            "1/1 - 0s - loss: 0.0517 - acc: 0.9857 - val_loss: 0.8659 - val_acc: 0.8020 - 102ms/epoch - 102ms/step\n",
            "Epoch 57/200\n",
            "1/1 - 0s - loss: 0.0625 - acc: 0.9786 - val_loss: 0.8728 - val_acc: 0.8040 - 85ms/epoch - 85ms/step\n",
            "Epoch 58/200\n",
            "1/1 - 0s - loss: 0.0267 - acc: 1.0000 - val_loss: 0.8815 - val_acc: 0.8060 - 102ms/epoch - 102ms/step\n",
            "Epoch 59/200\n",
            "1/1 - 0s - loss: 0.0692 - acc: 0.9857 - val_loss: 0.8939 - val_acc: 0.8060 - 160ms/epoch - 160ms/step\n",
            "Epoch 60/200\n",
            "1/1 - 0s - loss: 0.0445 - acc: 0.9929 - val_loss: 0.9001 - val_acc: 0.8020 - 116ms/epoch - 116ms/step\n",
            "Epoch 61/200\n",
            "1/1 - 0s - loss: 0.0598 - acc: 0.9643 - val_loss: 0.9028 - val_acc: 0.8020 - 89ms/epoch - 89ms/step\n",
            "Epoch 62/200\n",
            "1/1 - 0s - loss: 0.0374 - acc: 0.9929 - val_loss: 0.9063 - val_acc: 0.8000 - 109ms/epoch - 109ms/step\n",
            "Epoch 63/200\n",
            "1/1 - 0s - loss: 0.0327 - acc: 0.9929 - val_loss: 0.9050 - val_acc: 0.8040 - 115ms/epoch - 115ms/step\n",
            "Epoch 64/200\n",
            "1/1 - 0s - loss: 0.0464 - acc: 0.9786 - val_loss: 0.9016 - val_acc: 0.8100 - 129ms/epoch - 129ms/step\n",
            "Epoch 65/200\n",
            "1/1 - 0s - loss: 0.0431 - acc: 0.9929 - val_loss: 0.8953 - val_acc: 0.8080 - 139ms/epoch - 139ms/step\n",
            "Epoch 66/200\n",
            "1/1 - 0s - loss: 0.0272 - acc: 1.0000 - val_loss: 0.8909 - val_acc: 0.8100 - 135ms/epoch - 135ms/step\n",
            "Epoch 67/200\n",
            "1/1 - 0s - loss: 0.0292 - acc: 0.9929 - val_loss: 0.8892 - val_acc: 0.8100 - 117ms/epoch - 117ms/step\n",
            "Epoch 68/200\n",
            "1/1 - 0s - loss: 0.0764 - acc: 0.9857 - val_loss: 0.8878 - val_acc: 0.8080 - 93ms/epoch - 93ms/step\n",
            "Epoch 69/200\n",
            "1/1 - 0s - loss: 0.0275 - acc: 0.9929 - val_loss: 0.8863 - val_acc: 0.8100 - 131ms/epoch - 131ms/step\n",
            "Epoch 70/200\n",
            "1/1 - 0s - loss: 0.0822 - acc: 0.9643 - val_loss: 0.8857 - val_acc: 0.8120 - 93ms/epoch - 93ms/step\n",
            "Epoch 71/200\n",
            "1/1 - 0s - loss: 0.0312 - acc: 0.9929 - val_loss: 0.8869 - val_acc: 0.8080 - 76ms/epoch - 76ms/step\n",
            "Epoch 72/200\n",
            "1/1 - 0s - loss: 0.0130 - acc: 1.0000 - val_loss: 0.8883 - val_acc: 0.8020 - 81ms/epoch - 81ms/step\n",
            "Epoch 73/200\n",
            "1/1 - 0s - loss: 0.0311 - acc: 0.9929 - val_loss: 0.8903 - val_acc: 0.8000 - 119ms/epoch - 119ms/step\n",
            "Epoch 74/200\n",
            "1/1 - 0s - loss: 0.0359 - acc: 0.9857 - val_loss: 0.8929 - val_acc: 0.7960 - 111ms/epoch - 111ms/step\n",
            "Epoch 75/200\n",
            "1/1 - 0s - loss: 0.0259 - acc: 0.9929 - val_loss: 0.8966 - val_acc: 0.7960 - 103ms/epoch - 103ms/step\n",
            "Epoch 76/200\n",
            "1/1 - 0s - loss: 0.0499 - acc: 0.9786 - val_loss: 0.9000 - val_acc: 0.8000 - 130ms/epoch - 130ms/step\n",
            "Epoch 77/200\n",
            "1/1 - 0s - loss: 0.0408 - acc: 0.9929 - val_loss: 0.9047 - val_acc: 0.8080 - 120ms/epoch - 120ms/step\n",
            "Epoch 78/200\n",
            "1/1 - 0s - loss: 0.0572 - acc: 0.9857 - val_loss: 0.9134 - val_acc: 0.8120 - 134ms/epoch - 134ms/step\n",
            "Epoch 79/200\n",
            "1/1 - 0s - loss: 0.0308 - acc: 0.9857 - val_loss: 0.9243 - val_acc: 0.8100 - 76ms/epoch - 76ms/step\n",
            "Epoch 80/200\n",
            "1/1 - 0s - loss: 0.0425 - acc: 0.9857 - val_loss: 0.9342 - val_acc: 0.8100 - 105ms/epoch - 105ms/step\n",
            "Epoch 81/200\n",
            "1/1 - 0s - loss: 0.0354 - acc: 0.9857 - val_loss: 0.9429 - val_acc: 0.8040 - 134ms/epoch - 134ms/step\n",
            "Epoch 82/200\n",
            "1/1 - 0s - loss: 0.0763 - acc: 0.9857 - val_loss: 0.9580 - val_acc: 0.8040 - 149ms/epoch - 149ms/step\n",
            "Epoch 83/200\n",
            "1/1 - 0s - loss: 0.0289 - acc: 0.9929 - val_loss: 0.9704 - val_acc: 0.8020 - 137ms/epoch - 137ms/step\n",
            "Epoch 84/200\n",
            "1/1 - 0s - loss: 0.0271 - acc: 1.0000 - val_loss: 0.9851 - val_acc: 0.8000 - 85ms/epoch - 85ms/step\n",
            "Epoch 85/200\n",
            "1/1 - 0s - loss: 0.0295 - acc: 0.9929 - val_loss: 0.9996 - val_acc: 0.7960 - 145ms/epoch - 145ms/step\n"
          ]
        }
      ],
      "source": [
        "history = model.fit(\n",
        "    train_gen,\n",
        "    epochs=200,\n",
        "    validation_data=val_gen,\n",
        "    verbose=2,\n",
        "    shuffle=False,  # this should be False, since shuffling data means shuffling the whole graph\n",
        "    callbacks=[es_callback],\n",
        ")"
      ]
    },
    {
      "cell_type": "markdown",
      "metadata": {
        "id": "hIW3fCaDVvNH"
      },
      "source": [
        "## Graph Plotting\n",
        "To view the behaviour loss function and any other metrics. In this case, we can see the loss and accuracy on both the training and validation sets."
      ]
    },
    {
      "cell_type": "code",
      "execution_count": null,
      "metadata": {
        "id": "tToqY9IgVvNH",
        "outputId": "1f1a1895-70c4-4f73-aed9-ca9f00ef10f5",
        "colab": {
          "base_uri": "https://localhost:8080/",
          "height": 585
        }
      },
      "outputs": [
        {
          "output_type": "display_data",
          "data": {
            "text/plain": [
              "<Figure size 504x576 with 2 Axes>"
            ],
            "image/png": "[encoded data removed]"
          },
          "metadata": {
            "needs_background": "light"
          }
        }
      ],
      "source": [
        "sg.utils.plot_history(history)"
      ]
    },
    {
      "cell_type": "markdown",
      "metadata": {
        "id": "Z8bB5b3KVvNJ"
      },
      "source": [
        "As the final part of our evaluation, let's check the model against the test set. We again create the data required for this using the `flow` method on our `FullBatchNodeGenerator` from above, and can use the model's `evaluate` method to compute the metric values for the trained model.\n",
        "\n",
        "As expected, the model performs similarly on the validation set during training and on the test set here."
      ]
    },
    {
      "cell_type": "code",
      "execution_count": null,
      "metadata": {
        "id": "029NXdnkVvNJ"
      },
      "outputs": [],
      "source": [
        "test_gen = generator.flow(test_subjects.index, test_targets)"
      ]
    },
    {
      "cell_type": "code",
      "execution_count": null,
      "metadata": {
        "id": "cfyBhDdAVvNJ",
        "outputId": "f57678ce-a992-4cb8-bf14-5f64d5fab9bb",
        "colab": {
          "base_uri": "https://localhost:8080/"
        }
      },
      "outputs": [
        {
          "output_type": "stream",
          "name": "stdout",
          "text": [
            "1/1 [==============================] - 0s 62ms/step - loss: 0.7918 - acc: 0.8008\n",
            "\n",
            "Test Set Metrics:\n",
            "\tloss: 0.7918\n",
            "\tacc: 0.8008\n"
          ]
        }
      ],
      "source": [
        "test_metrics = model.evaluate(test_gen)\n",
        "print(\"\\nTest Set Metrics:\")\n",
        "for name, val in zip(model.metrics_names, test_metrics):\n",
        "    print(\"\\t{}: {:0.4f}\".format(name, val))"
      ]
    },
    {
      "cell_type": "markdown",
      "metadata": {
        "id": "UF9EHEH3VvNK"
      },
      "source": [
        "### Making predictions with the model"
      ]
    },
    {
      "cell_type": "code",
      "execution_count": null,
      "metadata": {
        "id": "iMpqNM2vVvNL",
        "colab": {
          "base_uri": "https://localhost:8080/"
        },
        "outputId": "e5c8f251-27b3-47c0-e94e-fb432f5e2cc0"
      },
      "outputs": [
        {
          "output_type": "stream",
          "name": "stdout",
          "text": [
            "1/1 [==============================] - 0s 129ms/step\n"
          ]
        }
      ],
      "source": [
        "all_nodes = node_subjects.index\n",
        "all_gen = generator.flow(all_nodes)\n",
        "all_predictions = model.predict(all_gen)"
      ]
    },
    {
      "cell_type": "markdown",
      "metadata": {
        "id": "rVW-3czeVvNL"
      },
      "source": [
        "These predictions will be the output of the softmax layer, so to get final categories we'll use the `inverse_transform` method of our target attribute specification to turn these values back to the original categories."
      ]
    },
    {
      "cell_type": "code",
      "execution_count": null,
      "metadata": {
        "id": "k-_2cU12VvNL"
      },
      "outputs": [],
      "source": [
        "node_predictions = target_encoding.inverse_transform(all_predictions.squeeze())"
      ]
    },
    {
      "cell_type": "markdown",
      "metadata": {
        "id": "1NCoOsciVvNM"
      },
      "source": [
        "Let's have a look at a few predictions after training the model:"
      ]
    },
    {
      "cell_type": "code",
      "execution_count": null,
      "metadata": {
        "id": "4DGImMDnVvNM",
        "outputId": "cc487208-c5d3-4356-ca61-06bd7d84c31a",
        "colab": {
          "base_uri": "https://localhost:8080/",
          "height": 677
        }
      },
      "outputs": [
        {
          "output_type": "execute_result",
          "data": {
            "text/plain": [
              "                      Predicted                    True\n",
              "31336           Neural_Networks         Neural_Networks\n",
              "1061127           Rule_Learning           Rule_Learning\n",
              "1106406  Reinforcement_Learning  Reinforcement_Learning\n",
              "13195    Reinforcement_Learning  Reinforcement_Learning\n",
              "37879     Probabilistic_Methods   Probabilistic_Methods\n",
              "1126012   Probabilistic_Methods   Probabilistic_Methods\n",
              "1107140  Reinforcement_Learning                  Theory\n",
              "1102850         Neural_Networks         Neural_Networks\n",
              "31349           Neural_Networks         Neural_Networks\n",
              "1106418                  Theory                  Theory\n",
              "1123188         Neural_Networks         Neural_Networks\n",
              "1128990      Genetic_Algorithms      Genetic_Algorithms\n",
              "109323    Probabilistic_Methods   Probabilistic_Methods\n",
              "217139                   Theory              Case_Based\n",
              "31353           Neural_Networks         Neural_Networks\n",
              "32083           Neural_Networks         Neural_Networks\n",
              "1126029  Reinforcement_Learning  Reinforcement_Learning\n",
              "1118017         Neural_Networks         Neural_Networks\n",
              "49482           Neural_Networks         Neural_Networks\n",
              "753265                   Theory         Neural_Networks"
            ],
            "text/html": [
              "\n",
              "  <div id=\"df-cb7b057b-76a7-4ae5-a216-09da09a673a9\">\n",
              "    <div class=\"colab-df-container\">\n",
              "      <div>\n",
              "<style scoped>\n",
              "    .dataframe tbody tr th:only-of-type {\n",
              "        vertical-align: middle;\n",
              "    }\n",
              "\n",
              "    .dataframe tbody tr th {\n",
              "        vertical-align: top;\n",
              "    }\n",
              "\n",
              "    .dataframe thead th {\n",
              "        text-align: right;\n",
              "    }\n",
              "</style>\n",
              "<table border=\"1\" class=\"dataframe\">\n",
              "  <thead>\n",
              "    <tr style=\"text-align: right;\">\n",
              "      <th></th>\n",
              "      <th>Predicted</th>\n",
              "      <th>True</th>\n",
              "    </tr>\n",
              "  </thead>\n",
              "  <tbody>\n",
              "    <tr>\n",
              "      <th>31336</th>\n",
              "      <td>Neural_Networks</td>\n",
              "      <td>Neural_Networks</td>\n",
              "    </tr>\n",
              "    <tr>\n",
              "      <th>1061127</th>\n",
              "      <td>Rule_Learning</td>\n",
              "      <td>Rule_Learning</td>\n",
              "    </tr>\n",
              "    <tr>\n",
              "      <th>1106406</th>\n",
              "      <td>Reinforcement_Learning</td>\n",
              "      <td>Reinforcement_Learning</td>\n",
              "    </tr>\n",
              "    <tr>\n",
              "      <th>13195</th>\n",
              "      <td>Reinforcement_Learning</td>\n",
              "      <td>Reinforcement_Learning</td>\n",
              "    </tr>\n",
              "    <tr>\n",
              "      <th>37879</th>\n",
              "      <td>Probabilistic_Methods</td>\n",
              "      <td>Probabilistic_Methods</td>\n",
              "    </tr>\n",
              "    <tr>\n",
              "      <th>1126012</th>\n",
              "      <td>Probabilistic_Methods</td>\n",
              "      <td>Probabilistic_Methods</td>\n",
              "    </tr>\n",
              "    <tr>\n",
              "      <th>1107140</th>\n",
              "      <td>Reinforcement_Learning</td>\n",
              "      <td>Theory</td>\n",
              "    </tr>\n",
              "    <tr>\n",
              "      <th>1102850</th>\n",
              "      <td>Neural_Networks</td>\n",
              "      <td>Neural_Networks</td>\n",
              "    </tr>\n",
              "    <tr>\n",
              "      <th>31349</th>\n",
              "      <td>Neural_Networks</td>\n",
              "      <td>Neural_Networks</td>\n",
              "    </tr>\n",
              "    <tr>\n",
              "      <th>1106418</th>\n",
              "      <td>Theory</td>\n",
              "      <td>Theory</td>\n",
              "    </tr>\n",
              "    <tr>\n",
              "      <th>1123188</th>\n",
              "      <td>Neural_Networks</td>\n",
              "      <td>Neural_Networks</td>\n",
              "    </tr>\n",
              "    <tr>\n",
              "      <th>1128990</th>\n",
              "      <td>Genetic_Algorithms</td>\n",
              "      <td>Genetic_Algorithms</td>\n",
              "    </tr>\n",
              "    <tr>\n",
              "      <th>109323</th>\n",
              "      <td>Probabilistic_Methods</td>\n",
              "      <td>Probabilistic_Methods</td>\n",
              "    </tr>\n",
              "    <tr>\n",
              "      <th>217139</th>\n",
              "      <td>Theory</td>\n",
              "      <td>Case_Based</td>\n",
              "    </tr>\n",
              "    <tr>\n",
              "      <th>31353</th>\n",
              "      <td>Neural_Networks</td>\n",
              "      <td>Neural_Networks</td>\n",
              "    </tr>\n",
              "    <tr>\n",
              "      <th>32083</th>\n",
              "      <td>Neural_Networks</td>\n",
              "      <td>Neural_Networks</td>\n",
              "    </tr>\n",
              "    <tr>\n",
              "      <th>1126029</th>\n",
              "      <td>Reinforcement_Learning</td>\n",
              "      <td>Reinforcement_Learning</td>\n",
              "    </tr>\n",
              "    <tr>\n",
              "      <th>1118017</th>\n",
              "      <td>Neural_Networks</td>\n",
              "      <td>Neural_Networks</td>\n",
              "    </tr>\n",
              "    <tr>\n",
              "      <th>49482</th>\n",
              "      <td>Neural_Networks</td>\n",
              "      <td>Neural_Networks</td>\n",
              "    </tr>\n",
              "    <tr>\n",
              "      <th>753265</th>\n",
              "      <td>Theory</td>\n",
              "      <td>Neural_Networks</td>\n",
              "    </tr>\n",
              "  </tbody>\n",
              "</table>\n",
              "</div>\n",
              "      <button class=\"colab-df-convert\" onclick=\"convertToInteractive('df-cb7b057b-76a7-4ae5-a216-09da09a673a9')\"\n",
              "              title=\"Convert this dataframe to an interactive table.\"\n",
              "              style=\"display:none;\">\n",
              "        \n",
              "  <svg xmlns=\"http://www.w3.org/2000/svg\" height=\"24px\"viewBox=\"0 0 24 24\"\n",
              "       width=\"24px\">\n",
              "    <path d=\"M0 0h24v24H0V0z\" fill=\"none\"/>\n",
              "    <path d=\"M18.56 5.44l.94 2.06.94-2.06 2.06-.94-2.06-.94-.94-2.06-.94 2.06-2.06.94zm-11 1L8.5 8.5l.94-2.06 2.06-.94-2.06-.94L8.5 2.5l-.94 2.06-2.06.94zm10 10l.94 2.06.94-2.06 2.06-.94-2.06-.94-.94-2.06-.94 2.06-2.06.94z\"/><path d=\"M17.41 7.96l-1.37-1.37c-.4-.4-.92-.59-1.43-.59-.52 0-1.04.2-1.43.59L10.3 9.45l-7.72 7.72c-.78.78-.78 2.05 0 2.83L4 21.41c.39.39.9.59 1.41.59.51 0 1.02-.2 1.41-.59l7.78-7.78 2.81-2.81c.8-.78.8-2.07 0-2.86zM5.41 20L4 18.59l7.72-7.72 1.47 1.35L5.41 20z\"/>\n",
              "  </svg>\n",
              "      </button>\n",
              "      \n",
              "  <style>\n",
              "    .colab-df-container {\n",
              "      display:flex;\n",
              "      flex-wrap:wrap;\n",
              "      gap: 12px;\n",
              "    }\n",
              "\n",
              "    .colab-df-convert {\n",
              "      background-color: #E8F0FE;\n",
              "      border: none;\n",
              "      border-radius: 50%;\n",
              "      cursor: pointer;\n",
              "      display: none;\n",
              "      fill: #1967D2;\n",
              "      height: 32px;\n",
              "      padding: 0 0 0 0;\n",
              "      width: 32px;\n",
              "    }\n",
              "\n",
              "    .colab-df-convert:hover {\n",
              "      background-color: #E2EBFA;\n",
              "      box-shadow: 0px 1px 2px rgba(60, 64, 67, 0.3), 0px 1px 3px 1px rgba(60, 64, 67, 0.15);\n",
              "      fill: #174EA6;\n",
              "    }\n",
              "\n",
              "    [theme=dark] .colab-df-convert {\n",
              "      background-color: #3B4455;\n",
              "      fill: #D2E3FC;\n",
              "    }\n",
              "\n",
              "    [theme=dark] .colab-df-convert:hover {\n",
              "      background-color: #434B5C;\n",
              "      box-shadow: 0px 1px 3px 1px rgba(0, 0, 0, 0.15);\n",
              "      filter: drop-shadow(0px 1px 2px rgba(0, 0, 0, 0.3));\n",
              "      fill: #FFFFFF;\n",
              "    }\n",
              "  </style>\n",
              "\n",
              "      <script>\n",
              "        const buttonEl =\n",
              "          document.querySelector('#df-cb7b057b-76a7-4ae5-a216-09da09a673a9 button.colab-df-convert');\n",
              "        buttonEl.style.display =\n",
              "          google.colab.kernel.accessAllowed ? 'block' : 'none';\n",
              "\n",
              "        async function convertToInteractive(key) {\n",
              "          const element = document.querySelector('#df-cb7b057b-76a7-4ae5-a216-09da09a673a9');\n",
              "          const dataTable =\n",
              "            await google.colab.kernel.invokeFunction('convertToInteractive',\n",
              "                                                     [key], {});\n",
              "          if (!dataTable) return;\n",
              "\n",
              "          const docLinkHtml = 'Like what you see? Visit the ' +\n",
              "            '<a target=\"_blank\" href=https://colab.research.google.com/notebooks/data_table.ipynb>data table notebook</a>'\n",
              "            + ' to learn more about interactive tables.';\n",
              "          element.innerHTML = '';\n",
              "          dataTable['output_type'] = 'display_data';\n",
              "          await google.colab.output.renderOutput(dataTable, element);\n",
              "          const docLink = document.createElement('div');\n",
              "          docLink.innerHTML = docLinkHtml;\n",
              "          element.appendChild(docLink);\n",
              "        }\n",
              "      </script>\n",
              "    </div>\n",
              "  </div>\n",
              "  "
            ]
          },
          "metadata": {},
          "execution_count": 81
        }
      ],
      "source": [
        "df = pd.DataFrame({\"Predicted\": node_predictions, \"True\": node_subjects})\n",
        "df.head(20)"
      ]
    },
    {
      "cell_type": "markdown",
      "metadata": {
        "id": "EMpBxmKwVvNS"
      },
      "source": [
        "## Conclusion\n",
        "\n",
        "This notebook gave an example using the GCN algorithm to predict the class of nodes. Specifically, the subject of an academic paper in the Cora dataset. Our model used:\n",
        "\n",
        "- the graph structure of the dataset, in the form of citation links between papers\n",
        "- the 1433-dimensional feature vectors associated with each paper\n",
        "\n",
        "This notebook ran through the following steps:\n",
        "\n",
        "1. prepared the data using common data science libraries\n",
        "2. built a TensorFlow Keras model and data generator with [the StellarGraph library](https://github.com/stellargraph/stellargraph) \n",
        "3. trained and evaluated it using TensorFlow and other libraries"
      ]
    },
    {
      "cell_type": "markdown",
      "source": [
        "#Node classification with Graph ATention Network (GAT)"
      ],
      "metadata": {
        "id": "Fr7Wrctcb1kX"
      }
    },
    {
      "cell_type": "markdown",
      "source": [
        "Install NetworkX & stellar"
      ],
      "metadata": {
        "id": "aSM9t3vocZpx"
      }
    },
    {
      "cell_type": "code",
      "source": [
        "# install StellarGraph if running on Google Colab\n",
        "import sys\n",
        "if 'google.colab' in sys.modules:\n",
        "  %pip install -q stellargraph[demos]==1.2.1"
      ],
      "metadata": {
        "id": "mBexANBvcl09"
      },
      "execution_count": null,
      "outputs": []
    },
    {
      "cell_type": "code",
      "source": [
        "# verify that we're using the correct version of StellarGraph for this notebook\n",
        "import stellargraph as sg\n",
        "\n",
        "try:\n",
        "    sg.utils.validate_notebook_version(\"1.2.1\")\n",
        "except AttributeError:\n",
        "    raise ValueError(\n",
        "        f\"This notebook requires StellarGraph version 1.2.1, but a different version {sg.__version__} is installed.  Please see <https://github.com/stellargraph/stellargraph/issues/1172>.\"\n",
        "    ) from None"
      ],
      "metadata": {
        "id": "6LjH7P5hcmo8"
      },
      "execution_count": null,
      "outputs": []
    },
    {
      "cell_type": "markdown",
      "source": [
        "## Importing Libraries"
      ],
      "metadata": {
        "id": "ZSlQ5ch3cs8R"
      }
    },
    {
      "cell_type": "code",
      "source": [
        "import networkx as nx\n",
        "import pandas as pd\n",
        "import os\n",
        "\n",
        "import stellargraph as sg\n",
        "from stellargraph.mapper import FullBatchNodeGenerator\n",
        "from stellargraph.layer import GAT\n",
        "\n",
        "from tensorflow.keras import layers, optimizers, losses, metrics, Model\n",
        "from sklearn import preprocessing, feature_extraction, model_selection\n",
        "from stellargraph import datasets\n",
        "from IPython.display import display, HTML\n",
        "import matplotlib.pyplot as plt\n",
        "%matplotlib inline"
      ],
      "metadata": {
        "id": "EK1ZeNkXcmmd"
      },
      "execution_count": null,
      "outputs": []
    },
    {
      "cell_type": "markdown",
      "source": [
        "## Loading the CORA network"
      ],
      "metadata": {
        "id": "a1lIwJM2czFo"
      }
    },
    {
      "cell_type": "code",
      "source": [
        "dataset = datasets.Cora()\n",
        "display(HTML(dataset.description))\n",
        "G, node_subjects = dataset.load()"
      ],
      "metadata": {
        "colab": {
          "base_uri": "https://localhost:8080/",
          "height": 52
        },
        "id": "XYF7omkvcmjw",
        "outputId": "ab955c43-b3f3-4e59-9b32-4bcf0f6e8292"
      },
      "execution_count": null,
      "outputs": [
        {
          "output_type": "display_data",
          "data": {
            "text/plain": [
              "<IPython.core.display.HTML object>"
            ],
            "text/html": [
              "The Cora dataset consists of 2708 scientific publications classified into one of seven classes. The citation network consists of 5429 links. Each publication in the dataset is described by a 0/1-valued word vector indicating the absence/presence of the corresponding word from the dictionary. The dictionary consists of 1433 unique words."
            ]
          },
          "metadata": {}
        }
      ]
    },
    {
      "cell_type": "code",
      "source": [
        "print(G.info())"
      ],
      "metadata": {
        "colab": {
          "base_uri": "https://localhost:8080/"
        },
        "id": "aAV28dPqcmhL",
        "outputId": "0db18b50-4c70-44e8-f84f-a7e2fe60bcf8"
      },
      "execution_count": null,
      "outputs": [
        {
          "output_type": "stream",
          "name": "stdout",
          "text": [
            "StellarGraph: Undirected multigraph\n",
            " Nodes: 2708, Edges: 5429\n",
            "\n",
            " Node types:\n",
            "  paper: [2708]\n",
            "    Features: float32 vector, length 1433\n",
            "    Edge types: paper-cites->paper\n",
            "\n",
            " Edge types:\n",
            "    paper-cites->paper: [5429]\n",
            "        Weights: all 1 (default)\n",
            "        Features: none\n"
          ]
        }
      ]
    },
    {
      "cell_type": "markdown",
      "source": [
        "We aim to train a graph-ML model that will predict the \"subject\" attribute on the nodes. These subjects are one of 7 categories:"
      ],
      "metadata": {
        "id": "6dBrA7usc-Ql"
      }
    },
    {
      "cell_type": "code",
      "source": [
        "set(node_subjects)"
      ],
      "metadata": {
        "colab": {
          "base_uri": "https://localhost:8080/"
        },
        "id": "d9u_APeTcmem",
        "outputId": "6fc9fbc4-174f-4078-eb94-6caeb25db914"
      },
      "execution_count": null,
      "outputs": [
        {
          "output_type": "execute_result",
          "data": {
            "text/plain": [
              "{'Case_Based',\n",
              " 'Genetic_Algorithms',\n",
              " 'Neural_Networks',\n",
              " 'Probabilistic_Methods',\n",
              " 'Reinforcement_Learning',\n",
              " 'Rule_Learning',\n",
              " 'Theory'}"
            ]
          },
          "metadata": {},
          "execution_count": 87
        }
      ]
    },
    {
      "cell_type": "markdown",
      "source": [
        "### Splitting the data\n",
        "\n",
        "\n",
        "---\n",
        "For machine learning we want to take a subset of the nodes for training, and use the rest for validation and testing. We'll use scikit-learn again to do this.\n",
        "\n",
        "Here we're taking 140 node labels for training, 500 for validation, and the rest for testing.\n"
      ],
      "metadata": {
        "id": "UsxJNSK1dFd6"
      }
    },
    {
      "cell_type": "code",
      "source": [
        "train_subjects, test_subjects = model_selection.train_test_split(\n",
        "    node_subjects, train_size=140, test_size=None, stratify=node_subjects\n",
        ")\n",
        "val_subjects, test_subjects = model_selection.train_test_split(\n",
        "    test_subjects, train_size=500, test_size=None, stratify=test_subjects\n",
        ")"
      ],
      "metadata": {
        "id": "45MrMfQGcmcD"
      },
      "execution_count": null,
      "outputs": []
    },
    {
      "cell_type": "markdown",
      "source": [
        "Note using stratified sampling gives the following counts:"
      ],
      "metadata": {
        "id": "rpsrsFLsdN7Z"
      }
    },
    {
      "cell_type": "code",
      "source": [
        "from collections import Counter\n",
        "\n",
        "Counter(train_subjects)"
      ],
      "metadata": {
        "colab": {
          "base_uri": "https://localhost:8080/"
        },
        "id": "okpIohMkcmZS",
        "outputId": "7c7721f7-c607-4b1f-ae6a-bc5a4fa5c070"
      },
      "execution_count": null,
      "outputs": [
        {
          "output_type": "execute_result",
          "data": {
            "text/plain": [
              "Counter({'Neural_Networks': 42,\n",
              "         'Probabilistic_Methods': 22,\n",
              "         'Reinforcement_Learning': 11,\n",
              "         'Theory': 18,\n",
              "         'Case_Based': 16,\n",
              "         'Rule_Learning': 9,\n",
              "         'Genetic_Algorithms': 22})"
            ]
          },
          "metadata": {},
          "execution_count": 89
        }
      ]
    },
    {
      "cell_type": "markdown",
      "source": [
        "### Converting to numeric arrays\n",
        "\n",
        "\n",
        "---\n",
        "\n",
        "For our categorical target, we will use one-hot vectors that will be fed into a soft-max Keras layer during training. To do this conversion ..."
      ],
      "metadata": {
        "id": "u8J_z-TMdVxU"
      }
    },
    {
      "cell_type": "code",
      "source": [
        "target_encoding = preprocessing.LabelBinarizer()\n",
        "\n",
        "train_targets = target_encoding.fit_transform(train_subjects)\n",
        "val_targets = target_encoding.transform(val_subjects)\n",
        "test_targets = target_encoding.transform(test_subjects)"
      ],
      "metadata": {
        "id": "XV2B-nYXcmWp"
      },
      "execution_count": null,
      "outputs": []
    },
    {
      "cell_type": "markdown",
      "source": [
        "## Creating the GAT model in Keras\n",
        "\n",
        "---\n",
        "\n",
        "\n",
        "To feed data from the graph to the Keras model we need a generator. Since GAT is a full-batch model, we use the FullBatchNodeGenerator class to feed node features and graph adjacency matrix to the model."
      ],
      "metadata": {
        "id": "knwMQtFEdgmf"
      }
    },
    {
      "cell_type": "code",
      "source": [
        "generator = FullBatchNodeGenerator(G, method=\"gat\")"
      ],
      "metadata": {
        "id": "3Tuz4nPHcmUa"
      },
      "execution_count": null,
      "outputs": []
    },
    {
      "cell_type": "code",
      "source": [
        "train_gen = generator.flow(train_subjects.index, train_targets)"
      ],
      "metadata": {
        "id": "iQJbacHqcmR3"
      },
      "execution_count": null,
      "outputs": []
    },
    {
      "cell_type": "code",
      "source": [
        "gat = GAT(\n",
        "    layer_sizes=[8, train_targets.shape[1]],\n",
        "    activations=[\"elu\", \"softmax\"],\n",
        "    attn_heads=8,\n",
        "    generator=generator,\n",
        "    in_dropout=0.5,\n",
        "    attn_dropout=0.5,\n",
        "    normalize=None,\n",
        ")"
      ],
      "metadata": {
        "id": "GMnlfs50dtMA"
      },
      "execution_count": null,
      "outputs": []
    },
    {
      "cell_type": "markdown",
      "source": [
        "Expose the input and output tensors of the GAT model for node prediction, via GAT.in_out_tensors() method:"
      ],
      "metadata": {
        "id": "an8aINthd0_Q"
      }
    },
    {
      "cell_type": "code",
      "source": [
        "x_inp, predictions = gat.in_out_tensors()"
      ],
      "metadata": {
        "id": "KDV_Y_TsdtJE"
      },
      "execution_count": null,
      "outputs": []
    },
    {
      "cell_type": "markdown",
      "source": [
        "### Training the model"
      ],
      "metadata": {
        "id": "HnVLldmJd5e6"
      }
    },
    {
      "cell_type": "code",
      "source": [
        "model = Model(inputs=x_inp, outputs=predictions)\n",
        "model.compile(\n",
        "    optimizer=optimizers.Adam(lr=0.005),\n",
        "    loss=losses.categorical_crossentropy,\n",
        "    metrics=[\"acc\"],\n",
        ")"
      ],
      "metadata": {
        "colab": {
          "base_uri": "https://localhost:8080/"
        },
        "id": "a8xXqBa5d0Bs",
        "outputId": "8eca9a0d-11a0-4dd7-db36-d50083adf807"
      },
      "execution_count": null,
      "outputs": [
        {
          "output_type": "stream",
          "name": "stderr",
          "text": [
            "/usr/local/lib/python3.7/dist-packages/keras/optimizers/optimizer_v2/adam.py:110: UserWarning: The `lr` argument is deprecated, use `learning_rate` instead.\n",
            "  super(Adam, self).__init__(name, **kwargs)\n"
          ]
        }
      ]
    },
    {
      "cell_type": "code",
      "source": [
        "val_gen = generator.flow(val_subjects.index, val_targets)"
      ],
      "metadata": {
        "id": "hbcH27FwdtGD"
      },
      "execution_count": null,
      "outputs": []
    },
    {
      "cell_type": "code",
      "source": [
        "from tensorflow.keras.callbacks import EarlyStopping, ModelCheckpoint\n",
        "\n",
        "if not os.path.isdir(\"logs\"):\n",
        "    os.makedirs(\"logs\")\n",
        "es_callback = EarlyStopping(\n",
        "    monitor=\"val_acc\", patience=20\n",
        ")  # patience is the number of epochs to wait before early stopping in case of no further improvement\n",
        "mc_callback = ModelCheckpoint(\n",
        "    \"logs/best_model.h5\", monitor=\"val_acc\", save_best_only=True, save_weights_only=True\n",
        ")"
      ],
      "metadata": {
        "id": "BvRNhwMadtDE"
      },
      "execution_count": null,
      "outputs": []
    },
    {
      "cell_type": "code",
      "source": [
        "history = model.fit(\n",
        "    train_gen,\n",
        "    epochs=50,\n",
        "    validation_data=val_gen,\n",
        "    verbose=2,\n",
        "    shuffle=False,  # this should be False, since shuffling data means shuffling the whole graph\n",
        "    callbacks=[es_callback, mc_callback],\n",
        ")"
      ],
      "metadata": {
        "colab": {
          "base_uri": "https://localhost:8080/"
        },
        "id": "wAdEVw27eFl9",
        "outputId": "0b1c2e9c-96d5-4beb-9dae-1cbf35f2c40d"
      },
      "execution_count": null,
      "outputs": [
        {
          "output_type": "stream",
          "name": "stdout",
          "text": [
            "Epoch 1/50\n",
            "1/1 - 4s - loss: 2.0087 - acc: 0.2000 - val_loss: 1.8437 - val_acc: 0.3360 - 4s/epoch - 4s/step\n",
            "Epoch 2/50\n",
            "1/1 - 0s - loss: 1.8660 - acc: 0.3000 - val_loss: 1.7405 - val_acc: 0.4240 - 457ms/epoch - 457ms/step\n",
            "Epoch 3/50\n",
            "1/1 - 0s - loss: 1.7191 - acc: 0.3857 - val_loss: 1.6461 - val_acc: 0.4360 - 361ms/epoch - 361ms/step\n",
            "Epoch 4/50\n",
            "1/1 - 0s - loss: 1.6048 - acc: 0.5357 - val_loss: 1.5622 - val_acc: 0.4480 - 442ms/epoch - 442ms/step\n",
            "Epoch 5/50\n",
            "1/1 - 0s - loss: 1.5613 - acc: 0.4357 - val_loss: 1.4895 - val_acc: 0.4720 - 239ms/epoch - 239ms/step\n",
            "Epoch 6/50\n",
            "1/1 - 0s - loss: 1.4446 - acc: 0.5500 - val_loss: 1.4232 - val_acc: 0.5200 - 286ms/epoch - 286ms/step\n",
            "Epoch 7/50\n",
            "1/1 - 0s - loss: 1.4040 - acc: 0.5286 - val_loss: 1.3611 - val_acc: 0.5600 - 247ms/epoch - 247ms/step\n",
            "Epoch 8/50\n",
            "1/1 - 0s - loss: 1.3472 - acc: 0.5643 - val_loss: 1.3016 - val_acc: 0.6120 - 244ms/epoch - 244ms/step\n",
            "Epoch 9/50\n",
            "1/1 - 0s - loss: 1.2884 - acc: 0.6357 - val_loss: 1.2449 - val_acc: 0.6640 - 285ms/epoch - 285ms/step\n",
            "Epoch 10/50\n",
            "1/1 - 0s - loss: 1.1498 - acc: 0.6643 - val_loss: 1.1920 - val_acc: 0.7100 - 318ms/epoch - 318ms/step\n",
            "Epoch 11/50\n",
            "1/1 - 0s - loss: 1.1062 - acc: 0.6571 - val_loss: 1.1427 - val_acc: 0.7340 - 218ms/epoch - 218ms/step\n",
            "Epoch 12/50\n",
            "1/1 - 0s - loss: 1.0508 - acc: 0.7357 - val_loss: 1.0962 - val_acc: 0.7560 - 216ms/epoch - 216ms/step\n",
            "Epoch 13/50\n",
            "1/1 - 0s - loss: 0.9278 - acc: 0.8286 - val_loss: 1.0517 - val_acc: 0.7740 - 263ms/epoch - 263ms/step\n",
            "Epoch 14/50\n",
            "1/1 - 0s - loss: 1.0196 - acc: 0.7357 - val_loss: 1.0098 - val_acc: 0.7860 - 265ms/epoch - 265ms/step\n",
            "Epoch 15/50\n",
            "1/1 - 0s - loss: 0.9251 - acc: 0.7643 - val_loss: 0.9723 - val_acc: 0.7920 - 368ms/epoch - 368ms/step\n",
            "Epoch 16/50\n",
            "1/1 - 0s - loss: 0.8578 - acc: 0.8000 - val_loss: 0.9378 - val_acc: 0.8000 - 242ms/epoch - 242ms/step\n",
            "Epoch 17/50\n",
            "1/1 - 0s - loss: 0.8050 - acc: 0.8286 - val_loss: 0.9047 - val_acc: 0.8080 - 246ms/epoch - 246ms/step\n",
            "Epoch 18/50\n",
            "1/1 - 0s - loss: 0.8125 - acc: 0.7857 - val_loss: 0.8726 - val_acc: 0.8200 - 227ms/epoch - 227ms/step\n",
            "Epoch 19/50\n",
            "1/1 - 0s - loss: 0.7343 - acc: 0.8857 - val_loss: 0.8422 - val_acc: 0.8200 - 212ms/epoch - 212ms/step\n",
            "Epoch 20/50\n",
            "1/1 - 0s - loss: 0.7330 - acc: 0.8214 - val_loss: 0.8141 - val_acc: 0.8220 - 222ms/epoch - 222ms/step\n",
            "Epoch 21/50\n",
            "1/1 - 0s - loss: 0.8172 - acc: 0.7857 - val_loss: 0.7893 - val_acc: 0.8260 - 296ms/epoch - 296ms/step\n",
            "Epoch 22/50\n",
            "1/1 - 0s - loss: 0.6216 - acc: 0.9143 - val_loss: 0.7664 - val_acc: 0.8280 - 252ms/epoch - 252ms/step\n",
            "Epoch 23/50\n",
            "1/1 - 0s - loss: 0.7497 - acc: 0.8214 - val_loss: 0.7464 - val_acc: 0.8340 - 229ms/epoch - 229ms/step\n",
            "Epoch 24/50\n",
            "1/1 - 0s - loss: 0.6762 - acc: 0.8000 - val_loss: 0.7285 - val_acc: 0.8280 - 235ms/epoch - 235ms/step\n",
            "Epoch 25/50\n",
            "1/1 - 0s - loss: 0.5896 - acc: 0.8500 - val_loss: 0.7127 - val_acc: 0.8300 - 206ms/epoch - 206ms/step\n",
            "Epoch 26/50\n",
            "1/1 - 0s - loss: 0.6923 - acc: 0.8286 - val_loss: 0.6992 - val_acc: 0.8280 - 246ms/epoch - 246ms/step\n",
            "Epoch 27/50\n",
            "1/1 - 0s - loss: 0.6494 - acc: 0.8071 - val_loss: 0.6872 - val_acc: 0.8340 - 196ms/epoch - 196ms/step\n",
            "Epoch 28/50\n",
            "1/1 - 0s - loss: 0.5558 - acc: 0.8714 - val_loss: 0.6767 - val_acc: 0.8360 - 320ms/epoch - 320ms/step\n",
            "Epoch 29/50\n",
            "1/1 - 0s - loss: 0.5660 - acc: 0.8500 - val_loss: 0.6677 - val_acc: 0.8360 - 221ms/epoch - 221ms/step\n",
            "Epoch 30/50\n",
            "1/1 - 0s - loss: 0.6435 - acc: 0.8286 - val_loss: 0.6599 - val_acc: 0.8340 - 149ms/epoch - 149ms/step\n",
            "Epoch 31/50\n",
            "1/1 - 0s - loss: 0.5930 - acc: 0.8643 - val_loss: 0.6530 - val_acc: 0.8360 - 153ms/epoch - 153ms/step\n",
            "Epoch 32/50\n",
            "1/1 - 0s - loss: 0.5217 - acc: 0.8643 - val_loss: 0.6465 - val_acc: 0.8360 - 160ms/epoch - 160ms/step\n",
            "Epoch 33/50\n",
            "1/1 - 0s - loss: 0.5229 - acc: 0.8857 - val_loss: 0.6399 - val_acc: 0.8340 - 160ms/epoch - 160ms/step\n",
            "Epoch 34/50\n",
            "1/1 - 0s - loss: 0.4842 - acc: 0.9000 - val_loss: 0.6335 - val_acc: 0.8280 - 176ms/epoch - 176ms/step\n",
            "Epoch 35/50\n",
            "1/1 - 0s - loss: 0.4973 - acc: 0.8714 - val_loss: 0.6276 - val_acc: 0.8260 - 178ms/epoch - 178ms/step\n",
            "Epoch 36/50\n",
            "1/1 - 0s - loss: 0.4769 - acc: 0.9000 - val_loss: 0.6224 - val_acc: 0.8260 - 259ms/epoch - 259ms/step\n",
            "Epoch 37/50\n",
            "1/1 - 0s - loss: 0.4491 - acc: 0.9286 - val_loss: 0.6177 - val_acc: 0.8280 - 152ms/epoch - 152ms/step\n",
            "Epoch 38/50\n",
            "1/1 - 0s - loss: 0.5185 - acc: 0.9000 - val_loss: 0.6133 - val_acc: 0.8320 - 249ms/epoch - 249ms/step\n",
            "Epoch 39/50\n",
            "1/1 - 0s - loss: 0.5263 - acc: 0.8643 - val_loss: 0.6098 - val_acc: 0.8320 - 291ms/epoch - 291ms/step\n",
            "Epoch 40/50\n",
            "1/1 - 0s - loss: 0.4658 - acc: 0.9000 - val_loss: 0.6069 - val_acc: 0.8300 - 291ms/epoch - 291ms/step\n",
            "Epoch 41/50\n",
            "1/1 - 0s - loss: 0.4125 - acc: 0.9071 - val_loss: 0.6044 - val_acc: 0.8280 - 303ms/epoch - 303ms/step\n",
            "Epoch 42/50\n",
            "1/1 - 0s - loss: 0.4329 - acc: 0.9071 - val_loss: 0.6027 - val_acc: 0.8280 - 288ms/epoch - 288ms/step\n",
            "Epoch 43/50\n",
            "1/1 - 0s - loss: 0.4913 - acc: 0.9000 - val_loss: 0.6010 - val_acc: 0.8260 - 266ms/epoch - 266ms/step\n",
            "Epoch 44/50\n",
            "1/1 - 0s - loss: 0.3544 - acc: 0.9000 - val_loss: 0.5989 - val_acc: 0.8260 - 253ms/epoch - 253ms/step\n",
            "Epoch 45/50\n",
            "1/1 - 0s - loss: 0.4229 - acc: 0.8786 - val_loss: 0.5959 - val_acc: 0.8260 - 317ms/epoch - 317ms/step\n",
            "Epoch 46/50\n",
            "1/1 - 0s - loss: 0.3962 - acc: 0.9000 - val_loss: 0.5918 - val_acc: 0.8220 - 346ms/epoch - 346ms/step\n",
            "Epoch 47/50\n",
            "1/1 - 0s - loss: 0.5195 - acc: 0.8643 - val_loss: 0.5881 - val_acc: 0.8200 - 339ms/epoch - 339ms/step\n",
            "Epoch 48/50\n",
            "1/1 - 0s - loss: 0.4248 - acc: 0.8857 - val_loss: 0.5848 - val_acc: 0.8200 - 308ms/epoch - 308ms/step\n"
          ]
        }
      ]
    },
    {
      "cell_type": "markdown",
      "source": [
        "Plot the training history:"
      ],
      "metadata": {
        "id": "rgwu7P_LeLJ_"
      }
    },
    {
      "cell_type": "code",
      "source": [
        "sg.utils.plot_history(history)"
      ],
      "metadata": {
        "colab": {
          "base_uri": "https://localhost:8080/",
          "height": 585
        },
        "id": "thgjjXOweL5W",
        "outputId": "d0def6ba-afdb-4b73-ad2b-012ff94666f4"
      },
      "execution_count": null,
      "outputs": [
        {
          "output_type": "display_data",
          "data": {
            "text/plain": [
              "<Figure size 504x576 with 2 Axes>"
            ],
            "image/png": "[encoded data removed]"
          },
          "metadata": {
            "needs_background": "light"
          }
        }
      ]
    },
    {
      "cell_type": "markdown",
      "source": [
        "Reload the saved weights of the best model found during the training (according to validation accuracy)"
      ],
      "metadata": {
        "id": "8UhWKUXoeQ7A"
      }
    },
    {
      "cell_type": "code",
      "source": [
        "model.load_weights(\"logs/best_model.h5\")"
      ],
      "metadata": {
        "id": "aBUcgj3ieP2d"
      },
      "execution_count": null,
      "outputs": []
    },
    {
      "cell_type": "code",
      "source": [
        "test_gen = generator.flow(test_subjects.index, test_targets)"
      ],
      "metadata": {
        "id": "wv73IcLyeT72"
      },
      "execution_count": null,
      "outputs": []
    },
    {
      "cell_type": "code",
      "source": [
        "test_metrics = model.evaluate(test_gen)\n",
        "print(\"\\nTest Set Metrics:\")\n",
        "for name, val in zip(model.metrics_names, test_metrics):\n",
        "    print(\"\\t{}: {:0.4f}\".format(name, val))"
      ],
      "metadata": {
        "colab": {
          "base_uri": "https://localhost:8080/"
        },
        "id": "QmV_fnN_eYqh",
        "outputId": "6950b47f-7f7b-414d-ebd2-dc223ad04621"
      },
      "execution_count": null,
      "outputs": [
        {
          "output_type": "stream",
          "name": "stdout",
          "text": [
            "1/1 [==============================] - 0s 187ms/step - loss: 0.6993 - acc: 0.8225\n",
            "\n",
            "Test Set Metrics:\n",
            "\tloss: 0.6993\n",
            "\tacc: 0.8225\n"
          ]
        }
      ]
    },
    {
      "cell_type": "markdown",
      "source": [
        "###Making predictions with the model"
      ],
      "metadata": {
        "id": "cAnIf_4RebbT"
      }
    },
    {
      "cell_type": "code",
      "source": [
        "all_nodes = node_subjects.index\n",
        "all_gen = generator.flow(all_nodes)\n",
        "all_predictions = model.predict(all_gen)"
      ],
      "metadata": {
        "colab": {
          "base_uri": "https://localhost:8080/"
        },
        "id": "6XjRoF-geYnu",
        "outputId": "11e52c87-4438-43cc-eda9-5e3ecbf0098b"
      },
      "execution_count": null,
      "outputs": [
        {
          "output_type": "stream",
          "name": "stderr",
          "text": [
            "WARNING:tensorflow:5 out of the last 5 calls to <function Model.make_predict_function.<locals>.predict_function at 0x7fc8744f7050> triggered tf.function retracing. Tracing is expensive and the excessive number of tracings could be due to (1) creating @tf.function repeatedly in a loop, (2) passing tensors with different shapes, (3) passing Python objects instead of tensors. For (1), please define your @tf.function outside of the loop. For (2), @tf.function has reduce_retracing=True option that can avoid unnecessary retracing. For (3), please refer to https://www.tensorflow.org/guide/function#controlling_retracing and https://www.tensorflow.org/api_docs/python/tf/function for  more details.\n"
          ]
        },
        {
          "output_type": "stream",
          "name": "stdout",
          "text": [
            "1/1 [==============================] - 1s 1s/step\n"
          ]
        }
      ]
    },
    {
      "cell_type": "code",
      "source": [
        "node_predictions = target_encoding.inverse_transform(all_predictions.squeeze())"
      ],
      "metadata": {
        "id": "tpFk_2fpeYk9"
      },
      "execution_count": null,
      "outputs": []
    },
    {
      "cell_type": "code",
      "source": [
        "df = pd.DataFrame({\"Predicted\": node_predictions, \"True\": node_subjects})\n",
        "df.head(20)"
      ],
      "metadata": {
        "colab": {
          "base_uri": "https://localhost:8080/",
          "height": 677
        },
        "id": "IcbTg3A1eYiP",
        "outputId": "d8f828f8-e308-4acf-cf51-d48cd94f835e"
      },
      "execution_count": null,
      "outputs": [
        {
          "output_type": "execute_result",
          "data": {
            "text/plain": [
              "                      Predicted                    True\n",
              "31336                    Theory         Neural_Networks\n",
              "1061127           Rule_Learning           Rule_Learning\n",
              "1106406  Reinforcement_Learning  Reinforcement_Learning\n",
              "13195    Reinforcement_Learning  Reinforcement_Learning\n",
              "37879     Probabilistic_Methods   Probabilistic_Methods\n",
              "1126012   Probabilistic_Methods   Probabilistic_Methods\n",
              "1107140  Reinforcement_Learning                  Theory\n",
              "1102850         Neural_Networks         Neural_Networks\n",
              "31349                    Theory         Neural_Networks\n",
              "1106418                  Theory                  Theory\n",
              "1123188         Neural_Networks         Neural_Networks\n",
              "1128990      Genetic_Algorithms      Genetic_Algorithms\n",
              "109323    Probabilistic_Methods   Probabilistic_Methods\n",
              "217139            Rule_Learning              Case_Based\n",
              "31353           Neural_Networks         Neural_Networks\n",
              "32083           Neural_Networks         Neural_Networks\n",
              "1126029  Reinforcement_Learning  Reinforcement_Learning\n",
              "1118017         Neural_Networks         Neural_Networks\n",
              "49482           Neural_Networks         Neural_Networks\n",
              "753265          Neural_Networks         Neural_Networks"
            ],
            "text/html": [
              "\n",
              "  <div id=\"df-e1d34140-2377-4352-bd3b-203ec9a4a8a2\">\n",
              "    <div class=\"colab-df-container\">\n",
              "      <div>\n",
              "<style scoped>\n",
              "    .dataframe tbody tr th:only-of-type {\n",
              "        vertical-align: middle;\n",
              "    }\n",
              "\n",
              "    .dataframe tbody tr th {\n",
              "        vertical-align: top;\n",
              "    }\n",
              "\n",
              "    .dataframe thead th {\n",
              "        text-align: right;\n",
              "    }\n",
              "</style>\n",
              "<table border=\"1\" class=\"dataframe\">\n",
              "  <thead>\n",
              "    <tr style=\"text-align: right;\">\n",
              "      <th></th>\n",
              "      <th>Predicted</th>\n",
              "      <th>True</th>\n",
              "    </tr>\n",
              "  </thead>\n",
              "  <tbody>\n",
              "    <tr>\n",
              "      <th>31336</th>\n",
              "      <td>Theory</td>\n",
              "      <td>Neural_Networks</td>\n",
              "    </tr>\n",
              "    <tr>\n",
              "      <th>1061127</th>\n",
              "      <td>Rule_Learning</td>\n",
              "      <td>Rule_Learning</td>\n",
              "    </tr>\n",
              "    <tr>\n",
              "      <th>1106406</th>\n",
              "      <td>Reinforcement_Learning</td>\n",
              "      <td>Reinforcement_Learning</td>\n",
              "    </tr>\n",
              "    <tr>\n",
              "      <th>13195</th>\n",
              "      <td>Reinforcement_Learning</td>\n",
              "      <td>Reinforcement_Learning</td>\n",
              "    </tr>\n",
              "    <tr>\n",
              "      <th>37879</th>\n",
              "      <td>Probabilistic_Methods</td>\n",
              "      <td>Probabilistic_Methods</td>\n",
              "    </tr>\n",
              "    <tr>\n",
              "      <th>1126012</th>\n",
              "      <td>Probabilistic_Methods</td>\n",
              "      <td>Probabilistic_Methods</td>\n",
              "    </tr>\n",
              "    <tr>\n",
              "      <th>1107140</th>\n",
              "      <td>Reinforcement_Learning</td>\n",
              "      <td>Theory</td>\n",
              "    </tr>\n",
              "    <tr>\n",
              "      <th>1102850</th>\n",
              "      <td>Neural_Networks</td>\n",
              "      <td>Neural_Networks</td>\n",
              "    </tr>\n",
              "    <tr>\n",
              "      <th>31349</th>\n",
              "      <td>Theory</td>\n",
              "      <td>Neural_Networks</td>\n",
              "    </tr>\n",
              "    <tr>\n",
              "      <th>1106418</th>\n",
              "      <td>Theory</td>\n",
              "      <td>Theory</td>\n",
              "    </tr>\n",
              "    <tr>\n",
              "      <th>1123188</th>\n",
              "      <td>Neural_Networks</td>\n",
              "      <td>Neural_Networks</td>\n",
              "    </tr>\n",
              "    <tr>\n",
              "      <th>1128990</th>\n",
              "      <td>Genetic_Algorithms</td>\n",
              "      <td>Genetic_Algorithms</td>\n",
              "    </tr>\n",
              "    <tr>\n",
              "      <th>109323</th>\n",
              "      <td>Probabilistic_Methods</td>\n",
              "      <td>Probabilistic_Methods</td>\n",
              "    </tr>\n",
              "    <tr>\n",
              "      <th>217139</th>\n",
              "      <td>Rule_Learning</td>\n",
              "      <td>Case_Based</td>\n",
              "    </tr>\n",
              "    <tr>\n",
              "      <th>31353</th>\n",
              "      <td>Neural_Networks</td>\n",
              "      <td>Neural_Networks</td>\n",
              "    </tr>\n",
              "    <tr>\n",
              "      <th>32083</th>\n",
              "      <td>Neural_Networks</td>\n",
              "      <td>Neural_Networks</td>\n",
              "    </tr>\n",
              "    <tr>\n",
              "      <th>1126029</th>\n",
              "      <td>Reinforcement_Learning</td>\n",
              "      <td>Reinforcement_Learning</td>\n",
              "    </tr>\n",
              "    <tr>\n",
              "      <th>1118017</th>\n",
              "      <td>Neural_Networks</td>\n",
              "      <td>Neural_Networks</td>\n",
              "    </tr>\n",
              "    <tr>\n",
              "      <th>49482</th>\n",
              "      <td>Neural_Networks</td>\n",
              "      <td>Neural_Networks</td>\n",
              "    </tr>\n",
              "    <tr>\n",
              "      <th>753265</th>\n",
              "      <td>Neural_Networks</td>\n",
              "      <td>Neural_Networks</td>\n",
              "    </tr>\n",
              "  </tbody>\n",
              "</table>\n",
              "</div>\n",
              "      <button class=\"colab-df-convert\" onclick=\"convertToInteractive('df-e1d34140-2377-4352-bd3b-203ec9a4a8a2')\"\n",
              "              title=\"Convert this dataframe to an interactive table.\"\n",
              "              style=\"display:none;\">\n",
              "        \n",
              "  <svg xmlns=\"http://www.w3.org/2000/svg\" height=\"24px\"viewBox=\"0 0 24 24\"\n",
              "       width=\"24px\">\n",
              "    <path d=\"M0 0h24v24H0V0z\" fill=\"none\"/>\n",
              "    <path d=\"M18.56 5.44l.94 2.06.94-2.06 2.06-.94-2.06-.94-.94-2.06-.94 2.06-2.06.94zm-11 1L8.5 8.5l.94-2.06 2.06-.94-2.06-.94L8.5 2.5l-.94 2.06-2.06.94zm10 10l.94 2.06.94-2.06 2.06-.94-2.06-.94-.94-2.06-.94 2.06-2.06.94z\"/><path d=\"M17.41 7.96l-1.37-1.37c-.4-.4-.92-.59-1.43-.59-.52 0-1.04.2-1.43.59L10.3 9.45l-7.72 7.72c-.78.78-.78 2.05 0 2.83L4 21.41c.39.39.9.59 1.41.59.51 0 1.02-.2 1.41-.59l7.78-7.78 2.81-2.81c.8-.78.8-2.07 0-2.86zM5.41 20L4 18.59l7.72-7.72 1.47 1.35L5.41 20z\"/>\n",
              "  </svg>\n",
              "      </button>\n",
              "      \n",
              "  <style>\n",
              "    .colab-df-container {\n",
              "      display:flex;\n",
              "      flex-wrap:wrap;\n",
              "      gap: 12px;\n",
              "    }\n",
              "\n",
              "    .colab-df-convert {\n",
              "      background-color: #E8F0FE;\n",
              "      border: none;\n",
              "      border-radius: 50%;\n",
              "      cursor: pointer;\n",
              "      display: none;\n",
              "      fill: #1967D2;\n",
              "      height: 32px;\n",
              "      padding: 0 0 0 0;\n",
              "      width: 32px;\n",
              "    }\n",
              "\n",
              "    .colab-df-convert:hover {\n",
              "      background-color: #E2EBFA;\n",
              "      box-shadow: 0px 1px 2px rgba(60, 64, 67, 0.3), 0px 1px 3px 1px rgba(60, 64, 67, 0.15);\n",
              "      fill: #174EA6;\n",
              "    }\n",
              "\n",
              "    [theme=dark] .colab-df-convert {\n",
              "      background-color: #3B4455;\n",
              "      fill: #D2E3FC;\n",
              "    }\n",
              "\n",
              "    [theme=dark] .colab-df-convert:hover {\n",
              "      background-color: #434B5C;\n",
              "      box-shadow: 0px 1px 3px 1px rgba(0, 0, 0, 0.15);\n",
              "      filter: drop-shadow(0px 1px 2px rgba(0, 0, 0, 0.3));\n",
              "      fill: #FFFFFF;\n",
              "    }\n",
              "  </style>\n",
              "\n",
              "      <script>\n",
              "        const buttonEl =\n",
              "          document.querySelector('#df-e1d34140-2377-4352-bd3b-203ec9a4a8a2 button.colab-df-convert');\n",
              "        buttonEl.style.display =\n",
              "          google.colab.kernel.accessAllowed ? 'block' : 'none';\n",
              "\n",
              "        async function convertToInteractive(key) {\n",
              "          const element = document.querySelector('#df-e1d34140-2377-4352-bd3b-203ec9a4a8a2');\n",
              "          const dataTable =\n",
              "            await google.colab.kernel.invokeFunction('convertToInteractive',\n",
              "                                                     [key], {});\n",
              "          if (!dataTable) return;\n",
              "\n",
              "          const docLinkHtml = 'Like what you see? Visit the ' +\n",
              "            '<a target=\"_blank\" href=https://colab.research.google.com/notebooks/data_table.ipynb>data table notebook</a>'\n",
              "            + ' to learn more about interactive tables.';\n",
              "          element.innerHTML = '';\n",
              "          dataTable['output_type'] = 'display_data';\n",
              "          await google.colab.output.renderOutput(dataTable, element);\n",
              "          const docLink = document.createElement('div');\n",
              "          docLink.innerHTML = docLinkHtml;\n",
              "          element.appendChild(docLink);\n",
              "        }\n",
              "      </script>\n",
              "    </div>\n",
              "  </div>\n",
              "  "
            ]
          },
          "metadata": {},
          "execution_count": 105
        }
      ]
    },
    {
      "cell_type": "markdown",
      "source": [
        "###Node Embeddings"
      ],
      "metadata": {
        "id": "jZsSg1y2en1K"
      }
    },
    {
      "cell_type": "code",
      "source": [
        "emb_layer = next(l for l in model.layers if l.name.startswith(\"graph_attention\"))\n",
        "print(\n",
        "    \"Embedding layer: {}, output shape {}\".format(emb_layer.name, emb_layer.output_shape)\n",
        ")"
      ],
      "metadata": {
        "colab": {
          "base_uri": "https://localhost:8080/"
        },
        "id": "TPi8kD-meYfb",
        "outputId": "888c6ccc-6ff2-4160-915c-244ad812427c"
      },
      "execution_count": null,
      "outputs": [
        {
          "output_type": "stream",
          "name": "stdout",
          "text": [
            "Embedding layer: graph_attention_sparse_2, output shape (1, 2708, 64)\n"
          ]
        }
      ]
    },
    {
      "cell_type": "code",
      "source": [
        "embedding_model = Model(inputs=x_inp, outputs=emb_layer.output)"
      ],
      "metadata": {
        "id": "DESe5Y6jeYck"
      },
      "execution_count": null,
      "outputs": []
    },
    {
      "cell_type": "markdown",
      "source": [
        "The embeddings can now be calculated using the predict function. Note that the embeddings returned are 64 dimensional features (8 dimensions for each of the 8 attention heads) for all nodes."
      ],
      "metadata": {
        "id": "uIzx-wOSexvc"
      }
    },
    {
      "cell_type": "code",
      "source": [
        "emb = embedding_model.predict(all_gen)\n",
        "emb.shape"
      ],
      "metadata": {
        "colab": {
          "base_uri": "https://localhost:8080/"
        },
        "id": "jmJ19W-neYZr",
        "outputId": "c33be10a-46f2-4e9e-8f0e-0b249d0d30ad"
      },
      "execution_count": null,
      "outputs": [
        {
          "output_type": "stream",
          "name": "stderr",
          "text": [
            "WARNING:tensorflow:6 out of the last 6 calls to <function Model.make_predict_function.<locals>.predict_function at 0x7fc8743b7290> triggered tf.function retracing. Tracing is expensive and the excessive number of tracings could be due to (1) creating @tf.function repeatedly in a loop, (2) passing tensors with different shapes, (3) passing Python objects instead of tensors. For (1), please define your @tf.function outside of the loop. For (2), @tf.function has reduce_retracing=True option that can avoid unnecessary retracing. For (3), please refer to https://www.tensorflow.org/guide/function#controlling_retracing and https://www.tensorflow.org/api_docs/python/tf/function for  more details.\n"
          ]
        },
        {
          "output_type": "stream",
          "name": "stdout",
          "text": [
            "1/1 [==============================] - 1s 1s/step\n"
          ]
        },
        {
          "output_type": "execute_result",
          "data": {
            "text/plain": [
              "(1, 2708, 64)"
            ]
          },
          "metadata": {},
          "execution_count": 108
        }
      ]
    },
    {
      "cell_type": "markdown",
      "source": [
        "Projecting the embeddings to 2d using either TSNE or PCA transform, and visualise, coloring nodes by their true subject label"
      ],
      "metadata": {
        "id": "14PHSI1Ne3-e"
      }
    },
    {
      "cell_type": "code",
      "source": [
        "from sklearn.decomposition import PCA\n",
        "from sklearn.manifold import TSNE\n",
        "import pandas as pd\n",
        "import numpy as np"
      ],
      "metadata": {
        "id": "-W01jWhyeYWm"
      },
      "execution_count": null,
      "outputs": []
    },
    {
      "cell_type": "code",
      "source": [
        "X = emb.squeeze()\n",
        "y = np.argmax(target_encoding.transform(node_subjects), axis=1)"
      ],
      "metadata": {
        "id": "Ayj5ISy0eYT5"
      },
      "execution_count": null,
      "outputs": []
    },
    {
      "cell_type": "code",
      "source": [
        "if X.shape[1] > 2:\n",
        "    transform = TSNE  # PCA\n",
        "\n",
        "    trans = transform(n_components=2)\n",
        "    emb_transformed = pd.DataFrame(trans.fit_transform(X), index=list(G.nodes()))\n",
        "    emb_transformed[\"label\"] = y\n",
        "else:\n",
        "    emb_transformed = pd.DataFrame(X, index=list(G.nodes()))\n",
        "    emb_transformed = emb_transformed.rename(columns={\"0\": 0, \"1\": 1})\n",
        "    emb_transformed[\"label\"] = y"
      ],
      "metadata": {
        "colab": {
          "base_uri": "https://localhost:8080/"
        },
        "id": "wkn95QEpeYRH",
        "outputId": "23579215-5966-4ba5-d893-1ffecb85e20e"
      },
      "execution_count": null,
      "outputs": [
        {
          "output_type": "stream",
          "name": "stderr",
          "text": [
            "/usr/local/lib/python3.7/dist-packages/sklearn/manifold/_t_sne.py:783: FutureWarning: The default initialization in TSNE will change from 'random' to 'pca' in 1.2.\n",
            "  FutureWarning,\n",
            "/usr/local/lib/python3.7/dist-packages/sklearn/manifold/_t_sne.py:793: FutureWarning: The default learning rate in TSNE will change from 200.0 to 'auto' in 1.2.\n",
            "  FutureWarning,\n"
          ]
        }
      ]
    },
    {
      "cell_type": "code",
      "source": [
        "alpha = 0.7\n",
        "\n",
        "fig, ax = plt.subplots(figsize=(7, 7))\n",
        "ax.scatter(\n",
        "    emb_transformed[0],\n",
        "    emb_transformed[1],\n",
        "    c=emb_transformed[\"label\"].astype(\"category\"),\n",
        "    cmap=\"jet\",\n",
        "    alpha=alpha,\n",
        ")\n",
        "ax.set(aspect=\"equal\", xlabel=\"$X_1$\", ylabel=\"$X_2$\")\n",
        "plt.title(\n",
        "    \"{} visualization of GAT embeddings for cora dataset\".format(transform.__name__)\n",
        ")\n",
        "plt.show()"
      ],
      "metadata": {
        "colab": {
          "base_uri": "https://localhost:8080/",
          "height": 454
        },
        "id": "poupdFz4fMkt",
        "outputId": "131fb5e4-fa35-4c64-f456-670b748f50b9"
      },
      "execution_count": null,
      "outputs": [
        {
          "output_type": "display_data",
          "data": {
            "text/plain": [
              "<Figure size 504x504 with 1 Axes>"
            ],
            "image/png": "[encoded data removed]"
          },
          "metadata": {
            "needs_background": "light"
          }
        }
      ]
    },
    {
      "cell_type": "markdown",
      "source": [
        "#References:\n",
        "#####https://stellargraph.readthedocs.io/en/stable/demos/node-classification/gcn-node-classification.html\n",
        "#####https://stellargraph.readthedocs.io/en/stable/demos/node-classification/gat-node-classification.html"
      ],
      "metadata": {
        "id": "3xuOdyZRfP8y"
      }
    }
  ],
  "metadata": {
    "kernelspec": {
      "display_name": "Python 3",
      "language": "python",
      "name": "python3"
    },
    "language_info": {
      "codemirror_mode": {
        "name": "ipython",
        "version": 3
      },
      "file_extension": ".py",
      "mimetype": "text/x-python",
      "name": "python",
      "nbconvert_exporter": "python",
      "pygments_lexer": "ipython3",
      "version": "3.6.9"
    },
    "colab": {
      "provenance": [],
      "collapsed_sections": [],
      "include_colab_link": true
    },
    "accelerator": "GPU"
  },
  "nbformat": 4,
  "nbformat_minor": 0
}