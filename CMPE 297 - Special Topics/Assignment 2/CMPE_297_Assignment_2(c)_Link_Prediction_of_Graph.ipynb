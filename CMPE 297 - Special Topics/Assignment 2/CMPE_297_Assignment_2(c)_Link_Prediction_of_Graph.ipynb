{
  "nbformat": 4,
  "nbformat_minor": 0,
  "metadata": {
    "colab": {
      "provenance": [],
      "collapsed_sections": [],
      "include_colab_link": true
    },
    "kernelspec": {
      "name": "python3",
      "display_name": "Python 3"
    },
    "language_info": {
      "name": "python"
    },
    "accelerator": "GPU"
  },
  "cells": [
    {
      "cell_type": "markdown",
      "metadata": {
        "id": "view-in-github",
        "colab_type": "text"
      },
      "source": [
        "<a href=\"https://colab.research.google.com/github/Khushil-Modi/SJSU/blob/main/CMPE%20297/Assignment%202/CMPE_297_Assignment_2(c)_Link_Prediction_of_Graph.ipynb\" target=\"_parent\"><img src=\"https://colab.research.google.com/assets/colab-badge.svg\" alt=\"Open In Colab\"/></a>"
      ]
    },
    {
      "cell_type": "markdown",
      "source": [
        "#Installing Libraries"
      ],
      "metadata": {
        "id": "9AVwts8OH4dw"
      }
    },
    {
      "cell_type": "code",
      "source": [
        "!pip install torch_geometric"
      ],
      "metadata": {
        "colab": {
          "base_uri": "https://localhost:8080/"
        },
        "id": "5N29LNidx5YZ",
        "outputId": "077add5d-6548-4dcb-e4d8-dcd489cd65db"
      },
      "execution_count": 27,
      "outputs": [
        {
          "output_type": "stream",
          "name": "stdout",
          "text": [
            "Looking in indexes: https://pypi.org/simple, https://us-python.pkg.dev/colab-wheels/public/simple/\n",
            "Requirement already satisfied: torch_geometric in /usr/local/lib/python3.7/dist-packages (2.1.0.post1)\n",
            "Requirement already satisfied: scipy in /usr/local/lib/python3.7/dist-packages (from torch_geometric) (1.7.3)\n",
            "Requirement already satisfied: pyparsing in /usr/local/lib/python3.7/dist-packages (from torch_geometric) (3.0.9)\n",
            "Requirement already satisfied: requests in /usr/local/lib/python3.7/dist-packages (from torch_geometric) (2.23.0)\n",
            "Requirement already satisfied: scikit-learn in /usr/local/lib/python3.7/dist-packages (from torch_geometric) (1.0.2)\n",
            "Requirement already satisfied: tqdm in /usr/local/lib/python3.7/dist-packages (from torch_geometric) (4.64.1)\n",
            "Requirement already satisfied: jinja2 in /usr/local/lib/python3.7/dist-packages (from torch_geometric) (2.11.3)\n",
            "Requirement already satisfied: numpy in /usr/local/lib/python3.7/dist-packages (from torch_geometric) (1.21.6)\n",
            "Requirement already satisfied: MarkupSafe>=0.23 in /usr/local/lib/python3.7/dist-packages (from jinja2->torch_geometric) (2.0.1)\n",
            "Requirement already satisfied: chardet<4,>=3.0.2 in /usr/local/lib/python3.7/dist-packages (from requests->torch_geometric) (3.0.4)\n",
            "Requirement already satisfied: urllib3!=1.25.0,!=1.25.1,<1.26,>=1.21.1 in /usr/local/lib/python3.7/dist-packages (from requests->torch_geometric) (1.24.3)\n",
            "Requirement already satisfied: certifi>=2017.4.17 in /usr/local/lib/python3.7/dist-packages (from requests->torch_geometric) (2022.9.24)\n",
            "Requirement already satisfied: idna<3,>=2.5 in /usr/local/lib/python3.7/dist-packages (from requests->torch_geometric) (2.10)\n",
            "Requirement already satisfied: joblib>=0.11 in /usr/local/lib/python3.7/dist-packages (from scikit-learn->torch_geometric) (1.2.0)\n",
            "Requirement already satisfied: threadpoolctl>=2.0.0 in /usr/local/lib/python3.7/dist-packages (from scikit-learn->torch_geometric) (3.1.0)\n"
          ]
        }
      ]
    },
    {
      "cell_type": "code",
      "source": [
        "!pip install torch_sparse"
      ],
      "metadata": {
        "colab": {
          "base_uri": "https://localhost:8080/"
        },
        "id": "FNmwi5ldyEso",
        "outputId": "73ab634c-fd81-4b11-c7e8-a0a011bb6ff7"
      },
      "execution_count": 28,
      "outputs": [
        {
          "output_type": "stream",
          "name": "stdout",
          "text": [
            "Looking in indexes: https://pypi.org/simple, https://us-python.pkg.dev/colab-wheels/public/simple/\n",
            "Requirement already satisfied: torch_sparse in /usr/local/lib/python3.7/dist-packages (0.6.15)\n",
            "Requirement already satisfied: scipy in /usr/local/lib/python3.7/dist-packages (from torch_sparse) (1.7.3)\n",
            "Requirement already satisfied: numpy<1.23.0,>=1.16.5 in /usr/local/lib/python3.7/dist-packages (from scipy->torch_sparse) (1.21.6)\n"
          ]
        }
      ]
    },
    {
      "cell_type": "code",
      "source": [
        "!pip install torch_scatter"
      ],
      "metadata": {
        "colab": {
          "base_uri": "https://localhost:8080/"
        },
        "id": "EdgaFd3H2tb2",
        "outputId": "4772fec3-15dd-4adb-a976-7228c8afa086"
      },
      "execution_count": 29,
      "outputs": [
        {
          "output_type": "stream",
          "name": "stdout",
          "text": [
            "Looking in indexes: https://pypi.org/simple, https://us-python.pkg.dev/colab-wheels/public/simple/\n",
            "Requirement already satisfied: torch_scatter in /usr/local/lib/python3.7/dist-packages (2.0.9)\n"
          ]
        }
      ]
    },
    {
      "cell_type": "markdown",
      "source": [
        "#Importing Libraries"
      ],
      "metadata": {
        "id": "CMC2-7T7H7ni"
      }
    },
    {
      "cell_type": "code",
      "source": [
        "import os.path as osp\n",
        "\n",
        "import torch\n",
        "from sklearn.metrics import roc_auc_score\n",
        "\n",
        "import torch_geometric.transforms as T\n",
        "from torch_geometric.datasets import Planetoid\n",
        "from torch_geometric.nn import GCNConv\n",
        "from torch_geometric.utils import negative_sampling"
      ],
      "metadata": {
        "id": "poY6QfTPHvwX"
      },
      "execution_count": 39,
      "outputs": []
    },
    {
      "cell_type": "code",
      "source": [
        "device = torch.device('cuda' if torch.cuda.is_available() else 'cpu')"
      ],
      "metadata": {
        "id": "DFjVOmUB4dW3"
      },
      "execution_count": 40,
      "outputs": []
    },
    {
      "cell_type": "code",
      "source": [
        "transform = T.Compose([\n",
        "    T.NormalizeFeatures(),\n",
        "    T.ToDevice(device),\n",
        "    T.RandomLinkSplit(num_val=0.05, num_test=0.1, is_undirected=True,\n",
        "                      add_negative_train_samples=False),\n",
        "])"
      ],
      "metadata": {
        "id": "TKXw1D9o4e76"
      },
      "execution_count": 41,
      "outputs": []
    },
    {
      "cell_type": "markdown",
      "source": [
        "## Data Preparation"
      ],
      "metadata": {
        "id": "Ymp7Ta2NKZ5Q"
      }
    },
    {
      "cell_type": "code",
      "source": [
        "dataset = 'Cora'\n",
        "path = osp.join('.', 'data', dataset)\n",
        "#path = osp.join(osp.dirname(osp.realpath(__file__)), '..', 'data', 'Planetoid')\n",
        "dataset = Planetoid(path, name='Cora', transform=transform)"
      ],
      "metadata": {
        "id": "a4LU8OBy4hLa"
      },
      "execution_count": 42,
      "outputs": []
    },
    {
      "cell_type": "code",
      "source": [
        "# After applying the `RandomLinkSplit` transform, the data is transformed from\n",
        "# a data object to a list of tuples (train_data, val_data, test_data), with\n",
        "# each element representing the corresponding split.\n",
        "train_data, val_data, test_data = dataset[0]"
      ],
      "metadata": {
        "id": "KnCYSZ1Y49xH"
      },
      "execution_count": 43,
      "outputs": []
    },
    {
      "cell_type": "markdown",
      "source": [
        "##Training the Model"
      ],
      "metadata": {
        "id": "0REhz3NfIFXB"
      }
    },
    {
      "cell_type": "code",
      "source": [
        "class Net(torch.nn.Module):\n",
        "    def __init__(self, in_channels, hidden_channels, out_channels):\n",
        "        super().__init__()\n",
        "        self.conv1 = GCNConv(in_channels, hidden_channels)\n",
        "        self.conv2 = GCNConv(hidden_channels, out_channels)\n",
        "\n",
        "    def encode(self, x, edge_index):\n",
        "        x = self.conv1(x, edge_index).relu()\n",
        "        return self.conv2(x, edge_index)\n",
        "\n",
        "    def decode(self, z, edge_label_index):\n",
        "        return (z[edge_label_index[0]] * z[edge_label_index[1]]).sum(dim=-1)\n",
        "\n",
        "    def decode_all(self, z):\n",
        "        prob_adj = z @ z.t()\n",
        "        return (prob_adj > 0).nonzero(as_tuple=False).t()"
      ],
      "metadata": {
        "id": "YIxW4OgB5A0F"
      },
      "execution_count": 44,
      "outputs": []
    },
    {
      "cell_type": "code",
      "source": [
        "model = Net(dataset.num_features, 128, 64).to(device)\n",
        "optimizer = torch.optim.Adam(params=model.parameters(), lr=0.01)\n",
        "criterion = torch.nn.BCEWithLogitsLoss()"
      ],
      "metadata": {
        "id": "4MzN6D335B0S"
      },
      "execution_count": 45,
      "outputs": []
    },
    {
      "cell_type": "code",
      "source": [
        "def train():\n",
        "    model.train()\n",
        "    optimizer.zero_grad()\n",
        "    z = model.encode(train_data.x, train_data.edge_index)\n",
        "\n",
        "    # We perform a new round of negative sampling for every training epoch:\n",
        "    neg_edge_index = negative_sampling(\n",
        "        edge_index=train_data.edge_index, num_nodes=train_data.num_nodes,\n",
        "        num_neg_samples=train_data.edge_label_index.size(1), method='sparse')\n",
        "\n",
        "    edge_label_index = torch.cat(\n",
        "        [train_data.edge_label_index, neg_edge_index],\n",
        "        dim=-1,\n",
        "    )\n",
        "    edge_label = torch.cat([\n",
        "        train_data.edge_label,\n",
        "        train_data.edge_label.new_zeros(neg_edge_index.size(1))\n",
        "    ], dim=0)\n",
        "\n",
        "    out = model.decode(z, edge_label_index).view(-1)\n",
        "    loss = criterion(out, edge_label)\n",
        "    loss.backward()\n",
        "    optimizer.step()\n",
        "    return loss"
      ],
      "metadata": {
        "id": "wVHtaLXC5FTt"
      },
      "execution_count": 46,
      "outputs": []
    },
    {
      "cell_type": "markdown",
      "source": [
        "Training the model"
      ],
      "metadata": {
        "id": "LNV4gFcYKPZ2"
      }
    },
    {
      "cell_type": "code",
      "source": [
        "@torch.no_grad()\n",
        "def test(data):\n",
        "    model.eval()\n",
        "    z = model.encode(data.x, data.edge_index)\n",
        "    out = model.decode(z, data.edge_label_index).view(-1).sigmoid()\n",
        "    return roc_auc_score(data.edge_label.cpu().numpy(), out.cpu().numpy())\n",
        "\n",
        "\n",
        "best_val_auc = final_test_auc = 0\n",
        "for epoch in range(1, 101):\n",
        "    loss = train()\n",
        "    val_auc = test(val_data)\n",
        "    test_auc = test(test_data)\n",
        "    if val_auc > best_val_auc:\n",
        "        best_val_auc = val_auc\n",
        "        final_test_auc = test_auc\n",
        "    print(f'Epoch: {epoch:03d}, Loss: {loss:.4f}, Val: {val_auc:.4f}, '\n",
        "          f'Test: {test_auc:.4f}')"
      ],
      "metadata": {
        "id": "MiEniC1J5F8m",
        "colab": {
          "base_uri": "https://localhost:8080/"
        },
        "outputId": "c97b438a-6d0e-4e77-d585-0d30ac84c429"
      },
      "execution_count": 47,
      "outputs": [
        {
          "output_type": "stream",
          "name": "stdout",
          "text": [
            "Epoch: 001, Loss: 0.6930, Val: 0.7007, Test: 0.6935\n",
            "Epoch: 002, Loss: 0.6802, Val: 0.6933, Test: 0.6887\n",
            "Epoch: 003, Loss: 0.7094, Val: 0.6932, Test: 0.6955\n",
            "Epoch: 004, Loss: 0.6747, Val: 0.6991, Test: 0.7176\n",
            "Epoch: 005, Loss: 0.6856, Val: 0.7607, Test: 0.7772\n",
            "Epoch: 006, Loss: 0.6901, Val: 0.7302, Test: 0.7539\n",
            "Epoch: 007, Loss: 0.6916, Val: 0.6285, Test: 0.6551\n",
            "Epoch: 008, Loss: 0.6920, Val: 0.6110, Test: 0.6320\n",
            "Epoch: 009, Loss: 0.6917, Val: 0.6297, Test: 0.6482\n",
            "Epoch: 010, Loss: 0.6906, Val: 0.6496, Test: 0.6667\n",
            "Epoch: 011, Loss: 0.6884, Val: 0.6662, Test: 0.6782\n",
            "Epoch: 012, Loss: 0.6847, Val: 0.6774, Test: 0.6856\n",
            "Epoch: 013, Loss: 0.6800, Val: 0.6865, Test: 0.6922\n",
            "Epoch: 014, Loss: 0.6777, Val: 0.6917, Test: 0.7023\n",
            "Epoch: 015, Loss: 0.6757, Val: 0.6882, Test: 0.7108\n",
            "Epoch: 016, Loss: 0.6703, Val: 0.6838, Test: 0.7165\n",
            "Epoch: 017, Loss: 0.6642, Val: 0.6810, Test: 0.7198\n",
            "Epoch: 018, Loss: 0.6598, Val: 0.6847, Test: 0.7250\n",
            "Epoch: 019, Loss: 0.6547, Val: 0.6942, Test: 0.7346\n",
            "Epoch: 020, Loss: 0.6480, Val: 0.7079, Test: 0.7472\n",
            "Epoch: 021, Loss: 0.6400, Val: 0.7249, Test: 0.7651\n",
            "Epoch: 022, Loss: 0.6266, Val: 0.7426, Test: 0.7882\n",
            "Epoch: 023, Loss: 0.6155, Val: 0.7550, Test: 0.8079\n",
            "Epoch: 024, Loss: 0.6003, Val: 0.7550, Test: 0.8133\n",
            "Epoch: 025, Loss: 0.5883, Val: 0.7553, Test: 0.8142\n",
            "Epoch: 026, Loss: 0.5794, Val: 0.7539, Test: 0.8124\n",
            "Epoch: 027, Loss: 0.5615, Val: 0.7497, Test: 0.8109\n",
            "Epoch: 028, Loss: 0.5603, Val: 0.7516, Test: 0.8091\n",
            "Epoch: 029, Loss: 0.5539, Val: 0.7594, Test: 0.8125\n",
            "Epoch: 030, Loss: 0.5429, Val: 0.7696, Test: 0.8166\n",
            "Epoch: 031, Loss: 0.5419, Val: 0.7829, Test: 0.8222\n",
            "Epoch: 032, Loss: 0.5361, Val: 0.7942, Test: 0.8260\n",
            "Epoch: 033, Loss: 0.5334, Val: 0.8044, Test: 0.8294\n",
            "Epoch: 034, Loss: 0.5282, Val: 0.8109, Test: 0.8339\n",
            "Epoch: 035, Loss: 0.5167, Val: 0.8150, Test: 0.8348\n",
            "Epoch: 036, Loss: 0.5146, Val: 0.8152, Test: 0.8336\n",
            "Epoch: 037, Loss: 0.5129, Val: 0.8127, Test: 0.8310\n",
            "Epoch: 038, Loss: 0.5045, Val: 0.8147, Test: 0.8310\n",
            "Epoch: 039, Loss: 0.5101, Val: 0.8165, Test: 0.8331\n",
            "Epoch: 040, Loss: 0.5135, Val: 0.8163, Test: 0.8352\n",
            "Epoch: 041, Loss: 0.5110, Val: 0.8166, Test: 0.8355\n",
            "Epoch: 042, Loss: 0.5031, Val: 0.8200, Test: 0.8371\n",
            "Epoch: 043, Loss: 0.4972, Val: 0.8227, Test: 0.8411\n",
            "Epoch: 044, Loss: 0.4985, Val: 0.8257, Test: 0.8470\n",
            "Epoch: 045, Loss: 0.4994, Val: 0.8276, Test: 0.8511\n",
            "Epoch: 046, Loss: 0.4944, Val: 0.8300, Test: 0.8547\n",
            "Epoch: 047, Loss: 0.4960, Val: 0.8320, Test: 0.8570\n",
            "Epoch: 048, Loss: 0.4936, Val: 0.8346, Test: 0.8602\n",
            "Epoch: 049, Loss: 0.4932, Val: 0.8385, Test: 0.8632\n",
            "Epoch: 050, Loss: 0.4822, Val: 0.8426, Test: 0.8657\n",
            "Epoch: 051, Loss: 0.4874, Val: 0.8473, Test: 0.8690\n",
            "Epoch: 052, Loss: 0.4749, Val: 0.8528, Test: 0.8743\n",
            "Epoch: 053, Loss: 0.4796, Val: 0.8571, Test: 0.8792\n",
            "Epoch: 054, Loss: 0.4766, Val: 0.8602, Test: 0.8823\n",
            "Epoch: 055, Loss: 0.4745, Val: 0.8634, Test: 0.8844\n",
            "Epoch: 056, Loss: 0.4756, Val: 0.8651, Test: 0.8859\n",
            "Epoch: 057, Loss: 0.4790, Val: 0.8652, Test: 0.8872\n",
            "Epoch: 058, Loss: 0.4682, Val: 0.8659, Test: 0.8875\n",
            "Epoch: 059, Loss: 0.4782, Val: 0.8669, Test: 0.8869\n",
            "Epoch: 060, Loss: 0.4717, Val: 0.8672, Test: 0.8872\n",
            "Epoch: 061, Loss: 0.4635, Val: 0.8676, Test: 0.8886\n",
            "Epoch: 062, Loss: 0.4697, Val: 0.8655, Test: 0.8885\n",
            "Epoch: 063, Loss: 0.4727, Val: 0.8635, Test: 0.8890\n",
            "Epoch: 064, Loss: 0.4632, Val: 0.8635, Test: 0.8873\n",
            "Epoch: 065, Loss: 0.4723, Val: 0.8660, Test: 0.8895\n",
            "Epoch: 066, Loss: 0.4618, Val: 0.8670, Test: 0.8911\n",
            "Epoch: 067, Loss: 0.4612, Val: 0.8653, Test: 0.8915\n",
            "Epoch: 068, Loss: 0.4642, Val: 0.8639, Test: 0.8915\n",
            "Epoch: 069, Loss: 0.4613, Val: 0.8647, Test: 0.8911\n",
            "Epoch: 070, Loss: 0.4655, Val: 0.8677, Test: 0.8915\n",
            "Epoch: 071, Loss: 0.4605, Val: 0.8697, Test: 0.8925\n",
            "Epoch: 072, Loss: 0.4588, Val: 0.8706, Test: 0.8936\n",
            "Epoch: 073, Loss: 0.4589, Val: 0.8696, Test: 0.8945\n",
            "Epoch: 074, Loss: 0.4559, Val: 0.8710, Test: 0.8952\n",
            "Epoch: 075, Loss: 0.4546, Val: 0.8744, Test: 0.8964\n",
            "Epoch: 076, Loss: 0.4481, Val: 0.8769, Test: 0.8970\n",
            "Epoch: 077, Loss: 0.4527, Val: 0.8781, Test: 0.8976\n",
            "Epoch: 078, Loss: 0.4596, Val: 0.8763, Test: 0.8980\n",
            "Epoch: 079, Loss: 0.4566, Val: 0.8766, Test: 0.8974\n",
            "Epoch: 080, Loss: 0.4502, Val: 0.8777, Test: 0.8970\n",
            "Epoch: 081, Loss: 0.4542, Val: 0.8802, Test: 0.8992\n",
            "Epoch: 082, Loss: 0.4569, Val: 0.8805, Test: 0.8996\n",
            "Epoch: 083, Loss: 0.4512, Val: 0.8803, Test: 0.8988\n",
            "Epoch: 084, Loss: 0.4513, Val: 0.8798, Test: 0.8981\n",
            "Epoch: 085, Loss: 0.4473, Val: 0.8798, Test: 0.8977\n",
            "Epoch: 086, Loss: 0.4514, Val: 0.8805, Test: 0.8984\n",
            "Epoch: 087, Loss: 0.4492, Val: 0.8816, Test: 0.8994\n",
            "Epoch: 088, Loss: 0.4404, Val: 0.8837, Test: 0.8997\n",
            "Epoch: 089, Loss: 0.4521, Val: 0.8846, Test: 0.8978\n",
            "Epoch: 090, Loss: 0.4382, Val: 0.8859, Test: 0.8969\n",
            "Epoch: 091, Loss: 0.4559, Val: 0.8854, Test: 0.8966\n",
            "Epoch: 092, Loss: 0.4533, Val: 0.8858, Test: 0.8985\n",
            "Epoch: 093, Loss: 0.4426, Val: 0.8867, Test: 0.9000\n",
            "Epoch: 094, Loss: 0.4481, Val: 0.8882, Test: 0.9004\n",
            "Epoch: 095, Loss: 0.4445, Val: 0.8887, Test: 0.8996\n",
            "Epoch: 096, Loss: 0.4447, Val: 0.8883, Test: 0.8988\n",
            "Epoch: 097, Loss: 0.4477, Val: 0.8882, Test: 0.8993\n",
            "Epoch: 098, Loss: 0.4477, Val: 0.8890, Test: 0.9008\n",
            "Epoch: 099, Loss: 0.4409, Val: 0.8908, Test: 0.9014\n",
            "Epoch: 100, Loss: 0.4410, Val: 0.8914, Test: 0.9017\n"
          ]
        }
      ]
    },
    {
      "cell_type": "code",
      "execution_count": 48,
      "metadata": {
        "colab": {
          "base_uri": "https://localhost:8080/"
        },
        "id": "BsCOxYhAxydz",
        "outputId": "4346df9b-1cb7-451f-8c73-ded8870c42e9"
      },
      "outputs": [
        {
          "output_type": "stream",
          "name": "stdout",
          "text": [
            "Final Test: 0.9017\n"
          ]
        }
      ],
      "source": [
        "print(f'Final Test: {final_test_auc:.4f}')\n",
        "\n",
        "z = model.encode(test_data.x, test_data.edge_index)\n",
        "final_edge_index = model.decode_all(z)"
      ]
    },
    {
      "cell_type": "markdown",
      "source": [
        "#References:\n",
        "\n",
        "https://github.com/pyg-team/pytorch_geometric/blob/master/examples/link_pred.py\n",
        "\n",
        "https://colab.research.google.com/drive/1f2KVSVsk5f4dpZlxNE0RBIHowqDs3KSp#scrollTo=dQ98qUOAt5JK\n",
        "\n",
        "http://cs230.stanford.edu/projects_spring_2020/reports/38854344.pdf"
      ],
      "metadata": {
        "id": "n-ERXV8ZJdEU"
      }
    }
  ]
}